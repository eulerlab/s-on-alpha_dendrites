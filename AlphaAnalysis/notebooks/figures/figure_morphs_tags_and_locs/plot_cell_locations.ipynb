{
 "cells": [
  {
   "cell_type": "code",
   "execution_count": 1,
   "metadata": {},
   "outputs": [],
   "source": [
    "import os\n",
    "import pandas as pd\n",
    "from matplotlib import pyplot as plt"
   ]
  },
  {
   "cell_type": "code",
   "execution_count": 2,
   "metadata": {
    "collapsed": false,
    "jupyter": {
     "outputs_hidden": false
    }
   },
   "outputs": [],
   "source": [
    "%%capture\n",
    "\n",
    "from djimaging.user.alpha.utils import database\n",
    "# Choose indicator by uncommenting one of the following lines\n",
    "#indicator = 'calcium'\n",
    "indicator = 'glutamate'\n",
    "\n",
    "database.connect_dj(indicator=indicator)"
   ]
  },
  {
   "cell_type": "code",
   "execution_count": 3,
   "metadata": {},
   "outputs": [
    {
     "data": {
      "text/html": [
       "<div>\n",
       "<style scoped>\n",
       "    .dataframe tbody tr th:only-of-type {\n",
       "        vertical-align: middle;\n",
       "    }\n",
       "\n",
       "    .dataframe tbody tr th {\n",
       "        vertical-align: top;\n",
       "    }\n",
       "\n",
       "    .dataframe thead th {\n",
       "        text-align: right;\n",
       "    }\n",
       "</style>\n",
       "<table border=\"1\" class=\"dataframe\">\n",
       "  <thead>\n",
       "    <tr style=\"text-align: right;\">\n",
       "      <th></th>\n",
       "      <th></th>\n",
       "    </tr>\n",
       "    <tr>\n",
       "      <th>date</th>\n",
       "      <th>exp_num</th>\n",
       "    </tr>\n",
       "  </thead>\n",
       "  <tbody>\n",
       "    <tr>\n",
       "      <th>2020-06-08</th>\n",
       "      <th>1</th>\n",
       "    </tr>\n",
       "    <tr>\n",
       "      <th>2020-05-11</th>\n",
       "      <th>1</th>\n",
       "    </tr>\n",
       "  </tbody>\n",
       "</table>\n",
       "</div>"
      ],
      "text/plain": [
       "Empty DataFrame\n",
       "Columns: []\n",
       "Index: [(2020-06-08 00:00:00, 1), (2020-05-11 00:00:00, 1)]"
      ]
     },
     "execution_count": 3,
     "metadata": {},
     "output_type": "execute_result"
    }
   ],
   "source": [
    "ca_cells = [\n",
    "    dict(date=\"2020-06-08\", exp_num=1),\n",
    "    dict(date=\"2020-05-11\", exp_num=1),\n",
    "]\n",
    "\n",
    "ca_cells = pd.DataFrame(ca_cells)\n",
    "ca_cells.date = pd.to_datetime(ca_cells.date)\n",
    "ca_cells = ca_cells.set_index(['date', 'exp_num'])\n",
    "ca_cells"
   ]
  },
  {
   "cell_type": "code",
   "execution_count": 4,
   "metadata": {},
   "outputs": [
    {
     "data": {
      "text/html": [
       "<div>\n",
       "<style scoped>\n",
       "    .dataframe tbody tr th:only-of-type {\n",
       "        vertical-align: middle;\n",
       "    }\n",
       "\n",
       "    .dataframe tbody tr th {\n",
       "        vertical-align: top;\n",
       "    }\n",
       "\n",
       "    .dataframe thead th {\n",
       "        text-align: right;\n",
       "    }\n",
       "</style>\n",
       "<table border=\"1\" class=\"dataframe\">\n",
       "  <thead>\n",
       "    <tr style=\"text-align: right;\">\n",
       "      <th></th>\n",
       "      <th></th>\n",
       "      <th>ventral_dorsal_pos</th>\n",
       "      <th>temporal_nasal_pos</th>\n",
       "      <th>group</th>\n",
       "    </tr>\n",
       "    <tr>\n",
       "      <th>date</th>\n",
       "      <th>exp_num</th>\n",
       "      <th></th>\n",
       "      <th></th>\n",
       "      <th></th>\n",
       "    </tr>\n",
       "  </thead>\n",
       "  <tbody>\n",
       "    <tr>\n",
       "      <th rowspan=\"2\" valign=\"top\">2020-11-03</th>\n",
       "      <th>1</th>\n",
       "      <td>0.119786</td>\n",
       "      <td>-0.671256</td>\n",
       "      <td>t</td>\n",
       "    </tr>\n",
       "    <tr>\n",
       "      <th>2</th>\n",
       "      <td>-0.176650</td>\n",
       "      <td>0.698416</td>\n",
       "      <td>n</td>\n",
       "    </tr>\n",
       "    <tr>\n",
       "      <th rowspan=\"5\" valign=\"top\">2020-11-04</th>\n",
       "      <th>1</th>\n",
       "      <td>-0.031509</td>\n",
       "      <td>-0.750169</td>\n",
       "      <td>t</td>\n",
       "    </tr>\n",
       "    <tr>\n",
       "      <th>2</th>\n",
       "      <td>0.043888</td>\n",
       "      <td>-0.935850</td>\n",
       "      <td>t</td>\n",
       "    </tr>\n",
       "    <tr>\n",
       "      <th>3</th>\n",
       "      <td>0.152911</td>\n",
       "      <td>-0.887210</td>\n",
       "      <td>t</td>\n",
       "    </tr>\n",
       "    <tr>\n",
       "      <th>5</th>\n",
       "      <td>0.076545</td>\n",
       "      <td>-0.527138</td>\n",
       "      <td>t</td>\n",
       "    </tr>\n",
       "    <tr>\n",
       "      <th>6</th>\n",
       "      <td>-0.168023</td>\n",
       "      <td>-0.650480</td>\n",
       "      <td>t</td>\n",
       "    </tr>\n",
       "    <tr>\n",
       "      <th rowspan=\"2\" valign=\"top\">2020-11-10</th>\n",
       "      <th>2</th>\n",
       "      <td>-0.491123</td>\n",
       "      <td>0.516102</td>\n",
       "      <td>n</td>\n",
       "    </tr>\n",
       "    <tr>\n",
       "      <th>3</th>\n",
       "      <td>-0.146396</td>\n",
       "      <td>-0.757493</td>\n",
       "      <td>t</td>\n",
       "    </tr>\n",
       "    <tr>\n",
       "      <th>2020-11-11</th>\n",
       "      <th>1</th>\n",
       "      <td>-0.212851</td>\n",
       "      <td>0.454311</td>\n",
       "      <td>n</td>\n",
       "    </tr>\n",
       "    <tr>\n",
       "      <th rowspan=\"2\" valign=\"top\">2020-11-27</th>\n",
       "      <th>1</th>\n",
       "      <td>-0.640289</td>\n",
       "      <td>0.324443</td>\n",
       "      <td>n</td>\n",
       "    </tr>\n",
       "    <tr>\n",
       "      <th>2</th>\n",
       "      <td>-0.504004</td>\n",
       "      <td>0.198443</td>\n",
       "      <td>n</td>\n",
       "    </tr>\n",
       "  </tbody>\n",
       "</table>\n",
       "</div>"
      ],
      "text/plain": [
       "                    ventral_dorsal_pos  temporal_nasal_pos group\n",
       "date       exp_num                                              \n",
       "2020-11-03 1                  0.119786           -0.671256     t\n",
       "           2                 -0.176650            0.698416     n\n",
       "2020-11-04 1                 -0.031509           -0.750169     t\n",
       "           2                  0.043888           -0.935850     t\n",
       "           3                  0.152911           -0.887210     t\n",
       "           5                  0.076545           -0.527138     t\n",
       "           6                 -0.168023           -0.650480     t\n",
       "2020-11-10 2                 -0.491123            0.516102     n\n",
       "           3                 -0.146396           -0.757493     t\n",
       "2020-11-11 1                 -0.212851            0.454311     n\n",
       "2020-11-27 1                 -0.640289            0.324443     n\n",
       "           2                 -0.504004            0.198443     n"
      ]
     },
     "execution_count": 4,
     "metadata": {},
     "output_type": "execute_result"
    }
   ],
   "source": [
    "df_cell_location = database.get_loc_df(roi_kind='soma' if indicator == 'calcium' else 'field',\n",
    "                                       annotate_cells=ca_cells if indicator == 'calcium' else None)\n",
    "df_cell_location"
   ]
  },
  {
   "cell_type": "code",
   "execution_count": 5,
   "metadata": {},
   "outputs": [],
   "source": [
    "from alphaanalysis import plot as plota\n",
    "\n",
    "plota.set_default_params()"
   ]
  },
  {
   "cell_type": "code",
   "execution_count": 6,
   "metadata": {},
   "outputs": [],
   "source": [
    "FIGURE_FOLDER = './figures'"
   ]
  },
  {
   "cell_type": "code",
   "execution_count": 7,
   "metadata": {},
   "outputs": [
    {
     "data": {
      "image/png": "[encoded data removed]",
      "text/plain": [
       "<Figure size 120x120 with 1 Axes>"
      ]
     },
     "metadata": {},
     "output_type": "display_data"
    }
   ],
   "source": [
    "fig, ax = plt.subplots(1, 1, figsize=(1.0, 1.0))\n",
    "\n",
    "plota.plot_cell_locations(\n",
    "    df_cell_location,\n",
    "    indicator=indicator,\n",
    "    text=True,\n",
    "    alpha=0.9,\n",
    "    ax=ax,\n",
    "    s=9,\n",
    ")\n",
    "ax.get_legend().set_visible(False)\n",
    "plt.tight_layout()\n",
    "fig.savefig(os.path.join(FIGURE_FOLDER, f'cell_locations_small_{indicator}.pdf'))"
   ]
  },
  {
   "cell_type": "code",
   "execution_count": 8,
   "metadata": {},
   "outputs": [
    {
     "data": {
      "image/png": "[encoded data removed]",
      "text/plain": [
       "<Figure size 60x60 with 1 Axes>"
      ]
     },
     "metadata": {},
     "output_type": "display_data"
    }
   ],
   "source": [
    "fig, ax = plt.subplots(1, 1, figsize=(0.5, 0.5))\n",
    "\n",
    "plota.plot_cell_locations(\n",
    "    df_cell_location,\n",
    "    indicator=indicator,\n",
    "    text=False,\n",
    "    alpha=0.9,\n",
    "    ax=ax,\n",
    "    s=5,\n",
    "    clip_on=False,\n",
    ")\n",
    "ax.get_legend().set_visible(False)\n",
    "plt.tight_layout()\n",
    "fig.savefig(os.path.join(FIGURE_FOLDER, f'cell_locations_tiny_{indicator}.pdf'))"
   ]
  },
  {
   "cell_type": "code",
   "execution_count": null,
   "metadata": {},
   "outputs": [],
   "source": []
  }
 ],
 "metadata": {
  "kernelspec": {
   "display_name": "Python 3 (ipykernel)",
   "language": "python",
   "name": "python3"
  },
  "language_info": {
   "codemirror_mode": {
    "name": "ipython",
    "version": 3
   },
   "file_extension": ".py",
   "mimetype": "text/x-python",
   "name": "python",
   "nbconvert_exporter": "python",
   "pygments_lexer": "ipython3",
   "version": "3.10.12"
  }
 },
 "nbformat": 4,
 "nbformat_minor": 4
}
