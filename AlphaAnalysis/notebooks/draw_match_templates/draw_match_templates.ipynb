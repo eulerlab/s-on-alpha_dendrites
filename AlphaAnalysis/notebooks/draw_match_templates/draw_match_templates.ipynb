{
 "cells": [
  {
   "cell_type": "markdown",
   "id": "56324479-4b5c-483c-b598-ef0f35be9e27",
   "metadata": {},
   "source": [
    "# Imports"
   ]
  },
  {
   "cell_type": "code",
   "execution_count": null,
   "id": "f71fa98f-3177-4eb0-b57b-6755b3dc0ae8",
   "metadata": {
    "ExecuteTime": {
     "end_time": "2023-05-31T07:52:43.568063400Z",
     "start_time": "2023-05-31T07:52:40.222080700Z"
    }
   },
   "outputs": [],
   "source": [
    "from matplotlib import pyplot as plt"
   ]
  },
  {
   "cell_type": "code",
   "execution_count": null,
   "id": "94cddf79-9062-4c13-b5e9-a6413af00f76",
   "metadata": {
    "ExecuteTime": {
     "end_time": "2023-05-31T07:52:58.465721Z",
     "start_time": "2023-05-31T07:52:55.507325Z"
    }
   },
   "outputs": [],
   "source": [
    "%%capture\n",
    "\n",
    "from djimaging.user.alpha.schemas.alpha_schema import *\n",
    "from djimaging.user.alpha.utils import populate_alpha\n",
    "\n",
    "populate_alpha.load_alpha_config(schema_name=populate_alpha.SCHEMA_PREFIX + \"glu\")\n",
    "populate_alpha.load_alpha_schema(create_schema=False, create_tables=False)"
   ]
  },
  {
   "cell_type": "code",
   "execution_count": null,
   "id": "03d35b85-fedf-4634-9d9e-156cf8559993",
   "metadata": {
    "ExecuteTime": {
     "end_time": "2023-05-31T07:52:58.789628700Z",
     "start_time": "2023-05-31T07:52:58.118369700Z"
    }
   },
   "outputs": [],
   "source": [
    "schema"
   ]
  },
  {
   "cell_type": "markdown",
   "id": "2ca8f908-ee18-45b8-abd7-b0967d3ff3dc",
   "metadata": {},
   "source": [
    "# Draw templates"
   ]
  },
  {
   "cell_type": "code",
   "execution_count": null,
   "id": "e9845d98-ed52-4d33-b605-cb87b5d9c121",
   "metadata": {},
   "outputs": [],
   "source": [
    "# pres_key = {'experimenter': 'Ran', 'date': '20201103', 'exp_num': 2, 'field': 'd1', 'stim_name': 'noise_1500'}\n",
    "pres_key = {'experimenter': 'Ran', 'date': '20201111', 'exp_num': 1, 'field': 'd4', 'stim_name': 'noise_1500'}"
   ]
  },
  {
   "cell_type": "code",
   "execution_count": null,
   "id": "f888f9e1-0139-434f-90da-bdbc2ec12e91",
   "metadata": {},
   "outputs": [],
   "source": [
    "from djimaging.utils import scanm_utils\n",
    "from djimaging.utils import math_utils\n",
    "\n",
    "fs = (Presentation.ScanInfo() & pres_key).fetch1('scan_frequency')\n",
    "h5_header, triggertimes = (Presentation() & pres_key).fetch1('h5_header', 'triggertimes')\n",
    "ch_stacks, wparams = scanm_utils.load_stacks_from_h5(h5_header)"
   ]
  },
  {
   "cell_type": "code",
   "execution_count": null,
   "id": "1ccda3b3-5a2e-49c5-a606-19178a0a4227",
   "metadata": {},
   "outputs": [],
   "source": [
    "stack = ch_stacks['wDataCh1'].copy()\n",
    "stack[0, :] = stack.mean()\n",
    "stack.shape"
   ]
  },
  {
   "cell_type": "code",
   "execution_count": null,
   "id": "6f2414b1-7966-4ffd-83e8-2e1e86d132f2",
   "metadata": {},
   "outputs": [],
   "source": [
    "alt_stack = ch_stacks['wDataCh0'].copy()\n",
    "alt_stack[0, :] = alt_stack.mean()\n",
    "alt_stack.shape"
   ]
  },
  {
   "cell_type": "code",
   "execution_count": null,
   "id": "3a4a5e5b-4f2f-425d-b3a5-468a3ff96f0b",
   "metadata": {},
   "outputs": [],
   "source": [
    "field_file = (Field() & pres_key).fetch1('fromfile')\n",
    "field_file"
   ]
  },
  {
   "cell_type": "code",
   "execution_count": null,
   "id": "18bfdc6e-0fcf-418d-8426-6b1c3e462b8d",
   "metadata": {},
   "outputs": [],
   "source": [
    "fig, axs = plt.subplots(1, 2, figsize=(12, 3))\n",
    "axs[0].imshow(np.mean(stack, axis=2).T)\n",
    "axs[1].imshow(np.std(stack, axis=2).T)\n",
    "plt.show()"
   ]
  },
  {
   "cell_type": "code",
   "execution_count": null,
   "id": "23fd0bc6-d07e-4007-b799-f7ebdb3a9217",
   "metadata": {},
   "outputs": [],
   "source": [
    "mean_map = np.mean(stack, axis=2)\n",
    "std_map = np.std(stack, axis=2)\n",
    "norm_map = mean_map / std_map\n",
    "plt.imshow((norm_map > 2).T & (mean_map > np.percentile(mean_map, 90)).T);"
   ]
  },
  {
   "cell_type": "code",
   "execution_count": null,
   "id": "beb5e65d-d2ea-4a13-9a08-f4c8aa2c5a60",
   "metadata": {},
   "outputs": [],
   "source": [
    "dsf = 8\n",
    "\n",
    "dat = stack[3:, :, int(triggertimes[0] * fs):].copy()\n",
    "dat = dat[:, :, :dsf * (dat.shape[2] // dsf)].reshape((dat.shape[0], dat.shape[1], dat.shape[2] // dsf, dsf))\n",
    "dat = np.mean(dat, axis=-1)\n",
    "dat = math_utils.normalize_zscore(dat)"
   ]
  },
  {
   "cell_type": "code",
   "execution_count": null,
   "id": "cec7dc50-119b-4438-9f6f-fa396f0d79e1",
   "metadata": {},
   "outputs": [],
   "source": [
    "from ipywidgets import HTML\n",
    "from alphacnn.visualize import plot_video\n",
    "\n",
    "anim = plot_video.array_to_anim(\n",
    "    dat.T, pos=None, fps=20,\n",
    "    axis_off=False, xy_upsample=0, pixel_size=1, cbar=True, cmap_sym=True)\n",
    "HTML(anim.to_html5_video())"
   ]
  },
  {
   "cell_type": "code",
   "execution_count": null,
   "id": "c054356c-ac89-4d4c-a21c-949ece237f7f",
   "metadata": {},
   "outputs": [],
   "source": [
    "(Field() & pres_key).plot1()"
   ]
  },
  {
   "cell_type": "markdown",
   "id": "181b4c33-5b64-424b-9a42-a28ad1b52766",
   "metadata": {},
   "source": [
    "# Draw"
   ]
  },
  {
   "cell_type": "code",
   "execution_count": null,
   "id": "c3943310-9b3a-4118-981e-e299cf6aabf1",
   "metadata": {},
   "outputs": [],
   "source": [
    "from djimaging.autorois.roi_canvas import InteractiveRoiCanvas\n",
    "import os"
   ]
  },
  {
   "cell_type": "code",
   "execution_count": null,
   "id": "caa5f154-4692-4d3a-ae61-bea9e48589f1",
   "metadata": {},
   "outputs": [],
   "source": [
    "gui = InteractiveRoiCanvas(ch0_stacks=[stack[:, :]], ch1_stacks=[alt_stack[:, :]], output_files=[None], upscale=3)"
   ]
  },
  {
   "cell_type": "code",
   "execution_count": null,
   "id": "51161d7a-2902-4421-a109-8c9e43ae0628",
   "metadata": {},
   "outputs": [],
   "source": [
    "gui.output_files = [os.path.split(field_file)[1].replace('.h5', '_match_template.pkl')]\n",
    "gui.output_file = gui.output_files[0]"
   ]
  },
  {
   "cell_type": "code",
   "execution_count": null,
   "id": "40435aa0-6987-41e2-b151-ed46d44a7505",
   "metadata": {},
   "outputs": [],
   "source": [
    "gui.start_gui()"
   ]
  },
  {
   "cell_type": "code",
   "execution_count": null,
   "id": "f5f7791c-b812-4a41-b1f4-77de895368ef",
   "metadata": {},
   "outputs": [],
   "source": []
  }
 ],
 "metadata": {
  "kernelspec": {
   "display_name": "Python 3 (ipykernel)",
   "language": "python",
   "name": "python3"
  },
  "language_info": {
   "codemirror_mode": {
    "name": "ipython",
    "version": 3
   },
   "file_extension": ".py",
   "mimetype": "text/x-python",
   "name": "python",
   "nbconvert_exporter": "python",
   "pygments_lexer": "ipython3",
   "version": "3.10.12"
  }
 },
 "nbformat": 4,
 "nbformat_minor": 5
}
