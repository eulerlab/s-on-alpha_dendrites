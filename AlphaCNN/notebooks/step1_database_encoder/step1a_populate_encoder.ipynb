{
 "cells": [
  {
   "cell_type": "markdown",
   "metadata": {},
   "source": [
    "# Schema"
   ]
  },
  {
   "cell_type": "code",
   "metadata": {
    "tags": []
   },
   "source": [
    "from tqdm.notebook import tqdm\n",
    "import numpy as np\n",
    "import os\n",
    "\n",
    "from alphacnn.database.encoder_schema import *\n",
    "from alphacnn.utils.data_utils import load_config\n",
    "from alphacnn import paths\n",
    "\n",
    "connect_to_database(\n",
    "    dj_config_file=paths.CONFIG_FILE,\n",
    "    create_tables=True, create_schema=True, schema_name=paths.SCHEMA_PREFIX + 'encoder')\n",
    "encoder_schema"
   ],
   "outputs": [],
   "execution_count": null
  },
  {
   "cell_type": "markdown",
   "metadata": {
    "tags": []
   },
   "source": [
    "# ERD"
   ]
  },
  {
   "cell_type": "code",
   "metadata": {
    "tags": []
   },
   "source": [
    "import warnings\n",
    "\n",
    "with warnings.catch_warnings():\n",
    "    warnings.simplefilter(\"ignore\", FutureWarning)\n",
    "    display(dj.ERD(encoder_schema))"
   ],
   "outputs": [],
   "execution_count": null
  },
  {
   "cell_type": "markdown",
   "metadata": {},
   "source": [
    "# Stimulus"
   ]
  },
  {
   "cell_type": "markdown",
   "metadata": {},
   "source": [
    "## Stimulus IDs"
   ]
  },
  {
   "cell_type": "code",
   "metadata": {},
   "source": [
    "stimulus_config_file = \"f002_f003_rot_1975_w_and_wo_test.yml\"\n",
    "stim_conf = load_config(os.path.join(paths.CONF_STIM_PATH, stimulus_config_file))\n",
    "StimulusConfig().add_stim(stimulus_config_id=1, stimulus_config_file=stimulus_config_file, stimulus_dict=stim_conf)\n",
    "StimulusConfig()"
   ],
   "outputs": [],
   "execution_count": null
  },
  {
   "cell_type": "code",
   "metadata": {},
   "source": [
    "StimulusIDs().populate()\n",
    "StimulusIDs()"
   ],
   "outputs": [],
   "execution_count": null
  },
  {
   "cell_type": "markdown",
   "metadata": {},
   "source": [
    "## Load Stimuli"
   ]
  },
  {
   "cell_type": "code",
   "metadata": {},
   "source": [
    "key = (StimulusConfig().proj() * StimulusIDs().proj()).fetch('KEY')[0]\n",
    "stimulus_dict = (StimulusConfig & key).fetch1('stimulus_dict')\n",
    "stimulus_file, video_dict, wo_cricket = (StimulusIDs & key).fetch1('stimulus_file', 'video_dict', 'wo_cricket')"
   ],
   "outputs": [],
   "execution_count": null
  },
  {
   "cell_type": "code",
   "metadata": {},
   "source": [
    "np.load(video_dict['video_path'])"
   ],
   "outputs": [],
   "execution_count": null
  },
  {
   "cell_type": "code",
   "metadata": {},
   "source": [
    "(StimulusIDs & key)"
   ],
   "outputs": [],
   "execution_count": null
  },
  {
   "cell_type": "code",
   "metadata": {},
   "source": [
    "err_list = Stimulus().populate(display_progress=True, processes=1, suppress_errors=True)"
   ],
   "outputs": [],
   "execution_count": null
  },
  {
   "cell_type": "code",
   "metadata": {},
   "source": [
    "if err_list[ 'error_list']:\n",
    "    (StimulusIDs & [e[0] for e in err_list[ 'error_list']]).delete()"
   ],
   "outputs": [],
   "execution_count": null
  },
  {
   "cell_type": "code",
   "metadata": {},
   "source": [
    "Stimulus()"
   ],
   "outputs": [],
   "execution_count": null
  },
  {
   "cell_type": "code",
   "metadata": {},
   "source": [
    "for key in StimulusConfig.proj():\n",
    "    key = (StimulusIDs & key).proj().fetch(format='frame').sample(1).reset_index().iloc[0].to_dict()\n",
    "    key.pop('wo_cricket')\n",
    "    print(key)\n",
    "    for sub_key in (StimulusIDs & key).proj():\n",
    "        print(sub_key)\n",
    "        Stimulus().plot1(sub_key, n_rows=1, sym=True)"
   ],
   "outputs": [],
   "execution_count": null
  },
  {
   "cell_type": "markdown",
   "metadata": {},
   "source": [
    "# BCs"
   ]
  },
  {
   "cell_type": "markdown",
   "metadata": {},
   "source": [
    "## BC sRF configs"
   ]
  },
  {
   "cell_type": "code",
   "metadata": {},
   "source": [
    "BCsRfConfig()"
   ],
   "outputs": [],
   "execution_count": null
  },
  {
   "cell_type": "code",
   "metadata": {},
   "source": [
    "for stimulus_config_id in StimulusConfig.fetch('stimulus_config_id'):\n",
    "    for i, (name, file) in enumerate(dict(ws='strf_cluster1.pkl', ss='strf_cluster3.pkl').items()):\n",
    "        BCsRfConfig().add_from_file(\n",
    "            bc_srf_config_id=i,\n",
    "            bc_srf_config_name=name,\n",
    "            bc_cdist=15,\n",
    "            file=file,\n",
    "            stimulus_config_id=stimulus_config_id,\n",
    "        )\n",
    "BCsRfConfig()"
   ],
   "outputs": [],
   "execution_count": null
  },
  {
   "cell_type": "code",
   "metadata": {},
   "source": [
    "BCsRfConfig().plot()"
   ],
   "outputs": [],
   "execution_count": null
  },
  {
   "cell_type": "markdown",
   "metadata": {},
   "source": [
    "## Spatial RFs"
   ]
  },
  {
   "cell_type": "markdown",
   "metadata": {},
   "source": [
    "### Rect"
   ]
  },
  {
   "cell_type": "code",
   "metadata": {},
   "source": [
    "BCSpatialRFOutput().populate(make_kwargs=dict(batch_size=16, batch_size_frames=64))\n",
    "BCSpatialRFOutput()"
   ],
   "outputs": [],
   "execution_count": null
  },
  {
   "cell_type": "code",
   "metadata": {},
   "source": [
    "for key in StimulusConfig.proj():\n",
    "    key = (StimulusIDs & key).proj().fetch(format='frame').sample(1).reset_index().iloc[0].to_dict()\n",
    "    key.pop('wo_cricket')\n",
    "    print(key)\n",
    "    for sub_key in (StimulusIDs & key).proj():\n",
    "        print('Stimulus', sub_key)\n",
    "        Stimulus().plot1(sub_key, n_rows=1, sym=True)\n",
    "        for sub_sub_key in (BCsRfConfig * (StimulusIDs & sub_key)).proj():\n",
    "            print('BC sRF', sub_sub_key)\n",
    "            BCSpatialRFOutput().plot1(key=sub_sub_key, sym=True)\n",
    "        print()"
   ],
   "outputs": [],
   "execution_count": null
  },
  {
   "cell_type": "markdown",
   "metadata": {},
   "source": [
    "### Estimate NLs from data"
   ]
  },
  {
   "cell_type": "markdown",
   "metadata": {},
   "source": [
    "#### Compute mean outputs of spatial RFs"
   ]
  },
  {
   "cell_type": "code",
   "metadata": {},
   "source": [
    "bc_srf_outputs_ss = (BCSpatialRFOutput() & (BCsRfConfig & dict(bc_srf_config_name='ss'))).fetch('bc_srf_output')\n",
    "bc_srf_outputs_ss = np.concatenate(bc_srf_outputs_ss)"
   ],
   "outputs": [],
   "execution_count": null
  },
  {
   "cell_type": "code",
   "metadata": {},
   "source": [
    "rnd_idxs = np.random.choice(np.arange(bc_srf_outputs_ss.shape[0]), 100)\n",
    "plt.hist(bc_srf_outputs_ss[rnd_idxs, :, :].flat, bins=201);"
   ],
   "outputs": [],
   "execution_count": null
  },
  {
   "cell_type": "code",
   "metadata": {},
   "source": [
    "mu_ss = np.mean(bc_srf_outputs_ss)\n",
    "sd_ss = np.std(bc_srf_outputs_ss)\n",
    "q95_ss = np.percentile(bc_srf_outputs_ss, q=95)\n",
    "q05_ss = np.percentile(bc_srf_outputs_ss, q=5)"
   ],
   "outputs": [],
   "execution_count": null
  },
  {
   "cell_type": "code",
   "metadata": {},
   "source": [
    "print(mu_ss, sd_ss, q05_ss, q95_ss)"
   ],
   "outputs": [],
   "execution_count": null
  },
  {
   "cell_type": "code",
   "metadata": {},
   "source": [
    "sd_ss = 0.020349585"
   ],
   "outputs": [],
   "execution_count": null
  },
  {
   "cell_type": "code",
   "metadata": {},
   "source": [
    "bc_srf_outputs_ws = (BCSpatialRFOutput() & (BCsRfConfig & dict(bc_srf_config_name='ws'))).fetch('bc_srf_output')\n",
    "bc_srf_outputs_ws = np.concatenate(bc_srf_outputs_ws)"
   ],
   "outputs": [],
   "execution_count": null
  },
  {
   "cell_type": "code",
   "metadata": {},
   "source": [
    "rnd_idxs = np.random.choice(np.arange(bc_srf_outputs_ws.shape[0]), 100)\n",
    "plt.hist(bc_srf_outputs_ws[rnd_idxs, :, :].flat, bins=201);"
   ],
   "outputs": [],
   "execution_count": null
  },
  {
   "cell_type": "code",
   "metadata": {},
   "source": [
    "mu_ws = np.mean(bc_srf_outputs_ws)\n",
    "sd_ws = np.std(bc_srf_outputs_ws)\n",
    "q95_ws = np.percentile(bc_srf_outputs_ws, q=95)\n",
    "q05_ws = np.percentile(bc_srf_outputs_ws, q=5)"
   ],
   "outputs": [],
   "execution_count": null
  },
  {
   "cell_type": "code",
   "metadata": {},
   "source": [
    "print(mu_ws, sd_ws, q05_ws, q95_ws)"
   ],
   "outputs": [],
   "execution_count": null
  },
  {
   "cell_type": "code",
   "metadata": {},
   "source": [
    "sd_ws = 0.09235746"
   ],
   "outputs": [],
   "execution_count": null
  },
  {
   "cell_type": "code",
   "metadata": {},
   "source": [
    "plt.plot(np.ones(3), [mu_ss, q05_ss, q95_ss], '.')\n",
    "plt.plot(np.ones(2), [mu_ss-sd_ss, mu_ss+sd_ss], '.')\n",
    "\n",
    "plt.plot(np.ones(3)+1, [mu_ws, q05_ws, q95_ws], '.')\n",
    "plt.plot(np.ones(2)+1, [mu_ws-sd_ws, mu_ws+sd_ws], '.')"
   ],
   "outputs": [],
   "execution_count": null
  },
  {
   "cell_type": "markdown",
   "metadata": {},
   "source": [
    "Assume we have maximum steady release 5 vesicles per second. <br>\n",
    "The framerate is 60 frames per second, so we have 5 vesicles per 60 frames, ~0.083 vesicles per frame. <br>\n",
    "From the events per second esimate we also get around 0.1 events per frame; so that probably makes sense. <br>\n",
    "\n",
    "The RRP should be around 8 vesicles, which can be released in a few frames. <br>"
   ]
  },
  {
   "cell_type": "code",
   "metadata": {},
   "source": [
    "from djimaging.tables.receptivefield.non_linearities import apply_sigmoid"
   ],
   "outputs": [],
   "execution_count": null
  },
  {
   "cell_type": "code",
   "metadata": {},
   "source": [
    "data_inputs_ws = np.linspace(-3*sd_ws, +3*sd_ws, 100)\n",
    "sigmoid_params_ws = dict(k=3., q=29, b=20, v=0, d=mu_ws)\n",
    "print(apply_sigmoid(y=mu_ws, **sigmoid_params_ws))\n",
    "print(apply_sigmoid(y=mu_ws+1*sd_ws, **sigmoid_params_ws))\n",
    "print(apply_sigmoid(y=mu_ws+2*sd_ws, **sigmoid_params_ws))\n",
    "print(apply_sigmoid(y=mu_ws+3*sd_ws, **sigmoid_params_ws))\n",
    "\n",
    "fig, axs = plt.subplots(1, 2, figsize=(12, 3))\n",
    "axs[0].plot(data_inputs_ws, apply_sigmoid(y=data_inputs_ws, **sigmoid_params_ws))\n",
    "\n",
    "data_outpus_ws = apply_sigmoid(y=bc_srf_outputs_ws[rnd_idxs, :, :].flatten(), **sigmoid_params_ws)\n",
    "axs[1].hist(data_outpus_ws, bins=100);\n",
    "axs[1].axvline(np.mean(data_outpus_ws>1))\n",
    "\n",
    "plt.show()"
   ],
   "outputs": [],
   "execution_count": null
  },
  {
   "cell_type": "code",
   "metadata": {},
   "source": [
    "data_inputs_ss = np.linspace(-3*sd_ss, +3*sd_ss, 100)\n",
    "sigmoid_params_ss = dict(k=3., q=29, b=20*sd_ws/sd_ss, v=0, d=mu_ss)\n",
    "print(apply_sigmoid(y=mu_ss, **sigmoid_params_ss))\n",
    "print(apply_sigmoid(y=mu_ss+1*sd_ss, **sigmoid_params_ss))\n",
    "print(apply_sigmoid(y=mu_ss+2*sd_ss, **sigmoid_params_ss))\n",
    "print(apply_sigmoid(y=mu_ss+3*sd_ss, **sigmoid_params_ss))\n",
    "\n",
    "fig, axs = plt.subplots(1, 2, figsize=(12, 3))\n",
    "axs[0].plot((data_inputs_ss - mu_ss)/sd_ss, apply_sigmoid(y=data_inputs_ss, **sigmoid_params_ss))\n",
    "axs[0].plot((data_inputs_ws - mu_ws)/sd_ws, apply_sigmoid(y=data_inputs_ws, **sigmoid_params_ws))\n",
    "\n",
    "data_outpus_ss = apply_sigmoid(y=bc_srf_outputs_ss[rnd_idxs, :, :].flatten(), **sigmoid_params_ss)\n",
    "axs[1].hist(data_outpus_ss, bins=100);\n",
    "axs[1].axvline(np.mean(data_outpus_ss>1))\n",
    "\n",
    "plt.show()"
   ],
   "outputs": [],
   "execution_count": null
  },
  {
   "cell_type": "markdown",
   "metadata": {},
   "source": [
    "#### Add nls"
   ]
  },
  {
   "cell_type": "code",
   "metadata": {},
   "source": [
    "sigmoid_params_ws_arr = np.array([sigmoid_params_ws['k'], sigmoid_params_ws['q'], sigmoid_params_ws['b'], sigmoid_params_ws['v'], sigmoid_params_ws['d']])\n",
    "sigmoid_params_ws_arr"
   ],
   "outputs": [],
   "execution_count": null
  },
  {
   "cell_type": "code",
   "metadata": {},
   "source": [
    "sigmoid_params_ss_arr = np.array([sigmoid_params_ss['k'], sigmoid_params_ss['q'], sigmoid_params_ss['b'], sigmoid_params_ss['v'], sigmoid_params_ss['d']])\n",
    "sigmoid_params_ss_arr"
   ],
   "outputs": [],
   "execution_count": null
  },
  {
   "cell_type": "code",
   "metadata": {},
   "source": [
    "for stimulus_config_id in StimulusConfig.fetch('stimulus_config_id'):\n",
    "    BCRectConfig().add_from_data(bc_rect_config_id=0, bc_rect_config_name='ws', stimulus_config_id=stimulus_config_id, nl=sigmoid_params_ws_arr)\n",
    "    BCRectConfig().add_from_data(bc_rect_config_id=1, bc_rect_config_name='ss', stimulus_config_id=stimulus_config_id, nl=sigmoid_params_ss_arr)\n",
    "BCRectConfig()"
   ],
   "outputs": [],
   "execution_count": null
  },
  {
   "cell_type": "markdown",
   "metadata": {
    "tags": []
   },
   "source": [
    "### BC Output"
   ]
  },
  {
   "cell_type": "code",
   "metadata": {},
   "source": [
    "BCRectOutput.populate(display_progress=True, make_kwargs=dict(batch_size=16, batch_size_frames=256))\n",
    "BCRectOutput()"
   ],
   "outputs": [],
   "execution_count": null
  },
  {
   "cell_type": "code",
   "metadata": {},
   "source": [
    "BCRectOutput.populate_missing(make_kwargs=dict(batch_size=16, batch_size_frames=256))\n",
    "BCRectOutput()"
   ],
   "outputs": [],
   "execution_count": null
  },
  {
   "cell_type": "code",
   "metadata": {},
   "source": [
    "BCRectOutput()"
   ],
   "outputs": [],
   "execution_count": null
  },
  {
   "cell_type": "code",
   "metadata": {},
   "source": [
    "for stim_key in (StimulusConfig & BCRectOutput).proj():\n",
    "    print(stim_key)\n",
    "    key = (Stimulus & BCRectOutput & stim_key).proj().fetch(format='frame').sample(1).reset_index().iloc[0].to_dict()\n",
    "    print(key)\n",
    "    print('Stimulus')\n",
    "    Stimulus().plot1(key=key, n_rows=1, sym=True)\n",
    "    for bc_key in (BCsRfConfig & BCRectOutput & key).proj():\n",
    "        print('BC', bc_key)\n",
    "        key = {**key, **bc_key}\n",
    "        # print('BC spatial')\n",
    "        # BCSpatialRFOutput.plot1(key=key, sym=True)\n",
    "        print('BC Rect')\n",
    "        BCRectOutput().plot1(key=key, sym=False)\n",
    "        \n",
    "    print()"
   ],
   "outputs": [],
   "execution_count": null
  },
  {
   "cell_type": "markdown",
   "metadata": {
    "tags": []
   },
   "source": [
    "## Noise"
   ]
  },
  {
   "cell_type": "code",
   "metadata": {},
   "source": [
    "for stimulus_config_id in StimulusConfig.fetch('stimulus_config_id'):\n",
    "    for bc_srf_config_id in BCsRfConfig.fetch('bc_srf_config_id'):\n",
    "        key = dict(stimulus_config_id=stimulus_config_id, bc_srf_config_id=bc_srf_config_id)\n",
    "        BCNoiseConfigCore().add(**key, noise_id=1, noise_name=\"med\", noise_dict=dict(bc_stddev=0.1), core_seed=123)\n",
    "BCNoiseConfigCore()"
   ],
   "outputs": [],
   "execution_count": null
  },
  {
   "cell_type": "code",
   "metadata": {},
   "source": [
    "BCNoiseConfig().populate(display_progress=True)\n",
    "BCNoiseConfig()"
   ],
   "outputs": [],
   "execution_count": null
  },
  {
   "cell_type": "code",
   "metadata": {},
   "source": [
    "for stimulus_config_id in StimulusConfig.fetch('stimulus_config_id'):\n",
    "    for bc_srf_config_id in BCsRfConfig.fetch('bc_srf_config_id'):\n",
    "        for bc_noise_id in tqdm(BCNoiseConfigCore().fetch('bc_noise_id')):\n",
    "            key = dict(stimulus_config_id=stimulus_config_id, bc_srf_config_id=bc_srf_config_id, bc_noise_id=bc_noise_id)\n",
    "            BCNoiseSeeds().add_samples(**key, n_samples_tot=1)\n",
    "BCNoiseSeeds()"
   ],
   "outputs": [],
   "execution_count": null
  },
  {
   "cell_type": "markdown",
   "metadata": {},
   "source": [
    "### BC Noise Output"
   ]
  },
  {
   "cell_type": "code",
   "metadata": {},
   "source": [
    "BCNoiseOutput().populate(dict(bc_noise_id=1), display_progress=True)"
   ],
   "outputs": [],
   "execution_count": null
  },
  {
   "cell_type": "code",
   "metadata": {
    "tags": []
   },
   "source": [
    "for key in (StimulusConfig.proj() * BCsRfConfig.proj()):\n",
    "    key = (BCNoiseOutput & key).proj().fetch(format='frame').sample(1).reset_index().iloc[0].to_dict()\n",
    "    print(key)\n",
    "    print('Stimulus')\n",
    "    Stimulus().plot1(key, n_rows=1, sym=True)\n",
    "    key.pop('bc_rect_config_id')\n",
    "    key.pop('bc_srf_config_id')\n",
    "    for bc_key in ((BCsRfConfig & BCRectOutput) & key).proj():\n",
    "        sub_key = {**key, **bc_key}\n",
    "        print('BC Noise', bc_key)\n",
    "        BCNoiseOutput().plot1(key=sub_key, sym=True)\n",
    "    print()"
   ],
   "outputs": [],
   "execution_count": null
  },
  {
   "cell_type": "markdown",
   "metadata": {},
   "source": [
    "# RGCs"
   ]
  },
  {
   "cell_type": "markdown",
   "metadata": {},
   "source": [
    "## Define synaptic weighs"
   ]
  },
  {
   "cell_type": "code",
   "metadata": {},
   "source": [
    "BCsRfConfig().fetch('bc_srf_config_id', 'bc_srf_config_name')"
   ],
   "outputs": [],
   "execution_count": null
  },
  {
   "cell_type": "code",
   "metadata": {},
   "source": [
    "BCRectConfig().fetch('bc_rect_config_id', 'bc_rect_config_name')"
   ],
   "outputs": [],
   "execution_count": null
  },
  {
   "cell_type": "code",
   "metadata": {},
   "source": [
    "RGCSynapticWeights().add(\n",
    "    rgc_id=0, rgc_name='nsl', rgc_cdist=150, rgc_rf_dia=405,\n",
    "    bc_srf_config_id_1=0, bc_rect_config_id_1=0, config_weights_1=dict(std=101., cut=193., w_tot=1.),\n",
    "    bc_srf_config_id_2=1, bc_rect_config_id_2=1, config_weights_2=dict(std=0., cut=0., w_tot=0.),\n",
    ")\n",
    "\n",
    "RGCSynapticWeights().add(\n",
    "    rgc_id=1, rgc_name='tmp', rgc_cdist=75, rgc_rf_dia=315,\n",
    "    bc_srf_config_id_1=0, bc_rect_config_id_1=0, config_weights_1=dict(std=31., cut=133., w_tot=0.5),\n",
    "    bc_srf_config_id_2=1, bc_rect_config_id_2=1, config_weights_2=dict(std=31., cut=133., w_tot=0.5),\n",
    ")\n",
    "\n",
    "RGCSynapticWeights().add(\n",
    "    rgc_id=2, rgc_name='tmp_ws', rgc_cdist=75, rgc_rf_dia=315,\n",
    "    bc_srf_config_id_1=0, bc_rect_config_id_1=0, config_weights_1=dict(std=31., cut=133., w_tot=1.0),\n",
    "    bc_srf_config_id_2=1, bc_rect_config_id_2=1, config_weights_2=dict(std=0., cut=0., w_tot=0.0),\n",
    ")\n",
    "\n",
    "RGCSynapticWeights().add(\n",
    "    rgc_id=3, rgc_name='tmp_ss', rgc_cdist=75, rgc_rf_dia=315,\n",
    "    bc_srf_config_id_1=0, bc_rect_config_id_1=0, config_weights_1=dict(std=0., cut=0., w_tot=0.0),\n",
    "    bc_srf_config_id_2=1, bc_rect_config_id_2=1, config_weights_2=dict(std=31., cut=133., w_tot=1.0),\n",
    ")"
   ],
   "outputs": [],
   "execution_count": null
  },
  {
   "cell_type": "code",
   "metadata": {},
   "source": [
    "RGCSynapticWeights()"
   ],
   "outputs": [],
   "execution_count": null
  },
  {
   "cell_type": "markdown",
   "metadata": {},
   "source": [
    "## Synpatic inputs"
   ]
  },
  {
   "cell_type": "code",
   "metadata": {},
   "source": [
    "RGCSynapticInputs().populate(display_progress=True, make_kwargs=dict(batch_size=16, batch_size_frames=256), order='random')"
   ],
   "outputs": [],
   "execution_count": null
  },
  {
   "cell_type": "code",
   "metadata": {},
   "source": [
    "stimulus_id = StimulusIDs.fetch(format='frame').reset_index().sample(1).iloc[0].stimulus_id\n",
    "\n",
    "for key in (StimulusConfig.proj() * RGCSynapticWeights.proj()):\n",
    "    if len((RGCSynapticInputs & key & dict(stimulus_id=stimulus_id)).proj()) == 0:\n",
    "        continue\n",
    "    \n",
    "    key = (RGCSynapticInputs & key & dict(stimulus_id=stimulus_id)).proj().fetch(format='frame').sample(1).reset_index().iloc[0].to_dict()\n",
    "    print(key)\n",
    "    print('Stimulus')\n",
    "    Stimulus().plot1(key, n_rows=1, sym=True, drop_first_n=0)\n",
    "    print('BCs')\n",
    "    BCSpatialRFOutput().plot1(key=key)\n",
    "    print('RGCs')\n",
    "    RGCSynapticInputs().plot1(key=key)\n",
    "    print()"
   ],
   "outputs": [],
   "execution_count": null
  },
  {
   "cell_type": "markdown",
   "metadata": {},
   "source": [
    "# Plot"
   ]
  },
  {
   "cell_type": "code",
   "metadata": {},
   "source": [
    "from alphacnn.database.encoder_utils import plot_simulation\n",
    "\n",
    "stimulus_config_id = StimulusConfig.fetch(\"stimulus_config_id\")[0]\n",
    "plot_simulation(dict(stimulus_config_id=stimulus_config_id), bc_config=1)"
   ],
   "outputs": [],
   "execution_count": null
  },
  {
   "cell_type": "code",
   "metadata": {},
   "source": [],
   "outputs": [],
   "execution_count": null
  },
  {
   "cell_type": "code",
   "metadata": {},
   "source": [],
   "outputs": [],
   "execution_count": null
  }
 ],
 "metadata": {
  "kernelspec": {
   "display_name": "Python 3 (ipykernel)",
   "language": "python",
   "name": "python3"
  },
  "language_info": {
   "codemirror_mode": {
    "name": "ipython",
    "version": 3
   },
   "file_extension": ".py",
   "mimetype": "text/x-python",
   "name": "python",
   "nbconvert_exporter": "python",
   "pygments_lexer": "ipython3",
   "version": "3.11.5"
  }
 },
 "nbformat": 4,
 "nbformat_minor": 4
}
