{
 "cells": [
  {
   "cell_type": "markdown",
   "id": "280d8544-8d7f-4d88-a735-57e6c551dee3",
   "metadata": {},
   "source": [
    "# Schema"
   ]
  },
  {
   "cell_type": "code",
   "execution_count": null,
   "id": "389a58dd-b774-4e9f-b832-65e2760b4514",
   "metadata": {},
   "outputs": [],
   "source": [
    "import os\n",
    "import numpy as np\n",
    "\n",
    "from alphacnn import paths\n",
    "from alphacnn.database.dataset_schema import *\n",
    "\n",
    "connect_to_database(\n",
    "    dj_config_file=paths.CONFIG_FILE,\n",
    "    create_tables=True, create_schema=True, schema_name=paths.SCHEMA_PREFIX + 'dataset')\n",
    "dataset_schema"
   ]
  },
  {
   "cell_type": "markdown",
   "id": "f71cf54a-5deb-4d86-b15e-f6dfb1172138",
   "metadata": {
    "tags": []
   },
   "source": [
    "# ERD"
   ]
  },
  {
   "cell_type": "code",
   "execution_count": null,
   "id": "b208ef99-a2d0-4cb7-8253-d84eb56515dd",
   "metadata": {
    "tags": []
   },
   "outputs": [],
   "source": [
    "import warnings\n",
    "\n",
    "with warnings.catch_warnings():\n",
    "    warnings.simplefilter(\"ignore\", FutureWarning)\n",
    "    display(dj.ERD(dataset_schema))"
   ]
  },
  {
   "cell_type": "markdown",
   "id": "1f6c414a-a895-488b-a1ac-9226228758ab",
   "metadata": {},
   "source": [
    "# Load Data-Sets"
   ]
  },
  {
   "cell_type": "code",
   "execution_count": null,
   "id": "3a5d3ac5-bc96-44ad-b707-7f50d1be547c",
   "metadata": {},
   "outputs": [],
   "source": [
    "src_dir = 'database_v1'\n",
    "\n",
    "available_data_set_files = [\n",
    "    f for f in os.listdir(os.path.join(paths.DATASET_PATH, src_dir))\n",
    "    if f.startswith('dataset')]\n",
    "\n",
    "available_data_set_files"
   ]
  },
  {
   "cell_type": "code",
   "execution_count": null,
   "id": "84d5dd82-3e24-4f48-8a1c-04073ac3ccff",
   "metadata": {},
   "outputs": [],
   "source": [
    "rgcs = ['nsl', 'tmp', 'tmp_ws', 'tmp_ss']\n",
    "bc_noise_lvls = ['med']\n",
    "suffix_list = ['']\n",
    "\n",
    "data_set_files = [f'dataset_f002_f003_rot_1975_w_and_wo_test_{rgc}_bcns{bc_noise_lvl}{suffix}.pkl'\n",
    "                 for rgc in rgcs\n",
    "                 for bc_noise_lvl in bc_noise_lvls\n",
    "                 for suffix in suffix_list]\n",
    "data_set_files"
   ]
  },
  {
   "cell_type": "code",
   "execution_count": null,
   "id": "4108cd41-f639-4416-94ff-1cdfca37bb9f",
   "metadata": {},
   "outputs": [],
   "source": [
    "for data_set_file in data_set_files:\n",
    "    if data_set_file not in available_data_set_files:\n",
    "        print(f'data_set_file `{data_set_file}` does not exist')\n",
    "        continue\n",
    "    \n",
    "    if data_set_file in DataSet().fetch('data_set_file'):\n",
    "        print('Skip (already there):', data_set_file)\n",
    "        continue\n",
    "    print('Add:', data_set_file)\n",
    "    DataSet().add(data_set_file=data_set_file, skip_duplicates=True, src_dir=src_dir)"
   ]
  },
  {
   "cell_type": "code",
   "execution_count": null,
   "id": "f3d03d5a-885b-42c0-af24-af946b70c199",
   "metadata": {},
   "outputs": [],
   "source": [
    "DataSet()"
   ]
  },
  {
   "cell_type": "code",
   "execution_count": null,
   "id": "63ff16df-be12-4b7d-b223-43490bf1926b",
   "metadata": {},
   "outputs": [],
   "source": [
    "DataSet.DataPoint()"
   ]
  },
  {
   "cell_type": "code",
   "execution_count": null,
   "id": "bf01336a-e001-4e06-adf3-2f9e0ce6d9c1",
   "metadata": {},
   "outputs": [],
   "source": [
    "DataSet().plot1(key=None, frame_i=0)"
   ]
  },
  {
   "cell_type": "code",
   "execution_count": null,
   "id": "713a9829-ddcf-4712-b4a0-2fb4a50e4228",
   "metadata": {},
   "outputs": [],
   "source": [
    "(DataSet & \"data_set_file='dataset_f002_f003_rot_1975_w_and_wo_test_nsl_bcnsmed.pkl'\").plot1(frame_i=10)"
   ]
  },
  {
   "cell_type": "markdown",
   "id": "2ca33238-865e-4b78-bba2-0785d333be3e",
   "metadata": {
    "tags": []
   },
   "source": [
    "# Normalize data"
   ]
  },
  {
   "cell_type": "code",
   "execution_count": null,
   "id": "b06283da-b350-46ee-8d2d-61c51c35cd8a",
   "metadata": {},
   "outputs": [],
   "source": [
    "DataNorm()"
   ]
  },
  {
   "cell_type": "code",
   "execution_count": null,
   "id": "09040b5e-6c17-4039-a545-803edfed94b2",
   "metadata": {},
   "outputs": [],
   "source": [
    "DataNorm.populate(display_progress=True)\n",
    "DataNorm()"
   ]
  },
  {
   "cell_type": "code",
   "execution_count": null,
   "id": "f8a8bdba-c7e0-4cdf-ae4d-be2c1fa0c15b",
   "metadata": {},
   "outputs": [],
   "source": [
    "DataNorm.NormPoint()"
   ]
  },
  {
   "cell_type": "code",
   "execution_count": null,
   "id": "652a208f-bdc3-46fa-b647-fa8668848fb0",
   "metadata": {},
   "outputs": [],
   "source": [
    "DataNorm().plot1(frame_i=0)"
   ]
  },
  {
   "cell_type": "markdown",
   "id": "bff3f9a0-0b82-459a-abab-fb890ff40ca8",
   "metadata": {},
   "source": [
    "# Create Splits"
   ]
  },
  {
   "cell_type": "code",
   "execution_count": null,
   "id": "c41c7f3e-edbe-4151-a16d-f62bd63fcb6a",
   "metadata": {},
   "outputs": [],
   "source": [
    "DataSplit()"
   ]
  },
  {
   "cell_type": "code",
   "execution_count": null,
   "id": "aacd5460-08ad-407f-8e48-26265a3442d1",
   "metadata": {},
   "outputs": [],
   "source": [
    "for data_set_file in DataSet.fetch('data_set_file'):\n",
    "    print(data_set_file)\n",
    "    DataSplit().add_distance_stratified(data_set_file, split_id=0, seed=431, skip_duplicates=True)"
   ]
  },
  {
   "cell_type": "code",
   "execution_count": null,
   "id": "b27db975-ee46-4ca0-84c4-7d5595e364da",
   "metadata": {},
   "outputs": [],
   "source": [
    "for split_id in np.unique(DataSplit.fetch('split_id')):\n",
    "    print(split_id)\n",
    "    for kind in ['train', 'dev', 'test']:\n",
    "        x_len, p_sum = (DataSet.DataPoint() & (DataSplit.SplitPoint() & f\"split_id={split_id}\" & f\"split_kind='{kind}'\")).fetch('x_len', 'p_sum')\n",
    "        print(kind, np.sum(x_len), np.sum(p_sum), np.sum(p_sum)/np.sum(x_len))\n",
    "    print()"
   ]
  }
 ],
 "metadata": {
  "kernelspec": {
   "display_name": "Python 3 (ipykernel)",
   "language": "python",
   "name": "python3"
  },
  "language_info": {
   "codemirror_mode": {
    "name": "ipython",
    "version": 3
   },
   "file_extension": ".py",
   "mimetype": "text/x-python",
   "name": "python",
   "nbconvert_exporter": "python",
   "pygments_lexer": "ipython3",
   "version": "3.11.5"
  }
 },
 "nbformat": 4,
 "nbformat_minor": 5
}
