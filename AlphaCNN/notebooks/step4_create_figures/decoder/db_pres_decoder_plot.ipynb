{
 "cells": [
  {
   "cell_type": "markdown",
   "id": "9c7e785a-6f0c-4fa8-8823-c85786299036",
   "metadata": {},
   "source": [
    "# Imports\n",
    "\n",
    "Fetch and summarize data in Python"
   ]
  },
  {
   "cell_type": "code",
   "execution_count": null,
   "id": "54233759-e7f9-4668-8e7e-2305406f1e16",
   "metadata": {},
   "outputs": [],
   "source": [
    "import numpy as np\n",
    "import pandas as pd\n",
    "import seaborn as sns\n",
    "from matplotlib import pyplot as plt\n",
    "\n",
    "from alphaanalysis.plot.gam import get_sig_intervals"
   ]
  },
  {
   "cell_type": "markdown",
   "id": "280d8544-8d7f-4d88-a735-57e6c551dee3",
   "metadata": {},
   "source": [
    "# Schemas"
   ]
  },
  {
   "cell_type": "code",
   "execution_count": null,
   "id": "730fbf6f-5076-41e9-83d1-8c4a9675cf50",
   "metadata": {},
   "outputs": [],
   "source": [
    "from alphacnn.database.dataset_schema import *\n",
    "\n",
    "connect_to_database(\n",
    "    dj_config_file=paths.CONFIG_FILE,\n",
    "    create_tables=False, create_schema=False, schema_name=paths.SCHEMA_PREFIX + 'dataset')\n",
    "dataset_schema"
   ]
  },
  {
   "cell_type": "code",
   "execution_count": null,
   "id": "389a58dd-b774-4e9f-b832-65e2760b4514",
   "metadata": {},
   "outputs": [],
   "source": [
    "from alphacnn.database.pres_decoder_schema import *\n",
    "\n",
    "connect_to_database(\n",
    "    dj_config_file=paths.CONFIG_FILE,\n",
    "    create_tables=True, create_schema=True, schema_name=paths.SCHEMA_PREFIX + 'decoder')\n",
    "pres_decoder_schema"
   ]
  },
  {
   "cell_type": "code",
   "execution_count": null,
   "id": "c784f49d-6352-4d49-9096-a3564495afa7",
   "metadata": {},
   "outputs": [],
   "source": [
    "list(np.unique(PresDecoderPrediction().fetch('data_set_file')))"
   ]
  },
  {
   "cell_type": "code",
   "execution_count": null,
   "id": "a59b2cab-ee5d-429c-954c-2f51e2497da9",
   "metadata": {},
   "outputs": [],
   "source": [
    "DataSet()"
   ]
  },
  {
   "cell_type": "markdown",
   "id": "7a476884-2a5f-496c-8a8b-9ecb3d98e44f",
   "metadata": {},
   "source": [
    "# Text information"
   ]
  },
  {
   "cell_type": "code",
   "execution_count": null,
   "id": "e8076bca-12a5-436f-826e-23caf6458e8c",
   "metadata": {},
   "outputs": [],
   "source": [
    "n_frames = []\n",
    "for split_kind in ['train', 'dev', 'test']:\n",
    "    n_frames.append((PresDecoderPrediction() & dict(data_set_file='dataset_f002_f003_rot_1975_w_and_wo_nsl_bcnsmed.pkl', split_kind=split_kind, decoder_id='cnn_ensemble_10')).fetch1('d').shape[0])\n",
    "\n",
    "print(n_frames)\n",
    "print(np.sum(n_frames))\n",
    "print(np.sum(n_frames) / 60)\n",
    "print(np.around(100*(np.array(n_frames) / np.sum(n_frames)), 1))"
   ]
  },
  {
   "cell_type": "markdown",
   "id": "54c69dbd-dad9-45b5-9944-cb98e49ae675",
   "metadata": {},
   "source": [
    "# Plot"
   ]
  },
  {
   "cell_type": "code",
   "execution_count": null,
   "id": "f9f96a50-2bd3-452c-910f-716cb98dfb9a",
   "metadata": {},
   "outputs": [],
   "source": [
    "from alphaanalysis import plot as plota\n",
    "plota.set_default_params(kind='paper')\n",
    "\n",
    "\n",
    "FIGURE_FOLDER = 'figures'"
   ]
  },
  {
   "cell_type": "code",
   "execution_count": null,
   "id": "f7f96e22-9bf8-477d-a9bc-56e1cc2d53d1",
   "metadata": {},
   "outputs": [],
   "source": [
    "# for key in (PresDecoderPrediction() & dict(split_kind='train')).proj().fetch(as_dict=True):\n",
    "#     print(key)\n",
    "#     PresDecoderPrediction().plot_loss(**key)\n",
    "#     plt.show()"
   ]
  },
  {
   "cell_type": "code",
   "execution_count": null,
   "id": "0d064122-e6bd-45fe-8907-fbd8ea80534b",
   "metadata": {},
   "outputs": [],
   "source": [
    "# for key in (PresDecoderPrediction()  & dict(split_kind='train')).proj().fetch(as_dict=True):\n",
    "#     print(key)\n",
    "#     PresDecoderPrediction().plot(**key)\n",
    "#     plt.show()"
   ]
  },
  {
   "cell_type": "markdown",
   "id": "230a6d1e-efbd-42b8-a7a5-8861ac406c0a",
   "metadata": {},
   "source": [
    "# Data"
   ]
  },
  {
   "cell_type": "code",
   "execution_count": null,
   "id": "f2bb3639-acbc-42b7-a8d6-56642a6e3986",
   "metadata": {},
   "outputs": [],
   "source": [
    "PresDecoderPrediction() & dict(decoder_id='cnn_ensemble_10')"
   ]
  },
  {
   "cell_type": "code",
   "execution_count": null,
   "id": "57d5228c-e4e4-42a7-be81-7bebbeb290ec",
   "metadata": {},
   "outputs": [],
   "source": [
    "pdp_keys = (PresDecoderPrediction()  & dict(split_kind='train')).proj(train='split_kind').fetch(as_dict=True)\n",
    "\n",
    "df_all = pd.DataFrame()\n",
    "\n",
    "for pdp_key in pdp_keys:\n",
    "    print(pdp_key)\n",
    "    split_kinds = (PresDecoderPrediction & pdp_key).fetch('split_kind')\n",
    "    for split_kind in split_kinds:\n",
    "        y, d, p, p_pred, keys, key_idx = (PresDecoderPrediction & pdp_key & dict(split_kind=split_kind)).fetch1(\n",
    "            'y', 'd', 'p', 'p_pred', 'keys', 'key_idx')\n",
    "    \n",
    "        pixel_size_video, video_width, video_height = (DataSet & pdp_key).fetch1('pixel_size_um', 'video_width', 'video_height')\n",
    "        y_center, y_scale, d_min, d_max = (DataNorm & pdp_key).fetch1('y_center', 'y_scale', 'd_min', 'd_max')\n",
    "        y_um = y * (y_scale * 0.5) * pixel_size_video\n",
    "        d_cm = d * (d_max - d_min) + d_min\n",
    "    \n",
    "        assert np.mean(p) == 0.5\n",
    "        \n",
    "        dist_to_center_um = np.mean((y_um**2), axis=1)**0.5\n",
    "        dist_to_border_um = np.min(np.array([(video_height * pixel_size_video) / 2, (video_width * pixel_size_video) / 2]) - np.abs(y_um), axis=1)\n",
    "        \n",
    "        df_split = pd.DataFrame({\n",
    "            'd (cricket) [cm]': d_cm,\n",
    "            'd (center) [um]': dist_to_center_um,\n",
    "            'd (border) [um]': dist_to_border_um,\n",
    "            'accuracy': (p>=0.5) == (p_pred>=0.5),\n",
    "        })\n",
    "     \n",
    "        df_split['split_kind'] = split_kind\n",
    "        df_split['data_set_file'] = pdp_key['data_set_file']\n",
    "        df_split['split_id'] = pdp_key['split_id']\n",
    "    \n",
    "        df_all = pd.concat([df_all, df_split])"
   ]
  },
  {
   "cell_type": "code",
   "execution_count": null,
   "id": "9a69942f-63e7-4573-bb6a-5b651b3d4a0c",
   "metadata": {},
   "outputs": [],
   "source": [
    "df_all"
   ]
  },
  {
   "cell_type": "code",
   "execution_count": null,
   "id": "4e66f150-3534-4998-b9dc-8cb820b38214",
   "metadata": {},
   "outputs": [],
   "source": [
    "sns.scatterplot(data=df_all, x='d (center) [um]', y='d (border) [um]', s=0.2);"
   ]
  },
  {
   "cell_type": "code",
   "execution_count": null,
   "id": "2062cbf4-ff41-488b-a7f4-b8f57199835a",
   "metadata": {},
   "outputs": [],
   "source": [
    "df_all['bc_noise'] = df_all.data_set_file.apply(lambda x: x.split('bcns')[1].split('.')[0].split('_')[0])\n",
    "df_all['bc_noise'].unique()"
   ]
  },
  {
   "cell_type": "code",
   "execution_count": null,
   "id": "bbb4e132-2fba-476b-89b1-5e87f3dfd243",
   "metadata": {},
   "outputs": [],
   "source": [
    "bc_noise_map = {\n",
    "    'med': 0.1,\n",
    "}\n",
    "\n",
    "df_all['bc_noise_num'] = df_all.bc_noise.apply(lambda x: bc_noise_map[x])\n",
    "df_all['bc_noise_num'].unique()"
   ]
  },
  {
   "cell_type": "code",
   "execution_count": null,
   "id": "480d2168-45f4-4fe3-8e3e-4e3a958e385b",
   "metadata": {},
   "outputs": [],
   "source": [
    "df_all['pr_noise'] = df_all.data_set_file.apply(lambda x: int('prnoise' in x))\n",
    "df_all['pr_noise'].unique()"
   ]
  },
  {
   "cell_type": "code",
   "execution_count": null,
   "id": "3aca4fe4-6eed-49ad-a5c0-84c9d962d381",
   "metadata": {},
   "outputs": [],
   "source": [
    "df_all['noise'] = df_all['bc_noise_num'].astype(str) + ' ' + df_all['pr_noise'].astype(str)\n",
    "df_all['noise'].unique()"
   ]
  },
  {
   "cell_type": "code",
   "execution_count": null,
   "id": "cf93f64c-0011-4e6a-b156-4ceaa8cd91fe",
   "metadata": {},
   "outputs": [],
   "source": [
    "df_all['rgc'] = df_all.data_set_file.apply(lambda x: x.split('w_and_wo_')[1].split('_bcns')[0])\n",
    "df_all['rgc'].unique()"
   ]
  },
  {
   "cell_type": "code",
   "execution_count": null,
   "id": "2a5cebbe-b4bb-452f-bc33-9c2eba85bb2e",
   "metadata": {},
   "outputs": [],
   "source": [
    "df_all.sort_values(['rgc', 'bc_noise_num', 'pr_noise'], inplace=True, ignore_index=True)\n",
    "df_all = df_all.infer_objects()\n",
    "df_all.head()"
   ]
  },
  {
   "cell_type": "markdown",
   "id": "5a8c1431-9441-44a8-90fb-a148946f775d",
   "metadata": {},
   "source": [
    "## Remove border cases"
   ]
  },
  {
   "cell_type": "code",
   "execution_count": null,
   "id": "e5ff0f7e-c5a0-4891-9705-84c62ad397ed",
   "metadata": {},
   "outputs": [],
   "source": [
    "import seaborn as sns\n",
    "sns.set_theme(style=\"ticks\")\n",
    "\n",
    "p = sns.JointGrid(data=df_all[\n",
    "        (df_all.split_kind=='test') & \n",
    "        (df_all.rgc==df_all.rgc.unique()[0]) & \n",
    "        (df_all.bc_noise==df_all.bc_noise.unique()[0]) &\n",
    "        (df_all.split_id==df_all.split_id.unique()[0]) &\n",
    "        (df_all.pr_noise==df_all.pr_noise.unique()[0])\n",
    "    ], x='d (cricket) [cm]', y='d (border) [um]',\n",
    "    marginal_ticks=True\n",
    " )\n",
    "cax = p.figure.add_axes([.9, .8, .02, .2])\n",
    "\n",
    "p.plot_joint(\n",
    "    sns.histplot, discrete=(False, False),\n",
    "    cmap=\"light:#03012d\", pmax=.8, cbar=True, cbar_ax=cax,\n",
    ")\n",
    "p.plot_marginals(sns.histplot, element=\"step\", color=\"#03012d\")\n",
    "plt.show()"
   ]
  },
  {
   "cell_type": "code",
   "execution_count": null,
   "id": "03499b2b-4b0a-4c63-bad3-feb9bed34fe3",
   "metadata": {},
   "outputs": [],
   "source": [
    "min_dist_border = 200\n",
    "bc_noise = \"med\"\n",
    "pr_noise = 0\n",
    "\n",
    "df = df_all[(df_all['split_kind'] == 'test') & (df_all['d (border) [um]'] >= min_dist_border)].reset_index()\n",
    "df.drop(['split_kind'], axis=1, inplace=True)\n",
    "df = df.query(f'((rgc==\"nsl\") | (rgc==\"tmp\") | (rgc==\"tmp_ss\") | (rgc==\"tmp_ws\")) & (bc_noise==\"{bc_noise}\") & (pr_noise=={pr_noise})')\n",
    "df.rename({'d (cricket) [cm]': \"distance\", 'd (center) [um]': \"distance_center\"}, inplace=True, axis=1)\n",
    "df.head()"
   ]
  },
  {
   "cell_type": "markdown",
   "id": "23b8f291-8bdf-4303-a5eb-313083ecd64c",
   "metadata": {},
   "source": [
    "# Summary"
   ]
  },
  {
   "cell_type": "code",
   "execution_count": null,
   "id": "6cb082d1-d8cb-4116-b50b-6a0d154c6595",
   "metadata": {},
   "outputs": [],
   "source": [
    "from alphaanalysis import plot as plota\n",
    "\n",
    "plota.set_default_params(kind='paper')"
   ]
  },
  {
   "cell_type": "code",
   "execution_count": null,
   "id": "bd1efbc0-3749-42b2-bee8-b5c579f63f10",
   "metadata": {},
   "outputs": [],
   "source": [
    "df_means = df.groupby(\n",
    "    ['rgc', 'noise']).accuracy.mean().reset_index().rename(columns=dict(accuracy='Mean Accuracy'))\n",
    "\n",
    "fig, ax = plt.subplots(1, 1, figsize=(12, 4))\n",
    "sns.heatmap(\n",
    "    df_means.pivot(columns=\"rgc\", index=\"noise\", values=\"Mean Accuracy\"),\n",
    "    square=True, cmap='viridis')\n",
    "plt.show()"
   ]
  },
  {
   "cell_type": "markdown",
   "id": "af77a551-1be5-451c-8f2e-35b9d737c44d",
   "metadata": {},
   "source": [
    "# Fit GAM in R"
   ]
  },
  {
   "cell_type": "code",
   "execution_count": null,
   "id": "2cfc9a11-8000-4c5e-a506-3680c9ba43dd",
   "metadata": {},
   "outputs": [],
   "source": [
    "%load_ext rpy2.ipython"
   ]
  },
  {
   "cell_type": "code",
   "execution_count": null,
   "id": "c81ad46e-0f54-4e3b-bd06-8c37dc4a64e0",
   "metadata": {},
   "outputs": [],
   "source": [
    "%%R\n",
    "\n",
    "rm(list=ls()) "
   ]
  },
  {
   "cell_type": "code",
   "execution_count": null,
   "id": "f24ee983-d932-4323-af3b-8a09ad11d175",
   "metadata": {},
   "outputs": [],
   "source": [
    "%%R\n",
    "\n",
    "library(\"IRdisplay\")\n",
    "library(\"dplyr\")\n",
    "library(\"parallel\")\n",
    "library(\"ggplot2\")\n",
    "library(\"nlme\")\n",
    "library(\"mgcv\")\n",
    "library(\"ggthemes\")\n",
    "library(\"itsadug\")\n",
    "library(\"png\")\n",
    "library(\"xtable\")\n",
    "library(\"tidymv\")\n",
    "library(\"cowplot\")"
   ]
  },
  {
   "cell_type": "code",
   "execution_count": null,
   "id": "984aa8c0-f52f-4468-ac15-b929af95294b",
   "metadata": {},
   "outputs": [],
   "source": [
    "%%R -i df\n",
    "\n",
    "df$rgc <- factor(df$rgc)\n",
    "df$bc_noise <- factor(df$bc_noise)\n",
    "df$accuracy <-  as.logical(df$accuracy)\n",
    "head(df)"
   ]
  },
  {
   "cell_type": "markdown",
   "id": "845f34e5-2863-4a96-a27e-32eb8fc9de1b",
   "metadata": {},
   "source": [
    "## GAMs"
   ]
  },
  {
   "cell_type": "markdown",
   "id": "baa4203c-3d12-4334-81fb-142ed1e61598",
   "metadata": {},
   "source": [
    "### Contour size"
   ]
  },
  {
   "cell_type": "code",
   "execution_count": null,
   "id": "edf22735-9194-47a0-8954-8fc5a5d3b657",
   "metadata": {},
   "outputs": [],
   "source": [
    "%%R\n",
    "\n",
    "m1 <- gam(accuracy ~ rgc + s(distance, k=4, bs=\"cr\"), data=df, family=binomial)\n",
    "m2 <- gam(accuracy ~ rgc + s(distance, by=rgc, k=4, bs=\"cr\"), data=df, family=binomial)\n",
    "m3 <- gam(accuracy ~ rgc + s(distance, by=rgc, k=8, bs=\"cr\"), data=df, family=binomial)\n",
    "m4 <- gam(accuracy ~ rgc + s(distance, by=rgc, k=12, bs=\"cr\"), data=df, family=binomial)\n",
    "\n",
    "AIC(m1, m2, m3, m4)"
   ]
  },
  {
   "cell_type": "code",
   "execution_count": null,
   "id": "6bf16e5f-1f32-4f43-b006-426da20be475",
   "metadata": {},
   "outputs": [],
   "source": [
    "%%R\n",
    "\n",
    "anova.gam(m1, m2, m3, m4, test = \"Chisq\")"
   ]
  },
  {
   "cell_type": "code",
   "execution_count": null,
   "id": "41d1c42e-4949-457f-809d-9c16ffa27121",
   "metadata": {},
   "outputs": [],
   "source": [
    "%%R\n",
    "\n",
    "options(repr.plot.width = 7, repr.plot.height = 7)\n",
    "best_m <- m3\n",
    "summary(best_m)\n",
    "gam.check(best_m)"
   ]
  },
  {
   "cell_type": "code",
   "execution_count": null,
   "id": "6ac3633c-0f88-4b79-bfc9-b4bbd5cf73dc",
   "metadata": {},
   "outputs": [],
   "source": [
    "%%R\n",
    "\n",
    "options(repr.plot.width = 7, repr.plot.height = 5)\n",
    "p1 <- plot_smooths(model=best_m, series=distance, comparison=rgc)\n",
    "plot(p1, ylim=c(0, 60))"
   ]
  },
  {
   "cell_type": "code",
   "execution_count": null,
   "id": "6247588c-2db1-4cb9-ac86-2e8ed51dca09",
   "metadata": {},
   "outputs": [],
   "source": [
    "%%R\n",
    "\n",
    "options(repr.plot.width = 15, repr.plot.height = 5)\n",
    "par(mfrow = c(1,4))\n",
    "plot(best_m)"
   ]
  },
  {
   "cell_type": "code",
   "execution_count": null,
   "id": "db633abd-f7c6-4a29-be6b-5e78ae7566f8",
   "metadata": {},
   "outputs": [],
   "source": [
    "%%R -o df_pred\n",
    "\n",
    "df_pred = predict_gam(best_m)\n",
    "head(df_pred)"
   ]
  },
  {
   "cell_type": "code",
   "execution_count": null,
   "id": "37e99d4d-899e-4ef7-90cb-3645733f29b3",
   "metadata": {},
   "outputs": [],
   "source": [
    "%%R\n",
    "\n",
    "predict_gam(best_m) %>%\n",
    "    ggplot(aes(distance, fit, col=rgc)) +\n",
    "    geom_smooth_ci()"
   ]
  },
  {
   "cell_type": "markdown",
   "id": "d920cdee-e527-42fd-ba4c-5db81c6b5a61",
   "metadata": {},
   "source": [
    "## Plot differences "
   ]
  },
  {
   "cell_type": "code",
   "execution_count": null,
   "id": "87f0a182-1057-4d25-b4fa-cf1b2585cf6a",
   "metadata": {},
   "outputs": [],
   "source": [
    "%%R -w 700 -h 250 -o tn_diff -o tw_diff -o ts_diff -o se\n",
    "\n",
    "options(repr.plot.width = 15, repr.plot.height = 5)\n",
    "par(mfrow=c(1,3), cex=1.0, tcl=-0.2)\n",
    "\n",
    "n_tests <- 3\n",
    "se <- qnorm((100 - (2.5/n_tests)) / 100)\n",
    "print(se)\n",
    "ylim <- NULL#c(-150, 150)\n",
    "view <- \"distance\"\n",
    "ylab <- 'Difference [logits]'\n",
    "xlab <- 'Distance [um]'\n",
    "\n",
    "tn_diff <- plot_diff(best_m, comp=list(rgc=c(\"tmp\", \"nsl\")),    main=expression('t vs. n'),       view=view, se=se, ylab=ylab, xlab=xlab, ylim=ylim, hide.label=TRUE)\n",
    "tw_diff <- plot_diff(best_m, comp=list(rgc=c(\"tmp\", \"tmp_ws\")), main=expression('t vs. t'['WS']), view=view, se=se, ylab='', xlab=xlab, ylim=ylim, hide.label=TRUE)\n",
    "ts_diff <- plot_diff(best_m, comp=list(rgc=c(\"tmp\", \"tmp_ss\")), main=expression('t vs. t'['SS']), view=view, se=se, ylab='', xlab=xlab, ylim=ylim)"
   ]
  },
  {
   "cell_type": "code",
   "execution_count": null,
   "id": "ddb0dcf4-5fbe-4d6f-b748-634ee94a6f27",
   "metadata": {},
   "outputs": [],
   "source": [
    "%%R\n",
    "\n",
    "plot_diff(best_m, comp=list(rgc=c(\"tmp\")),    main=expression('t vs. n'),       view=view, se=se, ylab=ylab, xlab=xlab, ylim=ylim, hide.label=TRUE)"
   ]
  },
  {
   "cell_type": "markdown",
   "id": "6402897b-ca8f-4218-922f-6a1342aa09c6",
   "metadata": {},
   "source": [
    "# Go back to python for consistent plots"
   ]
  },
  {
   "cell_type": "code",
   "execution_count": null,
   "id": "971a7c5e-1069-4c9f-b355-80d7215196d9",
   "metadata": {},
   "outputs": [],
   "source": [
    "pairs_sig_regions = [\n",
    "    (r\"t$_\\mathrm{mi}$ vs. n$_\\mathrm{mi}$\", get_sig_intervals(tn_diff, x='distance')),\n",
    "    (r\"t$_\\mathrm{mi}$ vs. t$_\\mathrm{wi}$\", get_sig_intervals(tw_diff, x='distance')),\n",
    "    (r\"t$_\\mathrm{mi}$ vs. t$_\\mathrm{si}$\", get_sig_intervals(ts_diff, x='distance')),\n",
    "]\n",
    "pairs_sig_regions"
   ]
  },
  {
   "cell_type": "code",
   "execution_count": null,
   "id": "7042b716-97a4-4b8b-ae06-284cdde8478f",
   "metadata": {},
   "outputs": [],
   "source": [
    "import os\n",
    "import numpy as np\n",
    "import pandas as pd\n",
    "from matplotlib import pyplot as plt\n",
    "import seaborn as sns"
   ]
  },
  {
   "cell_type": "code",
   "execution_count": null,
   "id": "bd13545c-8224-4e4b-8e89-000648023b42",
   "metadata": {},
   "outputs": [],
   "source": [
    "from alphaanalysis import plot as plota\n",
    "\n",
    "plota.set_default_params(kind='paper')"
   ]
  },
  {
   "cell_type": "code",
   "execution_count": null,
   "id": "258f6c7c-e9fd-40fb-bb42-f6bdaf1eee74",
   "metadata": {},
   "outputs": [],
   "source": [
    "df_pred.head()"
   ]
  },
  {
   "cell_type": "code",
   "execution_count": null,
   "id": "03788e28-0f51-46c9-bcac-c4c75bd9dd1c",
   "metadata": {},
   "outputs": [],
   "source": [
    "palette = plota.get_palette(indicator='calcium')"
   ]
  },
  {
   "cell_type": "code",
   "execution_count": null,
   "id": "58874a79-02e9-4d5a-baf5-d203241ff341",
   "metadata": {},
   "outputs": [],
   "source": [
    "from scipy.special import expit\n",
    "\n",
    "df_pred_acc = df_pred.copy()\n",
    "df_pred_acc['lb.fit'] = (df_pred_acc[\"fit\"] - se[0] * df_pred_acc[\"se.fit\"]).apply(expit)\n",
    "df_pred_acc['ub.fit'] = (df_pred_acc[\"fit\"] + se[0] * df_pred_acc[\"se.fit\"]).apply(expit)\n",
    "df_pred_acc['fit'] = df_pred_acc['fit'].apply(expit)"
   ]
  },
  {
   "cell_type": "code",
   "execution_count": null,
   "id": "bc3b0e7a-d223-48f9-96be-195277fe98b5",
   "metadata": {},
   "outputs": [],
   "source": [
    "from alphaanalysis.plot.gam import plot_gam_fits\n",
    "\n",
    "axs = plot_gam_fits(\n",
    "    df_pred_acc, x='distance', y='surround_index', group='rgc', f_se=2, pairs_sig_regions=pairs_sig_regions,\n",
    "    side_groups=['tmp', 'tmp_ss', 'tmp_ws', 'nsl'], colors=[palette['t'], 'black', 'gray', palette['n']],\n",
    "    figsize=(2.7, 2.0), height_ratios=(4, 1))\n",
    "\n",
    "axs[0].set(ylabel='Accuracy [%]')\n",
    "axs[1].set(xlabel='Distance [cm]')\n",
    "\n",
    "axs[0].set_ylim(0.4, 1.)\n",
    "axs[0].axhline(0.5, c='dimgray', ls='--', zorder=-10)\n",
    "\n",
    "axs[1].tick_params(pad=35, axis='y')  \n",
    "axs[1].set_yticklabels(axs[1].get_yticklabels(), ha='left')\n",
    "\n",
    "label_dict = dict(\n",
    "    nsl=r'n$_\\mathrm{wi}$',\n",
    "    tmp=r't$_\\mathrm{mi}$',\n",
    "    tmp_ws=r't$_\\mathrm{wi}$',\n",
    "    tmp_ss=r't$_\\mathrm{si}$',\n",
    ")\n",
    "handles, labels = axs[0].get_legend_handles_labels()\n",
    "axs[0].legend(handles, [label_dict.get(label, label) for label in labels], loc='upper right')\n",
    "\n",
    "plt.tight_layout()\n",
    "plt.savefig(f'figures/decoder_performance.pdf')\n",
    "plt.show()"
   ]
  },
  {
   "cell_type": "code",
   "execution_count": null,
   "id": "2c6a9fe2-8ebd-4779-a9b4-f204e7b09e2f",
   "metadata": {},
   "outputs": [],
   "source": [
    "se = 2.39398\n",
    "\n",
    "for rgc, df_pred_i in df_pred.groupby('rgc'):\n",
    "    print(rgc)\n",
    "    plt.plot(df_pred_i['distance'], (df_pred_i[\"fit\"] - df_pred_i[\"se.fit\"] * se) > 0, label='above baseline')\n",
    "    plt.plot(df_pred_i['distance'], (df_pred_i[\"fit\"] + df_pred_i[\"se.fit\"] * se) < 0, label='below baseline')\n",
    "    plt.legend()\n",
    "    plt.show()"
   ]
  },
  {
   "cell_type": "code",
   "execution_count": null,
   "id": "4cb4e333-cc88-416c-90fa-736486c44183",
   "metadata": {},
   "outputs": [],
   "source": []
  }
 ],
 "metadata": {
  "kernelspec": {
   "display_name": "Python 3 (ipykernel)",
   "language": "python",
   "name": "python3"
  },
  "language_info": {
   "codemirror_mode": {
    "name": "ipython",
    "version": 3
   },
   "file_extension": ".py",
   "mimetype": "text/x-python",
   "name": "python",
   "nbconvert_exporter": "python",
   "pygments_lexer": "ipython3",
   "version": "3.11.5"
  }
 },
 "nbformat": 4,
 "nbformat_minor": 5
}
