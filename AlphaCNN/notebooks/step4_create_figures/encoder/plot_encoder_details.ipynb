{
 "cells": [
  {
   "cell_type": "code",
   "id": "75289695",
   "metadata": {
    "collapsed": false,
    "jupyter": {
     "outputs_hidden": false
    }
   },
   "source": [
    "# %load_ext autoreload\n",
    "# %autoreload 2"
   ],
   "outputs": [],
   "execution_count": null
  },
  {
   "cell_type": "markdown",
   "id": "3254eedb-15ea-4725-8850-6f76c080206c",
   "metadata": {},
   "source": [
    "# Readme\n",
    "\n",
    "Plot results of forward pass"
   ]
  },
  {
   "cell_type": "code",
   "id": "d40788ae-931c-4c19-8c2a-1f5670a835cb",
   "metadata": {},
   "source": [
    "import os\n",
    "import tensorflow as tf\n",
    "import numpy as np\n",
    "import matplotlib.pyplot as plt\n",
    "from tqdm.notebook import tqdm\n",
    "\n",
    "from alphacnn.model.cnn_model import prepare_gpu\n",
    "prepare_gpu()"
   ],
   "outputs": [],
   "execution_count": null
  },
  {
   "cell_type": "code",
   "id": "b7e421e2-aa6c-42b7-90d9-1c9151ea077f",
   "metadata": {},
   "source": [
    "!nvidia-smi"
   ],
   "outputs": [],
   "execution_count": null
  },
  {
   "cell_type": "code",
   "id": "5d66ea50-ab68-4669-878e-0d069ff7d028",
   "metadata": {},
   "source": [
    "from alphacnn.model.cnn_model import evaluate_layers, evaluate_rgc_layers\n",
    "from alphacnn.visualize import plot_stimulus\n",
    "from alphacnn.visualize.plot_model import plot_simulation"
   ],
   "outputs": [],
   "execution_count": null
  },
  {
   "cell_type": "code",
   "id": "01e4cc12-b948-46b3-bd76-3fcbf2d84f42",
   "metadata": {},
   "source": [
    "from alphacnn.database.encoder_schema import *\n",
    "from alphacnn.utils.data_utils import load_config\n",
    "from alphacnn import paths\n",
    "\n",
    "connect_to_database(\n",
    "    dj_config_file=paths.CONFIG_FILE,\n",
    "    create_tables=True, create_schema=True, schema_name=paths.SCHEMA_PREFIX + 'encoder')\n",
    "encoder_schema"
   ],
   "outputs": [],
   "execution_count": null
  },
  {
   "cell_type": "code",
   "id": "dce90acf-cdb5-4ce6-b60f-393055de5d01",
   "metadata": {},
   "source": [
    "from alphaanalysis import plot as plota\n",
    "\n",
    "plota.set_default_params(kind='paper')"
   ],
   "outputs": [],
   "execution_count": null
  },
  {
   "cell_type": "markdown",
   "id": "3d1e942e-e2ec-4ff1-a0f4-7c0123bd4535",
   "metadata": {},
   "source": [
    "# Parameters for text"
   ]
  },
  {
   "cell_type": "code",
   "id": "1aecd7be-b62d-4a0d-a721-762d20e26a78",
   "metadata": {},
   "source": [
    "StimulusConfig().fetch1('stimulus_dict')"
   ],
   "outputs": [],
   "execution_count": null
  },
  {
   "cell_type": "code",
   "id": "95cdb928-5c56-4135-8c85-2e0066881079",
   "metadata": {},
   "source": [
    "(Stimulus() & Stimulus().fetch('KEY')[-1]).fetch1('video').shape"
   ],
   "outputs": [],
   "execution_count": null
  },
  {
   "cell_type": "code",
   "id": "cbd201bb-a126-420a-96cd-bdfaae3edd12",
   "metadata": {
    "scrolled": true
   },
   "source": [
    "(BCSpatialRFOutput() & BCSpatialRFOutput().fetch('KEY')[0]).fetch1('bc_srf_output').shape"
   ],
   "outputs": [],
   "execution_count": null
  },
  {
   "cell_type": "code",
   "id": "aaf6e481-c6e2-447a-aebd-0948bfcca228",
   "metadata": {},
   "source": [
    "(RGCSynapticInputs() & (RGCSynapticInputs & \"rgc_id='nsl'\").fetch('KEY')[0]).fetch1('rgc_synaptic_inputs').shape"
   ],
   "outputs": [],
   "execution_count": null
  },
  {
   "cell_type": "code",
   "id": "5f108e9c-549c-403f-a1bf-7d899b739151",
   "metadata": {},
   "source": [
    "(RGCSynapticInputs() & (RGCSynapticInputs & \"rgc_id='tmp'\").fetch('KEY')[0]).fetch1('rgc_synaptic_inputs').shape"
   ],
   "outputs": [],
   "execution_count": null
  },
  {
   "cell_type": "code",
   "id": "4a73f3b7-8d08-426f-8071-c2a0c07965b7",
   "metadata": {},
   "source": [
    "(BCsRfConfig & dict(bc_srf_config_id='ss')).fetch1('bc_cdist')"
   ],
   "outputs": [],
   "execution_count": null
  },
  {
   "cell_type": "code",
   "id": "0be678b0-e0be-4cc9-baf6-6c7e1b6f3fcb",
   "metadata": {},
   "source": [
    "bc_srf_ss = (BCsRfConfig & dict(bc_srf_config_id='ss')).fetch1('bc_srf')\n",
    "bc_srf_ss.shape"
   ],
   "outputs": [],
   "execution_count": null
  },
  {
   "cell_type": "code",
   "id": "af34224d-4d07-4e70-b21e-566495c3c952",
   "metadata": {},
   "source": [
    "bc_srf_ws = (BCsRfConfig & dict(bc_srf_config_id='ws')).fetch1('bc_srf')\n",
    "bc_srf_ws.shape"
   ],
   "outputs": [],
   "execution_count": null
  },
  {
   "cell_type": "code",
   "id": "a6b93ddd-ee5e-4e94-bc71-a596199006b1",
   "metadata": {},
   "source": [
    "RGCSynapticWeights()"
   ],
   "outputs": [],
   "execution_count": null
  },
  {
   "cell_type": "code",
   "id": "a9342341-e418-4640-b301-6f280cb36094",
   "metadata": {},
   "source": [
    "150 / 15"
   ],
   "outputs": [],
   "execution_count": null
  },
  {
   "cell_type": "code",
   "id": "8a1028c0-02aa-4f1b-882b-10250d185daf",
   "metadata": {},
   "source": [
    "(RGCSynapticWeights & dict(rgc_id='nsl')).fetch1('rgc_synaptic_weights_1').shape"
   ],
   "outputs": [],
   "execution_count": null
  },
  {
   "cell_type": "code",
   "id": "eb6e1efa-9479-4418-8ca8-ba9226b34e3d",
   "metadata": {},
   "source": [
    "75\t/ 15"
   ],
   "outputs": [],
   "execution_count": null
  },
  {
   "cell_type": "code",
   "id": "a918e3c7-ae15-441b-8be4-9e514b49b941",
   "metadata": {},
   "source": [
    "(RGCSynapticWeights & dict(rgc_id='tmp')).fetch1('rgc_synaptic_weights_1').shape"
   ],
   "outputs": [],
   "execution_count": null
  },
  {
   "cell_type": "markdown",
   "id": "98f8f25e-0305-4f8f-8616-473b509f1fcc",
   "metadata": {},
   "source": [
    "# Plot BCs"
   ]
  },
  {
   "cell_type": "markdown",
   "id": "cb405884-7f08-445d-b4cd-75410df0ce10",
   "metadata": {},
   "source": [
    "## Plot RFs"
   ]
  },
  {
   "cell_type": "code",
   "id": "a96f87fe-9eb2-418b-b286-567bcdf0c335",
   "metadata": {},
   "source": [
    "from mpl_toolkits.axes_grid1 import make_axes_locatable\n",
    "from alphaanalysis import plot as plota\n",
    "import seaborn as sns\n",
    "#cmap = sns.diverging_palette(h_neg=250, h_pos=10, s=100, l=50, sep=1, n=10, center=\"light\", as_cmap=True)\n",
    "\n",
    "\n",
    "\n",
    "def plot_srf_1d(ax, srf, orientation='horizontal'):\n",
    "    cmap = sns.color_palette('bwr', as_cmap=True)\n",
    "    \n",
    "    x = np.arange(srf.shape[1]) - srf.shape[0]//2\n",
    "    y = srf[srf.shape[0]//2]\n",
    "    \n",
    "    xi = np.linspace(x[0], x[-1], 1001, endpoint=True)\n",
    "    yi = np.interp(xi, xp=x, fp=y)\n",
    "    \n",
    "    ypos = np.where(yi > 0)[0]\n",
    "    i1 = np.min(ypos)\n",
    "    i2 = np.max(ypos)\n",
    "    \n",
    "    print(i1, i2)\n",
    "    \n",
    "    if orientation == 'vertical':\n",
    "        raise NotImplementedError()\n",
    "    else:\n",
    "        ax.fill_between(xi[:i1+1], yi[:i1+1], color=cmap(0.), lw=0)\n",
    "        ax.fill_between(xi[i2:], yi[i2:], color=cmap(0.), lw=0)\n",
    "        ax.fill_between(xi[i1:i2+1], yi[i1:i2+1], color=cmap(1.), lw=0)\n",
    "    ax.axis('off')\n",
    "    ax.invert_xaxis()\n",
    "\n",
    "    \n",
    "def plot_srf_2d(ax, srf, cax=None, pixel_size_um=None):\n",
    "    cmap = sns.color_palette('bwr', as_cmap=True)\n",
    "    \n",
    "    srf = srf/srf.max()\n",
    "    vabsmax = np.max(np.abs(srf))\n",
    "    extent = (-srf.shape[0]//2, srf.shape[0]-srf.shape[0]//2, -srf.shape[1]//2, srf.shape[1]-srf.shape[0]//2)\n",
    "    im = ax.imshow(srf, vmin=-vabsmax, vmax=vabsmax, extent=extent, cmap=cmap)\n",
    "    ax.set(xticks=[], yticks=[])\n",
    "    if cax is not None:\n",
    "        plt.colorbar(im, cax=cax, shrink=2, ticks=(-1, 0, 1))\n",
    "        \n",
    "    if pixel_size_um is not None:\n",
    "        size = 100\n",
    "        plota.plot_scale_bar(ax=ax, x0=np.mean(extent[:2]), y0=extent[2]+10, size=size/pixel_size_um, text=f'{size:d} µm', pad=-3)\n",
    "\n",
    "\n",
    "for name, srf in dict(ss=bc_srf_ss, ws=bc_srf_ws).items():\n",
    "    fig, axs = plt.subplots(2, 2, height_ratios=(1, 3), width_ratios=(10, 1), sharex='col', figsize=(0.7, 0.7))\n",
    "\n",
    "    ax = axs[0, 0]\n",
    "    plot_srf_1d(ax, srf, orientation='horizontal')\n",
    "    ax = axs[0, 1].axis('off')\n",
    "    \n",
    "    ax = axs[1, 0]\n",
    "    cax = axs[1, 1]\n",
    "    plot_srf_2d(ax, srf, cax=cax)#, pixel_size_um=5)\n",
    "\n",
    "    plt.savefig(f'figures/sRf_{name}.pdf', dpi=300, bbox_inches='tight')\n",
    "    plt.show()"
   ],
   "outputs": [],
   "execution_count": null
  },
  {
   "cell_type": "markdown",
   "id": "3f077d0a-fb38-4218-a0c4-2c86a329c998",
   "metadata": {},
   "source": [
    "## Plot NLs"
   ]
  },
  {
   "cell_type": "code",
   "id": "18b9716a-b965-47e9-984d-2ac7d3663073",
   "metadata": {},
   "source": [
    "BCRectConfig()"
   ],
   "outputs": [],
   "execution_count": null
  },
  {
   "cell_type": "code",
   "id": "87a642b0-fe2f-4d0a-89e3-1e3e9e18aa94",
   "metadata": {},
   "source": [
    "bc_nl_ss = (BCRectConfig & dict(bc_rect_config_id='ss')).fetch1('bc_nl')\n",
    "bc_nl_ss.shape"
   ],
   "outputs": [],
   "execution_count": null
  },
  {
   "cell_type": "code",
   "id": "cacd3f4f-150e-4357-9710-a73fde8c726b",
   "metadata": {},
   "source": [
    "bc_nl_ws = (BCRectConfig & dict(bc_rect_config_id='ws')).fetch1('bc_nl')\n",
    "bc_nl_ws.shape"
   ],
   "outputs": [],
   "execution_count": null
  },
  {
   "cell_type": "code",
   "id": "a4119fa4-31d7-4230-be74-c90505b7db5c",
   "metadata": {},
   "source": [
    "from alphacnn.model.cnn_model import parametrized_sigmoid\n",
    "\n",
    "\n",
    "def plot_nl(ax, nl):\n",
    "    x = np.linspace(-0.1, +0.4, 101)\n",
    "    y = parametrized_sigmoid(x, *nl)\n",
    "    ax.plot(x, y, color='k', lw=1)\n",
    "    ax.axis('off')\n",
    "\n",
    "    \n",
    "for name, srf in dict(ss=bc_nl_ss, ws=bc_nl_ws).items():\n",
    "    fig, ax = plt.subplots(1, 1, figsize=(0.7, 0.7))\n",
    "    plot_nl(ax, srf)\n",
    "    plt.savefig(f'figures/bc_nl_{name}.pdf', dpi=300, bbox_inches='tight')\n",
    "    plt.show()"
   ],
   "outputs": [],
   "execution_count": null
  },
  {
   "cell_type": "markdown",
   "id": "ea6888fe-33f7-4d5e-8661-1199ab4f1e2f",
   "metadata": {},
   "source": [
    "## Plot synaptic weights"
   ]
  },
  {
   "cell_type": "code",
   "id": "99f07893-d922-4ec4-ae7b-b5014fea79df",
   "metadata": {},
   "source": [
    "syn12_nsl = (RGCSynapticWeights & dict(rgc_id='nsl')).fetch1('rgc_synaptic_weights_1', 'rgc_synaptic_weights_2')\n",
    "syn12_nsl[0].shape"
   ],
   "outputs": [],
   "execution_count": null
  },
  {
   "cell_type": "code",
   "id": "ea184a55-e3b0-45e4-be73-e3e9df1606a6",
   "metadata": {},
   "source": [
    "syn12_tmp = (RGCSynapticWeights & dict(rgc_id='tmp')).fetch1('rgc_synaptic_weights_1', 'rgc_synaptic_weights_2')\n",
    "syn12_tmp[0].shape"
   ],
   "outputs": [],
   "execution_count": null
  },
  {
   "cell_type": "code",
   "id": "e973c9f5-0653-4ce6-9f3c-de9f10b6dab4",
   "metadata": {},
   "source": [
    "syn12_tmp_ss = (RGCSynapticWeights & dict(rgc_id='tmp_ss')).fetch1('rgc_synaptic_weights_1', 'rgc_synaptic_weights_2')\n",
    "syn12_tmp_ws = (RGCSynapticWeights & dict(rgc_id='tmp_ws')).fetch1('rgc_synaptic_weights_1', 'rgc_synaptic_weights_2')"
   ],
   "outputs": [],
   "execution_count": null
  },
  {
   "cell_type": "code",
   "id": "7a6f652b-daf7-4c7b-ba58-a0297f3e0047",
   "metadata": {},
   "source": [
    "from alphaanalysis import plot as plota\n",
    "import seaborn as sns"
   ],
   "outputs": [],
   "execution_count": null
  },
  {
   "cell_type": "code",
   "id": "98925792-b5a4-43ce-87c8-b7e89e8efb39",
   "metadata": {},
   "source": [
    "name_dict = dict(\n",
    "    nsl=r'n$_\\mathrm{wi}$',\n",
    "    tmp_ws=r't$_\\mathrm{wi}$',\n",
    "    tmp=r't$_\\mathrm{mi}$',\n",
    "    tmp_ss=r't$_\\mathrm{si}$',\n",
    ")"
   ],
   "outputs": [],
   "execution_count": null
  },
  {
   "cell_type": "code",
   "id": "0ee2d0e2-b2f7-4168-b05a-83f5c7c86d28",
   "metadata": {},
   "source": [
    "def plot_syn_2d(axs, syn12, cax=None, pixel_size_um=None, vmax=None, cmap='viridis'):\n",
    "    syn1, syn2 = syn12\n",
    "    \n",
    "    if vmax is None:\n",
    "        vmax = np.max([np.max(syn1), np.max(syn2)])\n",
    "        \n",
    "    extent = (-syn1.shape[0]//2, syn1.shape[0]-syn1.shape[0]//2, -syn1.shape[1]//2, syn1.shape[1]-syn1.shape[0]//2)\n",
    "    \n",
    "    for ax, syn in zip(axs, (syn1, syn2)):\n",
    "        syn = syn.copy()\n",
    "        #syn[syn<1e-9] = np.nan\n",
    "        im = ax.imshow(syn, vmin=0, vmax=vmax, extent=extent, cmap=cmap, interpolation=None)\n",
    "        ax.set(xticks=[], yticks=[])\n",
    "        \n",
    "    if cax is not None:\n",
    "        plt.colorbar(im, cax=cax, shrink=2)\n",
    "        \n",
    "    if pixel_size_um is not None:\n",
    "        size = 100\n",
    "        plota.plot_scale_bar(ax=ax, x0=np.mean(extent[:2]), y0=extent[2]+10, size=size/pixel_size_um, text=f'{size:d} µm', pad=-3)\n",
    "\n",
    "\n",
    "def plot_synaptic_weights(axs, data_dict, yticks_list=None):\n",
    "    cmap = sns.color_palette(\"viridis\", as_cmap=True)\n",
    "    \n",
    "    vmax = np.max([np.max([np.max(syn1), np.max(syn2)]) for syn1, syn2 in  data_dict.values()])\n",
    "    \n",
    "    for ax_row, (name, syn12) in zip(axs, data_dict.items()):\n",
    "        plot_syn_2d(ax_row[:2], syn12, vmax=None, cax=ax_row[2])\n",
    "        plota.row_title(ax_row[0], name_dict[name], pad=10)\n",
    "\n",
    "    if yticks_list is not None:\n",
    "        for i, ax in enumerate(yticks_list):\n",
    "            axs[i, 2].set_yticks(yticks_list[i])\n",
    "\n",
    "\n",
    "fig, axs = plt.subplots(4, 3, figsize=(1.3, 1.5), width_ratios=(8, 8, 1))\n",
    "\n",
    "plot_synaptic_weights(axs,\n",
    "                      dict(tmp=syn12_tmp, tmp_ss=syn12_tmp_ss, tmp_ws=syn12_tmp_ws, nsl=syn12_nsl),\n",
    "                     yticks_list=[[0, 0.01], [0, 0.02],[0, 0.02], [0, 0.003]])\n",
    "\n",
    "plt.tight_layout(rect=(0.05, 0, 1.0, 1), h_pad=0.5, w_pad=0.8, pad=0.2)\n",
    "\n",
    "plt.savefig(f'figures/all_syns.pdf', dpi=300)\n",
    "plota.show_saved_figure(fig)\n",
    "plt.show()"
   ],
   "outputs": [],
   "execution_count": null
  },
  {
   "cell_type": "markdown",
   "id": "ffd2de8f-2383-4796-9508-e0e75344e452",
   "metadata": {},
   "source": [
    "## Plot encoder parameters in one"
   ]
  },
  {
   "cell_type": "code",
   "id": "4438c7bd-b50f-4a5d-93b4-58dd5da26d75",
   "metadata": {},
   "source": [
    "fig, axs = plt.subplots(8, 3, figsize=(1.7, 3.5), width_ratios=(8, 8, 1), height_ratios=(1, 0.01, 1, 0.4, 1, 1, 1, 1))\n",
    "\n",
    "for ax, (name, srf) in zip(axs[0, :], dict(w=bc_srf_ws, s=bc_srf_ss).items()):\n",
    "    ax.set_title(name)\n",
    "    plot_srf_2d(ax, srf, cax=axs[0, -1])\n",
    "\n",
    "for ax in axs[1, :]:\n",
    "    ax.axis('off')\n",
    "\n",
    "axs[2, -1].axis('off')\n",
    "for ax, (name, srf) in zip(axs[2, :], dict(w=bc_nl_ws, s=bc_nl_ss).items()):\n",
    "    plot_nl(ax, srf)\n",
    "\n",
    "for ax in axs[3, :]:\n",
    "    ax.axis('off')\n",
    "\n",
    "plot_synaptic_weights(axs[-4:, :], dict(tmp=syn12_tmp, tmp_ss=syn12_tmp_ss, tmp_ws=syn12_tmp_ws, nsl=syn12_nsl), \n",
    "                      yticks_list=[[0, 0.01], [0, 0.02],[0, 0.02], [0, 0.003]])\n",
    "\n",
    "plt.tight_layout(rect=(0.05, 0, 1.0, 1), h_pad=0.3, w_pad=0.5, pad=0.2)\n",
    "\n",
    "plt.savefig(f'figures/all_encoder_params.pdf', dpi=300)\n",
    "plota.show_saved_figure(fig)\n",
    "plt.show()"
   ],
   "outputs": [],
   "execution_count": null
  },
  {
   "cell_type": "markdown",
   "id": "421e1c82-2963-4746-97cf-e6abe3737d31",
   "metadata": {},
   "source": [
    "# Plot encoding"
   ]
  },
  {
   "cell_type": "code",
   "id": "3bc538c8-8e5f-4822-85cd-74f3aea73823",
   "metadata": {},
   "source": [
    "StimulusIDs()"
   ],
   "outputs": [],
   "execution_count": null
  },
  {
   "cell_type": "code",
   "id": "199a39df-51b3-4466-8432-feaa9ba0b7ec",
   "metadata": {},
   "source": [
    "stim_key1 = dict(stimulus_id=\"f002_368415-368640-hr_right.mp4\", wo_cricket=0)\n",
    "stim_key2 = dict(stimulus_id=\"f002_177568-178166-hr_right.mp4\", wo_cricket=1)\n",
    "\n",
    "video1 = (Stimulus() & stim_key1).fetch1('video')\n",
    "video2 = (Stimulus() & stim_key2).fetch1('video')"
   ],
   "outputs": [],
   "execution_count": null
  },
  {
   "cell_type": "code",
   "id": "ec6cdc03-6a04-4792-a7a3-a31f9e4e157c",
   "metadata": {},
   "source": [
    "plot_stimulus.plot_video_frames(video1, n_rows=4, n_cols=8);"
   ],
   "outputs": [],
   "execution_count": null
  },
  {
   "cell_type": "code",
   "id": "a4583312-67b6-4b54-a725-aa13701dd1b7",
   "metadata": {},
   "source": [
    "plot_stimulus.plot_video_frames(video2, n_rows=4, n_cols=8);"
   ],
   "outputs": [],
   "execution_count": null
  },
  {
   "cell_type": "code",
   "id": "091bba73-18d5-4e7b-8518-2b75b1c6dd98",
   "metadata": {},
   "source": [
    "idx1 = 74\n",
    "idx1b = 40\n",
    "idx2 = 160"
   ],
   "outputs": [],
   "execution_count": null
  },
  {
   "cell_type": "code",
   "id": "f59efda6-3952-4f14-a59c-1e6bbdbd5230",
   "metadata": {},
   "source": [
    "bc_key = dict(bc_noise_id='med')\n",
    "\n",
    "bc_srf_outputs_1 = (BCSpatialRFOutput() & stim_key1 & bc_key).fetch('bc_srf_output')\n",
    "assert len(bc_srf_outputs_1) == 2"
   ],
   "outputs": [],
   "execution_count": null
  },
  {
   "cell_type": "code",
   "id": "a06e2bdf-eea2-43f9-b906-5a014ffb54bf",
   "metadata": {},
   "source": [
    "bc_rect_key = [dict(bc_srf_config_id='ss', bc_rect_config_id='ss'), dict(bc_srf_config_id='ws', bc_rect_config_id='ws')]\n",
    "\n",
    "bc_rect_outputs_1 = (BCRectOutput() & stim_key1 & bc_key & bc_rect_key).fetch('bc_rect_output')\n",
    "assert len(bc_rect_outputs_1) == 2\n",
    "#bc_srf_outputs_2 = (BCSpatialRFOutput() & stim_key2 & bc_key).fetch('bc_rect_output')"
   ],
   "outputs": [],
   "execution_count": null
  },
  {
   "cell_type": "code",
   "id": "51a6cf1d-1087-4475-861b-ca7a8364ba59",
   "metadata": {},
   "source": [
    "bc_noise_key = dict(bc_noise_sample=0, bc_noise_id='med')\n",
    "\n",
    "bc_noise_outputs_1 = (BCNoiseOutput() & stim_key1 & bc_key & bc_rect_key & bc_noise_key).fetch('bc_noise_output')\n",
    "assert len(bc_noise_outputs_1) == 2\n",
    "bc_noise_outputs_2 = (BCNoiseOutput() & stim_key2 & bc_key & bc_rect_key & bc_noise_key).fetch('bc_noise_output')\n",
    "assert len(bc_noise_outputs_2) == 2"
   ],
   "outputs": [],
   "execution_count": null
  },
  {
   "cell_type": "code",
   "id": "c2eb7d53-0d59-4501-b428-58d7c5f35578",
   "metadata": {},
   "source": [
    "nsl_rgc_key = dict(rgc_id='nsl')\n",
    "\n",
    "nsl_input1 = (RGCSynapticInputs() & stim_key1 & nsl_rgc_key & bc_key & bc_rect_key & bc_noise_key).fetch1('rgc_synaptic_inputs')\n",
    "nsl_input2 = (RGCSynapticInputs() & stim_key2 & nsl_rgc_key & bc_key & bc_rect_key & bc_noise_key).fetch1('rgc_synaptic_inputs')"
   ],
   "outputs": [],
   "execution_count": null
  },
  {
   "cell_type": "code",
   "id": "44fa6675-4520-43a1-bf96-f81d8326b5bd",
   "metadata": {},
   "source": [
    "tmp_rgc_key = dict(rgc_id='tmp')\n",
    "\n",
    "tmp_input1 = (RGCSynapticInputs() & stim_key1 & tmp_rgc_key & bc_key & bc_rect_key & bc_noise_key).fetch1('rgc_synaptic_inputs')\n",
    "tmp_input2 = (RGCSynapticInputs() & stim_key2 & tmp_rgc_key & bc_key & bc_rect_key & bc_noise_key).fetch1('rgc_synaptic_inputs')"
   ],
   "outputs": [],
   "execution_count": null
  },
  {
   "cell_type": "code",
   "id": "01bb916a-a1cb-44b1-b45f-b443f87834aa",
   "metadata": {},
   "source": [
    "tmp_ws_rgc_key = dict(rgc_id='tmp_ws')\n",
    "\n",
    "tmp_ws_input1 = (RGCSynapticInputs() & stim_key1 & tmp_ws_rgc_key & bc_key & bc_rect_key & bc_noise_key).fetch1('rgc_synaptic_inputs')\n",
    "tmp_ws_input2 = (RGCSynapticInputs() & stim_key2 & tmp_ws_rgc_key & bc_key & bc_rect_key & bc_noise_key).fetch1('rgc_synaptic_inputs')"
   ],
   "outputs": [],
   "execution_count": null
  },
  {
   "cell_type": "code",
   "id": "328cba88-79d5-46d9-93ab-f6b2c286eec1",
   "metadata": {},
   "source": [
    "tmp_ss_rgc_key = dict(rgc_id='tmp_ss')\n",
    "\n",
    "tmp_ss_input1 = (RGCSynapticInputs() & stim_key1 & tmp_ss_rgc_key & bc_key & bc_rect_key & bc_noise_key).fetch1('rgc_synaptic_inputs')\n",
    "tmp_ss_input2 = (RGCSynapticInputs() & stim_key2 & tmp_ss_rgc_key & bc_key & bc_rect_key & bc_noise_key).fetch1('rgc_synaptic_inputs')"
   ],
   "outputs": [],
   "execution_count": null
  },
  {
   "cell_type": "code",
   "id": "cce08b74-7b6b-4812-ab86-b695a06b129f",
   "metadata": {},
   "source": [
    "def plot_foward_pass_title(title, ax):\n",
    "    ax.text(0.5, 0.5, title, ha='center', va='center', transform=ax.transAxes)\n",
    "    ax.axis('off')"
   ],
   "outputs": [],
   "execution_count": null
  },
  {
   "cell_type": "code",
   "id": "f20917d3-b68a-4e9d-aeef-cdbd8567468d",
   "metadata": {},
   "source": [
    "def get_vrng(images):\n",
    "    vmin = np.min([np.min(image) for image in images])\n",
    "    vmax = np.max([np.max(image) for image in images])\n",
    "    \n",
    "    return vmin, vmax"
   ],
   "outputs": [],
   "execution_count": null
  },
  {
   "cell_type": "code",
   "id": "4e889d75-980e-4e3b-a39d-76c4586df092",
   "metadata": {},
   "source": [
    "def plot_images(images, axs, cax=None, cmap='gray', vmin=None, vmax=None, cbar_kwargs=None):\n",
    "\n",
    "    if vmin is None or vmax is None:\n",
    "        vmin, vmax = get_vrng(images)\n",
    "    \n",
    "    for image, ax in zip(images, axs):\n",
    "        im = ax.imshow(image, cmap='gray', vmin=vmin, vmax=vmax, interpolation='none')\n",
    "        ax.set(xticks=[], yticks=[])\n",
    "        \n",
    "    if cax is not None:\n",
    "        if cbar_kwargs is None:\n",
    "            cbar_kwargs = dict()\n",
    "        \n",
    "        plt.colorbar(im, cax=cax, **cbar_kwargs)"
   ],
   "outputs": [],
   "execution_count": null
  },
  {
   "cell_type": "code",
   "id": "a13283cc-c9fe-4442-b6dc-146082a9bfd4",
   "metadata": {},
   "source": [
    "mosaic = [\n",
    "    [\"t_Stim\"] * 2 + ['.'],\n",
    "    [\"Stim\", \"Stim\", \"Stim_cb\"],\n",
    "\n",
    "    ['.'] * 3,\n",
    "    \n",
    "    [\"t_BCsRF\"] * 2 + ['.'],\n",
    "    [\"BCsRF2\", \"BCsRF1\", \"BCsRF_cb\"],\n",
    "    \n",
    "    [\"t_BCnl\"] * 2 + ['.'],\n",
    "    [\"BCnl2\", \"BCnl1\", \"BCnl_cb\"],\n",
    "    \n",
    "    [\"t_BCnoise\"] * 2 + ['.'],\n",
    "    [\"BCnoise2\", \"BCnoise1\", \"BCnoise_cb\"],\n",
    "\n",
    "    ['.'] * 3,\n",
    "    \n",
    "    [\"t_RGC\"] * 2 + ['.'],\n",
    "\n",
    "    ['.'] * 3,\n",
    "    \n",
    "    [\"RGC\", \"RGC\", \"RGC_cb\"],\n",
    "]\n",
    "\n",
    "fig, axs = plt.subplot_mosaic(mosaic=mosaic, figsize=(2., 0.3*len(mosaic)), height_ratios=[1, 4, 0.9, 1, 4, 1, 4, 1, 4, 0.9, 1, 0.9, 4], width_ratios=(1, 1, 1/10))\n",
    "\n",
    "plot_foward_pass_title(title='Stimulus', ax=axs[\"t_Stim\"])\n",
    "plot_images(images=[video1[idx1, :, :]], axs=[axs[\"Stim\"]], cax=axs[\"Stim_cb\"])\n",
    "\n",
    "plot_foward_pass_title(title='BC sRF', ax=axs[\"t_BCsRF\"])\n",
    "plot_images(images=[bc_srf_outputs_1[0][idx1], bc_srf_outputs_1[1][idx1]], axs=[axs[\"BCsRF1\"], axs[\"BCsRF2\"]], cax=axs[\"BCsRF_cb\"])\n",
    "\n",
    "plot_foward_pass_title(title='BC nl', ax=axs[\"t_BCnl\"])\n",
    "plot_images(images=[bc_rect_outputs_1[0][idx1], bc_rect_outputs_1[1][idx1]], axs=[axs[\"BCnl1\"], axs[\"BCnl2\"]], cax=axs[\"BCnl_cb\"])\n",
    "\n",
    "plot_foward_pass_title(title='BC noise', ax=axs[\"t_BCnoise\"])\n",
    "plot_images(images=[bc_noise_outputs_1[0][idx1], bc_noise_outputs_1[1][idx1]], axs=[axs[\"BCnoise1\"], axs[\"BCnoise2\"]], cax=axs[\"BCnoise_cb\"])\n",
    "\n",
    "plot_foward_pass_title(title='RGC dendrites', ax=axs[\"t_RGC\"])\n",
    "plot_images(images=[tmp_input1[idx1]], axs=[axs[\"RGC\"]], cax=axs[\"RGC_cb\"])\n",
    "\n",
    "plt.tight_layout(h_pad=0)\n",
    "plt.savefig('figures/forward_pass.pdf', dpi=300, bbox_inches='tight')"
   ],
   "outputs": [],
   "execution_count": null
  },
  {
   "cell_type": "code",
   "id": "fb8fd013-9dca-4882-8845-4bc6e6807067",
   "metadata": {},
   "source": [
    "mosaic = [\n",
    "    [\"Stim1\", \"Stim2\"],\n",
    "    [\"RGC1\", \"RGC2\"],\n",
    "]\n",
    "\n",
    "fig, axs = plt.subplot_mosaic(mosaic=mosaic, figsize=(3, 3/2*len(mosaic)))\n",
    "\n",
    "plot_images(images=[video1[idx1], video2[idx2]], axs=[axs[\"Stim1\"], axs[\"Stim2\"]], cax=None)\n",
    "plot_images(images=[tmp_input1[idx1], tmp_input2[idx2]], axs=[axs[\"RGC1\"], axs[\"RGC2\"]], cax=None)\n",
    "\n",
    "plt.tight_layout(h_pad=0)\n",
    "plt.savefig('figures/forward_pass_input_output.pdf', dpi=300, bbox_inches='tight')"
   ],
   "outputs": [],
   "execution_count": null
  },
  {
   "cell_type": "markdown",
   "id": "8f4f18ac-0e7e-4bc2-8e41-9bd2626f85be",
   "metadata": {},
   "source": [
    "# Plot encodings for different encoders"
   ]
  },
  {
   "cell_type": "code",
   "id": "65914a0e-d0b2-4baf-945c-948e784f3bee",
   "metadata": {},
   "source": [
    "stim_images = [video1[idx1, :, :], video1[idx1b, :, :], video2[idx2, :, :]]\n",
    "bc_ws_images = [bc_noise_outputs_1[1][idx1], bc_noise_outputs_1[1][idx1b], bc_noise_outputs_2[1][idx2]]\n",
    "bc_ss_images = [bc_noise_outputs_1[0][idx1], bc_noise_outputs_1[0][idx1b], bc_noise_outputs_2[0][idx2]]\n",
    "t_images = [tmp_input1[idx1], tmp_input1[idx1b], tmp_input2[idx2]]\n",
    "n_images = [nsl_input1[idx1], nsl_input1[idx1b], nsl_input2[idx2]]\n",
    "t_ws_images = [tmp_ws_input1[idx1], tmp_ws_input1[idx1b], tmp_ws_input2[idx2]]\n",
    "t_ss_images = [tmp_ss_input1[idx1], tmp_ss_input1[idx1b], tmp_ss_input2[idx2]]\n",
    "\n",
    "cols = ['Stim', '.', 'BCws', 'BCss', '.', 'tmp', 'tmp_ss', 'tmp_ws', 'nsl']\n",
    "width_ratios = [1, 0.2, 1, 1, 0.2, 1, 1, 1, 1]\n",
    "\n",
    "n_rows = 3\n",
    "mosaic = [[f\"{col}{i}\" if col not in ['.'] else col for col in cols] for i in range(n_rows)]\n",
    "mosaic += [['Stim_cb', '.', 'BC_cb', '.', '.', 'RGC_cb', '.', '.', '.']]\n",
    "\n",
    "height_ratios = [1] * n_rows + [0.1]\n",
    "\n",
    "fig, axs = plt.subplot_mosaic(mosaic=mosaic, figsize=(5, 0.5*len(mosaic)), width_ratios=width_ratios, height_ratios=height_ratios)\n",
    "for ax in axs.values():\n",
    "    ax.set(xticks=[], yticks=[])\n",
    "    \n",
    "# Stim\n",
    "stim_vmin, stim_vmax = get_vrng(images=stim_images)\n",
    "\n",
    "axs['Stim0'].set(title='Stimulus\\n')\n",
    "plot_images(images=stim_images, axs=[axs[f'Stim{i}'] for i in range(n_rows)], cax=axs[\"Stim_cb\"], vmin=stim_vmin, vmax=stim_vmax, cbar_kwargs=dict(orientation='horizontal'))\n",
    "\n",
    "# BC\n",
    "bc_vmin, bc_vmax = get_vrng(images=bc_ws_images + bc_ss_images)\n",
    "axs['BCws0'].set(title='BCs\\nws')\n",
    "plot_images(images=bc_ws_images, axs=[axs[f'BCws{i}'] for i in range(n_rows)], cax=axs[\"BC_cb\"], vmin=bc_vmin, vmax=bc_vmax, cbar_kwargs=dict(orientation='horizontal'))\n",
    "axs['BCss0'].set(title='ss')\n",
    "plot_images(images=bc_ss_images, axs=[axs[f'BCss{i}'] for i in range(n_rows)], vmin=bc_vmin, vmax=bc_vmax)\n",
    "\n",
    "# RGC\n",
    "rgc_vmin, rgc_vmax = get_vrng(images=t_images + n_images + t_ws_images + t_ss_images)\n",
    "\n",
    "axs['tmp0'].set(title='RGCs\\n' + r't$_\\mathrm{mi}$')\n",
    "plot_images(images=t_images, axs=[axs[f'tmp{i}'] for i in range(n_rows)], cax=axs[\"RGC_cb\"], vmin=0, vmax=rgc_vmax, cbar_kwargs=dict(orientation='horizontal'))\n",
    "axs['tmp_ws0'].set(title=r't$_\\mathrm{wi}$')\n",
    "plot_images(images=t_ws_images, axs=[axs[f'tmp_ws{i}'] for i in range(n_rows)], vmin=rgc_vmin, vmax=rgc_vmax)\n",
    "axs['tmp_ss0'].set(title=r't$_\\mathrm{si}$')\n",
    "plot_images(images=t_ss_images, axs=[axs[f'tmp_ss{i}'] for i in range(n_rows)], vmin=rgc_vmin, vmax=rgc_vmax)\n",
    "axs['nsl0'].set(title=r'n$_\\mathrm{wi}$')\n",
    "plot_images(images=n_images, axs=[axs[f'nsl{i}'] for i in range(n_rows)], vmin=rgc_vmin, vmax=rgc_vmax)\n",
    "\n",
    "plt.savefig('figures/compare_encodings.pdf', dpi=300, bbox_inches='tight')"
   ],
   "outputs": [],
   "execution_count": null
  },
  {
   "cell_type": "markdown",
   "id": "0ec03975-9397-4d65-a3e8-166c9c105a87",
   "metadata": {},
   "source": [
    "# Appendix"
   ]
  },
  {
   "cell_type": "code",
   "id": "79f5a2a0-6083-4074-807b-e388a0d2c482",
   "metadata": {},
   "source": [
    "raise NotImplementedError()"
   ],
   "outputs": [],
   "execution_count": null
  },
  {
   "cell_type": "markdown",
   "id": "3b7c9615-c7b5-4098-b39e-9048ea77a1e7",
   "metadata": {},
   "source": [
    "## Videos"
   ]
  },
  {
   "cell_type": "code",
   "id": "b9045942-25df-406d-88f5-d09f468cd2d2",
   "metadata": {},
   "source": [
    "from matplotlib import animation\n",
    "from alphacnn.visualize import plot_video\n",
    "from ipywidgets import HTML\n",
    "\n",
    "fps = 60\n",
    "FFwriter = animation.FFMpegWriter(fps=fps)"
   ],
   "outputs": [],
   "execution_count": null
  },
  {
   "cell_type": "code",
   "id": "5d957155-0601-4fea-a886-c05f0d869d6e",
   "metadata": {},
   "source": [
    "results['BC-rect'][:, :, :, 0].shape"
   ],
   "outputs": [],
   "execution_count": null
  },
  {
   "cell_type": "code",
   "id": "bd6f65fa-df94-4ad4-a298-f7545558afb6",
   "metadata": {},
   "source": [
    "HTML(plot_video.array_to_anim(video[-results['BC-rect'].shape[0]:], fps=fps, cbar=True).to_html5_video())"
   ],
   "outputs": [],
   "execution_count": null
  },
  {
   "cell_type": "code",
   "id": "bfe17a1a-b019-4bd3-9563-88000bc11120",
   "metadata": {},
   "source": [
    "HTML(plot_video.array_to_anim(results['BC-rect'][:, :, :, 0], fps=fps, cbar=True).to_html5_video())"
   ],
   "outputs": [],
   "execution_count": null
  },
  {
   "cell_type": "code",
   "id": "0399bcc9-ef51-4afc-9bb4-1b9cb855861a",
   "metadata": {},
   "source": [
    "HTML(plot_video.array_to_anim(results['BC-rect'][:, :, :, 1], fps=fps, cbar=True).to_html5_video())"
   ],
   "outputs": [],
   "execution_count": null
  },
  {
   "cell_type": "code",
   "id": "d61fc927-39d8-40ea-9c18-689fc5a6435e",
   "metadata": {},
   "source": [
    "HTML(plot_video.array_to_anim(results['RGC-nsl-input'][:, :, :], fps=fps, cbar=True).to_html5_video())"
   ],
   "outputs": [],
   "execution_count": null
  },
  {
   "cell_type": "code",
   "id": "5967262f-6f34-4c27-a18b-af88e45e9b20",
   "metadata": {},
   "source": [
    "HTML(plot_video.array_to_anim(results['RGC-tmp-input'][:, :, :], fps=fps, cbar=True).to_html5_video())"
   ],
   "outputs": [],
   "execution_count": null
  },
  {
   "cell_type": "code",
   "id": "195bf659-c344-42a1-b91a-ec41fb561794",
   "metadata": {},
   "source": [
    "HTML(plot_video.array_to_anim(results['RGC-nsl_alt-input'][:, :, :], fps=fps, cbar=True).to_html5_video())"
   ],
   "outputs": [],
   "execution_count": null
  },
  {
   "cell_type": "code",
   "id": "a996830d-e547-4452-84ac-9ee7becd6afc",
   "metadata": {
    "tags": []
   },
   "source": [
    "HTML(plot_video.array_to_anim(results['RGC-tmp_alt-input'][:, :, :], fps=fps, cbar=True).to_html5_video())"
   ],
   "outputs": [],
   "execution_count": null
  },
  {
   "cell_type": "markdown",
   "id": "98ec81cb-75ee-4013-bd2b-a815370c4832",
   "metadata": {},
   "source": [
    "# Save to video"
   ]
  },
  {
   "cell_type": "code",
   "id": "9e5f208b-8c9b-40b2-bd36-4df5b44aa4e4",
   "metadata": {},
   "source": [
    "# n_clip_end = 1\n",
    "# data_sets = {\n",
    "#     'stimulus': video[-results['BC-rect'].shape[0]:-n_clip_end],\n",
    "#     'RGCs_tmp': results['RGC-tmp-input'][:-n_clip_end, :, :],\n",
    "#     'RGCs_nsl': results['RGC-nsl-input'][:-n_clip_end, :, :],\n",
    "#     'BCs_ws': results['BC-rect'][:-n_clip_end, :, :, 0],\n",
    "#     'BCs_ss': results['BC-rect'][:-n_clip_end, :, :, 1],\n",
    "# }\n",
    "# \n",
    "# for name, data in data_sets.items():\n",
    "#     anim = plot_video.array_to_anim(data, fps=fps, cbar=False, axis_off=True, xy_upsample=5 if data.shape[1] < 30 else 0)\n",
    "#     anim.save(os.path.join(paths.VIDEO_OUT_PATH, f\"example_{name}.mp4\"), writer = FFwriter)"
   ],
   "outputs": [],
   "execution_count": null
  }
 ],
 "metadata": {
  "kernelspec": {
   "display_name": "Python 3 (ipykernel)",
   "language": "python",
   "name": "python3"
  },
  "language_info": {
   "codemirror_mode": {
    "name": "ipython",
    "version": 3
   },
   "file_extension": ".py",
   "mimetype": "text/x-python",
   "name": "python",
   "nbconvert_exporter": "python",
   "pygments_lexer": "ipython3",
   "version": "3.11.5"
  }
 },
 "nbformat": 4,
 "nbformat_minor": 5
}
