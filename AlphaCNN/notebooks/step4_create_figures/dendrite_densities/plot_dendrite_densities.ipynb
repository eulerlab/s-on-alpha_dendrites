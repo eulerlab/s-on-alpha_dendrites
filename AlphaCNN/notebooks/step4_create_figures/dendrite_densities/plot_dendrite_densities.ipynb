{
 "cells": [
  {
   "cell_type": "code",
   "id": "a46a3162-38b0-4eec-a13b-8399c56c2c64",
   "metadata": {},
   "source": "",
   "outputs": [],
   "execution_count": null
  },
  {
   "cell_type": "markdown",
   "id": "330be1ff-c3b7-4dd5-bc27-9bb5ee55c412",
   "metadata": {},
   "source": [
    "# Imports"
   ]
  },
  {
   "cell_type": "code",
   "id": "ae02896e-2329-401e-b6dc-90453b70b2e6",
   "metadata": {},
   "source": [
    "import os\n",
    "import numpy as np\n",
    "import pandas as pd\n",
    "import seaborn as sns\n",
    "from matplotlib import pyplot as plt"
   ],
   "outputs": [],
   "execution_count": null
  },
  {
   "cell_type": "markdown",
   "id": "5488f328-d698-412d-867d-c530900862b3",
   "metadata": {},
   "source": [
    "# Load data"
   ]
  },
  {
   "cell_type": "code",
   "id": "91c549f4-f811-44f1-bbfe-700b394ec8e6",
   "metadata": {},
   "source": [
    "folder_data = \"../../../data/dendrite_densities\"\n",
    "assert os.path.isdir(folder_data)"
   ],
   "outputs": [],
   "execution_count": null
  },
  {
   "cell_type": "code",
   "id": "dc9b3f88-9fa4-4974-9c9c-3dfe34253d2d",
   "metadata": {},
   "source": "from alphacnn.utils import data_utils",
   "outputs": [],
   "execution_count": null
  },
  {
   "cell_type": "code",
   "id": "933fd01a-6d5a-4c8d-b33c-9e0ddca26c3e",
   "metadata": {},
   "source": [
    "df_cells = data_utils.load_var(f'{folder_data}/df_dendrite_densities.pkl')\n",
    "\n",
    "for col in ['linestack', 'density_map', 'line_stratification_yz', 'density_map_extent']:\n",
    "    if col in df_cells.columns:\n",
    "        df_cells.drop(col, axis=1)"
   ],
   "outputs": [],
   "execution_count": null
  },
  {
   "cell_type": "code",
   "id": "72c31379-832c-4f89-93c8-920b66af49d5",
   "metadata": {},
   "source": [
    "df_cells = df_cells[df_cells['ntvd_side'].isin(['nd', 'nv', 'td', 'tv'])]\n",
    "\n",
    "# These groups were assigned before the rotation\n",
    "def assign_group(x):\n",
    "    if x == 'nv':\n",
    "        return 'n'\n",
    "    elif x == 'nd':\n",
    "        return 'n'\n",
    "    elif x == 'tv':\n",
    "        return 't'\n",
    "    elif x == 'td':\n",
    "        return 'd'\n",
    "    else:\n",
    "        raise ValueError(x)\n",
    "df_cells['group'] = df_cells['ntvd_side'].apply(assign_group)\n",
    "\n",
    "df_cells"
   ],
   "outputs": [],
   "execution_count": null
  },
  {
   "cell_type": "code",
   "id": "3d715323-9a30-443d-810c-6485a074820c",
   "metadata": {},
   "source": [
    "row = df_cells[(df_cells.date.astype(str)==\"2020-06-08\") & (df_cells.exp_num==1)].iloc[0]\n",
    "row"
   ],
   "outputs": [],
   "execution_count": null
  },
  {
   "cell_type": "markdown",
   "id": "f6f081a7-31cb-4518-9ca8-aa2326b579f4",
   "metadata": {},
   "source": [
    "# Plot"
   ]
  },
  {
   "cell_type": "code",
   "id": "6c538244-f4eb-4be8-bdb8-5e1b3cd7c1a2",
   "metadata": {},
   "source": [
    "from alphaanalysis import plot as plota\n",
    "\n",
    "plota.set_default_params(kind='paper')"
   ],
   "outputs": [],
   "execution_count": null
  },
  {
   "cell_type": "code",
   "id": "88d561ac-7111-4e1e-9e27-69f41269f339",
   "metadata": {},
   "source": [
    "from alphacnn.geometry import grid\n",
    "\n",
    "def plot_densities(morph, ax=None, s=11, clip_to_lims=True):\n",
    "    if ax is None:\n",
    "        fig, ax = plt.subplots(1, 1, figsize=(7, 5))\n",
    "\n",
    "    morph_xs = morph.lines.T[0]\n",
    "    morph_ys = morph.lines.T[1]\n",
    "\n",
    "    xabsmax = np.max(np.abs(morph_xs)) * 1.1\n",
    "    yabsmax = np.max(np.abs(morph_ys)) * 1.1\n",
    "    vabsmax = np.max([xabsmax, yabsmax])\n",
    "\n",
    "    if clip_to_lims:\n",
    "        ii = np.where((np.abs(morph.cxys[:, 0]) <= xabsmax) & (np.abs(morph.cxys[:, 1]) <= yabsmax))[0]\n",
    "    else:\n",
    "        ii = np.arange(len(morph.length_per_hex))\n",
    "    \n",
    "    grid.plot_grid(\n",
    "        morph.cxys[ii], morph.hxys[ii], ax=ax,\n",
    "        scatter_kws=dict(alpha=0, color='k', s=7, clip_on=False),\n",
    "        hex_kws=dict(c='dimgray', zorder=-100, rasterized=False, alpha=1, clip_on=False))\n",
    "    \n",
    "    ax.plot(morph_xs, morph_ys, c='k', lw=0.8, zorder=100, alpha=1.0,\n",
    "            solid_joinstyle='round', solid_capstyle='round')\n",
    "    \n",
    "    ax.set_aspect('equal', 'box')\n",
    "\n",
    "    if morph.length_per_hex is not None:\n",
    "        \n",
    "        scatter = ax.scatter(\n",
    "            morph.cxys[ii, 0], morph.cxys[ii, 1], c=morph.length_per_hex[ii], cmap='Reds', zorder=50, s=s,\n",
    "            alpha=1, marker='H', edgecolor='none', rasterized=False)\n",
    "        plt.colorbar(scatter, label='Dendritic length\\nper hex. [µm]', ax=ax)"
   ],
   "outputs": [],
   "execution_count": null
  },
  {
   "cell_type": "code",
   "id": "98a6ecb7-921a-430e-8b69-43aa630bb71b",
   "metadata": {},
   "source": [
    "def plot_fit(morph, ax):\n",
    "    x = morph.dist_to_soma\n",
    "    y = morph.length_per_hex\n",
    "    xabsmax = np.max(np.abs(x[y>0])) * 1.1\n",
    "    \n",
    "    x_fit = np.linspace(0, xabsmax, 300)\n",
    "    y_fit = morph.get_yfit(x_fit)\n",
    "    \n",
    "    ax.scatter(x[x<xabsmax], y[x<xabsmax], c='gray', s=2, alpha=0.7)\n",
    "    ax.plot(x_fit, y_fit, c='k', label='fit')\n",
    "    \n",
    "    #ax.axvline(row.morph.opt_fit.x[2], c='C0', ls='--', zorder=-1, label='')\n",
    "    ax.legend(loc='upper right')"
   ],
   "outputs": [],
   "execution_count": null
  },
  {
   "cell_type": "code",
   "id": "d7cd56ba-5bd0-4fe7-b524-003f5bd837ff",
   "metadata": {},
   "source": [
    "def plot_test(ax, df, x, y, palette=None, order=None, xlabel=None, ylabel=None, s=3, edgecolor='k', linewidth=0.5, alpha=0.9, **kwargs):\n",
    "    sns.boxplot(ax=ax, data=df, x=x, y=y, palette=palette, order=order,\n",
    "                showmeans=True, meanline=True,\n",
    "                meanprops={'color': 'k', 'ls': '-', 'lw': 2},\n",
    "                medianprops={'visible': False}, whiskerprops={'visible': False},\n",
    "                showfliers=False, showbox=False, showcaps=False)\n",
    "    \n",
    "    sns.swarmplot(ax=ax, data=df, x=x, y=y, palette=palette, order=order, s=s, edgecolor=edgecolor, linewidth=linewidth, alpha=alpha, **kwargs)\n",
    "    ax.set(xlabel=xlabel, ylabel=ylabel)\n",
    "    ax.spines['bottom'].set_visible(False)\n",
    "    ax.tick_params(axis='x', length=0)    "
   ],
   "outputs": [],
   "execution_count": null
  },
  {
   "cell_type": "code",
   "id": "85d2510e-6cad-4b85-9d10-fcdfec756c45",
   "metadata": {},
   "source": [
    "assert \"morph\" in df_cells.columns, df_cells.columns\n",
    "\n",
    "palette = plota.get_palette(indicator='glutamate')\n",
    "order = plota.get_order(indicator='glutamate')\n",
    "\n",
    "fig, axs = plt.subplots(1, 4, figsize=(7, 2.2), width_ratios=(3.5, 2, 1, 1))\n",
    "sns.despine()\n",
    "\n",
    "ax = axs[0]\n",
    "plot_densities(morph=row.morph, ax=ax, s=17)\n",
    "ax.set(xlabel='x-position [µm]', ylabel='y-position [µm]')\n",
    "\n",
    "ax = axs[1]\n",
    "plot_fit(morph=row.morph, ax=ax)\n",
    "ax.set(xlabel='Distance [µm]')\n",
    "\n",
    "ax = axs[2]\n",
    "plot_test(\n",
    "    ax=ax, df=df_cells,\n",
    "    y='opt_fit_std', x='group', palette=palette, order=order,\n",
    "    ylabel='Fitted scale [µm]')\n",
    "\n",
    "ax = axs[3]\n",
    "plot_test(\n",
    "    ax=ax, df=df_cells,\n",
    "    y='opt_fit_xcut', x='group', palette=palette, order=order,\n",
    "    ylabel='Fitted cutoff [µm]')\n",
    "\n",
    "\n",
    "plt.tight_layout()\n",
    "\n",
    "plt.savefig(f'./figures/example_fit_synapses.pdf', dpi=600)\n",
    "plt.show()"
   ],
   "outputs": [],
   "execution_count": null
  },
  {
   "cell_type": "code",
   "id": "6ccff7a5-daf0-4eec-922a-0b2280ae9c9d",
   "metadata": {},
   "source": [],
   "outputs": [],
   "execution_count": null
  },
  {
   "cell_type": "code",
   "id": "acc4f927-afc2-487c-aea2-dd1d7f5f9f5c",
   "metadata": {},
   "source": [],
   "outputs": [],
   "execution_count": null
  }
 ],
 "metadata": {
  "kernelspec": {
   "display_name": "Python 3 (ipykernel)",
   "language": "python",
   "name": "python3"
  },
  "language_info": {
   "codemirror_mode": {
    "name": "ipython",
    "version": 3
   },
   "file_extension": ".py",
   "mimetype": "text/x-python",
   "name": "python",
   "nbconvert_exporter": "python",
   "pygments_lexer": "ipython3",
   "version": "3.11.5"
  },
  "widgets": {
   "application/vnd.jupyter.widget-state+json": {
    "state": {
     "00d1db444c2c4c7a9e85c0d43bb7b641": {
      "model_module": "@jupyter-widgets/controls",
      "model_module_version": "2.0.0",
      "model_name": "ProgressStyleModel",
      "state": {
       "description_width": ""
      }
     },
     "01c9a52d56ba441e9fc8c85e81471568": {
      "model_module": "@jupyter-widgets/controls",
      "model_module_version": "2.0.0",
      "model_name": "ProgressStyleModel",
      "state": {
       "description_width": ""
      }
     },
     "02caa4e4cabf4a4f985d8d774790cda9": {
      "model_module": "@jupyter-widgets/controls",
      "model_module_version": "2.0.0",
      "model_name": "HTMLStyleModel",
      "state": {
       "description_width": "",
       "font_size": null,
       "text_color": null
      }
     },
     "0324f42e02c9452b84d531c5c9044b59": {
      "model_module": "@jupyter-widgets/controls",
      "model_module_version": "2.0.0",
      "model_name": "HTMLStyleModel",
      "state": {
       "description_width": "",
       "font_size": null,
       "text_color": null
      }
     },
     "0425dffb946b4800b4667a0bea8b5bf1": {
      "model_module": "@jupyter-widgets/controls",
      "model_module_version": "2.0.0",
      "model_name": "ProgressStyleModel",
      "state": {
       "description_width": ""
      }
     },
     "048ffa13b1804d8db3ee4bc83b8f4513": {
      "model_module": "@jupyter-widgets/base",
      "model_module_version": "2.0.0",
      "model_name": "LayoutModel",
      "state": {}
     },
     "056e53c79abe42b19388768461aa692f": {
      "model_module": "@jupyter-widgets/controls",
      "model_module_version": "2.0.0",
      "model_name": "HTMLModel",
      "state": {
       "layout": "IPY_MODEL_229cf816754843949a4c7fd437a8a5e4",
       "style": "IPY_MODEL_be28a2898196434ba5e04491d9f885de",
       "value": " 1456/1456 [00:06&lt;00:00, 742.56it/s]"
      }
     },
     "05b2ac9a809744118a882bd56815e5a1": {
      "model_module": "@jupyter-widgets/controls",
      "model_module_version": "2.0.0",
      "model_name": "FloatProgressModel",
      "state": {
       "bar_style": "success",
       "layout": "IPY_MODEL_f871d56bf0d44849b30562e15ea587b8",
       "max": 1456,
       "style": "IPY_MODEL_0425dffb946b4800b4667a0bea8b5bf1",
       "value": 1456
      }
     },
     "05f2d6c6e93a47d3ac15b614df970616": {
      "model_module": "@jupyter-widgets/base",
      "model_module_version": "2.0.0",
      "model_name": "LayoutModel",
      "state": {}
     },
     "0725b337d2b842e3947f4d872cec94b3": {
      "model_module": "@jupyter-widgets/base",
      "model_module_version": "2.0.0",
      "model_name": "LayoutModel",
      "state": {}
     },
     "08a116e1aa0546a092b7c83c90c4e487": {
      "model_module": "@jupyter-widgets/controls",
      "model_module_version": "2.0.0",
      "model_name": "HTMLModel",
      "state": {
       "layout": "IPY_MODEL_388c536d03594d4fa8be6183f28e4dc2",
       "style": "IPY_MODEL_ce13fe369b4249838ed1afbbf434c069",
       "value": "100%"
      }
     },
     "096e8e7705dd416ab262fc98985bf492": {
      "model_module": "@jupyter-widgets/controls",
      "model_module_version": "2.0.0",
      "model_name": "HTMLModel",
      "state": {
       "layout": "IPY_MODEL_79dc05e1885e4c918c862249db9c91f5",
       "style": "IPY_MODEL_415d21ee2a9e4e8e8290a351bc5f1911",
       "value": "100%"
      }
     },
     "0971d98c8bc24afd9427d3c4ae029114": {
      "model_module": "@jupyter-widgets/controls",
      "model_module_version": "2.0.0",
      "model_name": "HTMLStyleModel",
      "state": {
       "description_width": "",
       "font_size": null,
       "text_color": null
      }
     },
     "09ae00b7062d4116b844c5407a580ba0": {
      "model_module": "@jupyter-widgets/controls",
      "model_module_version": "2.0.0",
      "model_name": "HTMLModel",
      "state": {
       "layout": "IPY_MODEL_a2b23a42fc5a44688410b58498b86ab7",
       "style": "IPY_MODEL_a3b5aac6ae7b48269d026cbdf324ee5f",
       "value": "100%"
      }
     },
     "0d74485202d24dec8f365908889972de": {
      "model_module": "@jupyter-widgets/base",
      "model_module_version": "2.0.0",
      "model_name": "LayoutModel",
      "state": {}
     },
     "0e0d42cb3db74d1f956741a0fbab214b": {
      "model_module": "@jupyter-widgets/controls",
      "model_module_version": "2.0.0",
      "model_name": "HBoxModel",
      "state": {
       "children": [
        "IPY_MODEL_8252f4714cb2492ea9b0789bf2ae9b55",
        "IPY_MODEL_3f15fb55f4ed4574b39cb77bebd42ce4",
        "IPY_MODEL_88ff278206174d5bae79596844e1cf94"
       ],
       "layout": "IPY_MODEL_b4a65b980d8f42b19524440a2ab561b6"
      }
     },
     "0e8be2a99f974259a970a0ee314d7d13": {
      "model_module": "@jupyter-widgets/controls",
      "model_module_version": "2.0.0",
      "model_name": "HTMLModel",
      "state": {
       "layout": "IPY_MODEL_2d6bfa218bc14d62ac6f6d81888858fd",
       "style": "IPY_MODEL_0971d98c8bc24afd9427d3c4ae029114",
       "value": " 1456/1456 [00:05&lt;00:00, 726.18it/s]"
      }
     },
     "0ee22521b73347b5a47e1b63a230644a": {
      "model_module": "@jupyter-widgets/controls",
      "model_module_version": "2.0.0",
      "model_name": "ProgressStyleModel",
      "state": {
       "description_width": ""
      }
     },
     "0f6781f1c18f4b9985e505126cc8f0cc": {
      "model_module": "@jupyter-widgets/base",
      "model_module_version": "2.0.0",
      "model_name": "LayoutModel",
      "state": {}
     },
     "1008e1f36daf41a280c641f23c065369": {
      "model_module": "@jupyter-widgets/controls",
      "model_module_version": "2.0.0",
      "model_name": "HBoxModel",
      "state": {
       "children": [
        "IPY_MODEL_1c27c63baeea48bb83dc0ffebe5ed08f",
        "IPY_MODEL_458bf4799a1948029029bd040588d8f5",
        "IPY_MODEL_79ffb8d1e90f4098935892e160b6eecf"
       ],
       "layout": "IPY_MODEL_6c86d7fd8440482cb97b224b305ffd43"
      }
     },
     "105f0426807d4b6681379a751a5c2584": {
      "model_module": "@jupyter-widgets/base",
      "model_module_version": "2.0.0",
      "model_name": "LayoutModel",
      "state": {}
     },
     "106d1a15c0704e43b1297c56625b60c5": {
      "model_module": "@jupyter-widgets/controls",
      "model_module_version": "2.0.0",
      "model_name": "FloatProgressModel",
      "state": {
       "bar_style": "success",
       "layout": "IPY_MODEL_ac2906cb5a0243cabcc981d4c6456dff",
       "max": 1456,
       "style": "IPY_MODEL_9d402cbb03bb428eaad127cd61e9883c",
       "value": 1456
      }
     },
     "118bdc5229f541f9a93c120fbc0e0bcc": {
      "model_module": "@jupyter-widgets/controls",
      "model_module_version": "2.0.0",
      "model_name": "ProgressStyleModel",
      "state": {
       "description_width": ""
      }
     },
     "129a3be4d816401c8c181a9de2d725cb": {
      "model_module": "@jupyter-widgets/controls",
      "model_module_version": "2.0.0",
      "model_name": "HTMLModel",
      "state": {
       "layout": "IPY_MODEL_0725b337d2b842e3947f4d872cec94b3",
       "style": "IPY_MODEL_b1dccf9c9a10448c956a155b85c5daf4",
       "value": "100%"
      }
     },
     "12e4168bed474b36bba4f4fb5d7c8e39": {
      "model_module": "@jupyter-widgets/controls",
      "model_module_version": "2.0.0",
      "model_name": "FloatProgressModel",
      "state": {
       "bar_style": "success",
       "layout": "IPY_MODEL_fad4b595f3f8436ea1f352611f963d6a",
       "max": 1456,
       "style": "IPY_MODEL_9b70c00309984f0fa50beb298ff7d21c",
       "value": 1456
      }
     },
     "13cf218ee2ed4d388e2c1e9014cd33d0": {
      "model_module": "@jupyter-widgets/controls",
      "model_module_version": "2.0.0",
      "model_name": "FloatProgressModel",
      "state": {
       "bar_style": "success",
       "layout": "IPY_MODEL_ff24a3b8f52d49d29f2fb618169b9423",
       "max": 1456,
       "style": "IPY_MODEL_00d1db444c2c4c7a9e85c0d43bb7b641",
       "value": 1456
      }
     },
     "15aac46393894841a483c4f925499c44": {
      "model_module": "@jupyter-widgets/controls",
      "model_module_version": "2.0.0",
      "model_name": "ProgressStyleModel",
      "state": {
       "description_width": ""
      }
     },
     "163c94ef989d452492022570715c910e": {
      "model_module": "@jupyter-widgets/base",
      "model_module_version": "2.0.0",
      "model_name": "LayoutModel",
      "state": {}
     },
     "177a1f25bcbc4eeeaa93af2e2526009b": {
      "model_module": "@jupyter-widgets/controls",
      "model_module_version": "2.0.0",
      "model_name": "HTMLStyleModel",
      "state": {
       "description_width": "",
       "font_size": null,
       "text_color": null
      }
     },
     "1818dd76250240469cac82f06f1abdd3": {
      "model_module": "@jupyter-widgets/controls",
      "model_module_version": "2.0.0",
      "model_name": "FloatProgressModel",
      "state": {
       "bar_style": "success",
       "layout": "IPY_MODEL_54c66e6593354be5bb9fefe809bcc444",
       "max": 1456,
       "style": "IPY_MODEL_0ee22521b73347b5a47e1b63a230644a",
       "value": 1456
      }
     },
     "18763926df9f4d30956050bb31993cbe": {
      "model_module": "@jupyter-widgets/controls",
      "model_module_version": "2.0.0",
      "model_name": "FloatProgressModel",
      "state": {
       "bar_style": "success",
       "layout": "IPY_MODEL_105f0426807d4b6681379a751a5c2584",
       "max": 1456,
       "style": "IPY_MODEL_8786341a66c34c549c9b2f8d3f2dce3e",
       "value": 1456
      }
     },
     "18d5fbef22cd446b852c7d84351bb319": {
      "model_module": "@jupyter-widgets/base",
      "model_module_version": "2.0.0",
      "model_name": "LayoutModel",
      "state": {}
     },
     "1a43a54be00c49e8be53e180fb54197e": {
      "model_module": "@jupyter-widgets/base",
      "model_module_version": "2.0.0",
      "model_name": "LayoutModel",
      "state": {}
     },
     "1b73b919ba3f4d0882f2c22749e8fa01": {
      "model_module": "@jupyter-widgets/base",
      "model_module_version": "2.0.0",
      "model_name": "LayoutModel",
      "state": {}
     },
     "1c27c63baeea48bb83dc0ffebe5ed08f": {
      "model_module": "@jupyter-widgets/controls",
      "model_module_version": "2.0.0",
      "model_name": "HTMLModel",
      "state": {
       "layout": "IPY_MODEL_f4180ca499f249c6b110a8d48cd7a924",
       "style": "IPY_MODEL_f717065efeae48438f77d58a3475f27e",
       "value": "100%"
      }
     },
     "1c58de392bc6481d921a960f3b94ebf4": {
      "model_module": "@jupyter-widgets/controls",
      "model_module_version": "2.0.0",
      "model_name": "HTMLModel",
      "state": {
       "layout": "IPY_MODEL_78c3ba8c73d5475481f1b338415d0ad3",
       "style": "IPY_MODEL_7e453b85187844cb8aaa613dc707cdf8",
       "value": " 1456/1456 [00:06&lt;00:00, 612.56it/s]"
      }
     },
     "1db5aa1036754280b18a242f6df151dc": {
      "model_module": "@jupyter-widgets/base",
      "model_module_version": "2.0.0",
      "model_name": "LayoutModel",
      "state": {}
     },
     "1dceb3b0911741389185217b20f54a00": {
      "model_module": "@jupyter-widgets/base",
      "model_module_version": "2.0.0",
      "model_name": "LayoutModel",
      "state": {}
     },
     "1e0b60189575429d9911e9a07b007bbb": {
      "model_module": "@jupyter-widgets/base",
      "model_module_version": "2.0.0",
      "model_name": "LayoutModel",
      "state": {}
     },
     "1eb92c3b747a4701ae22f10ea9fe8e12": {
      "model_module": "@jupyter-widgets/controls",
      "model_module_version": "2.0.0",
      "model_name": "HBoxModel",
      "state": {
       "children": [
        "IPY_MODEL_dd6354680f3e4bcda949bb1afe5cabbb",
        "IPY_MODEL_58bd94b3c17243039796767ed64d172f",
        "IPY_MODEL_973067d7a5f44dc89f406bd94099aa37"
       ],
       "layout": "IPY_MODEL_163c94ef989d452492022570715c910e"
      }
     },
     "1fbc9c53842946a4b4b876fa64178e12": {
      "model_module": "@jupyter-widgets/controls",
      "model_module_version": "2.0.0",
      "model_name": "FloatProgressModel",
      "state": {
       "bar_style": "success",
       "layout": "IPY_MODEL_05f2d6c6e93a47d3ac15b614df970616",
       "max": 1456,
       "style": "IPY_MODEL_5a39cd44f98c428fa13d5c6a026e2d79",
       "value": 1456
      }
     },
     "209399854863483384f9fba5f4325dc6": {
      "model_module": "@jupyter-widgets/controls",
      "model_module_version": "2.0.0",
      "model_name": "HTMLStyleModel",
      "state": {
       "description_width": "",
       "font_size": null,
       "text_color": null
      }
     },
     "20f42290c03942d3b789ce27286be668": {
      "model_module": "@jupyter-widgets/controls",
      "model_module_version": "2.0.0",
      "model_name": "HTMLModel",
      "state": {
       "layout": "IPY_MODEL_46adf7850fce4c36a5ff648ad8f9b101",
       "style": "IPY_MODEL_aee8ecb6852c4c7d86bf1335943f2c7c",
       "value": " 1456/1456 [00:06&lt;00:00, 591.76it/s]"
      }
     },
     "221188f477564e3b90d276483e4bb095": {
      "model_module": "@jupyter-widgets/controls",
      "model_module_version": "2.0.0",
      "model_name": "FloatProgressModel",
      "state": {
       "bar_style": "success",
       "layout": "IPY_MODEL_9c8c0d06725646c3ab22077a9750ad0a",
       "max": 1456,
       "style": "IPY_MODEL_381334c49ecb45308fae25dd1db5f804",
       "value": 1456
      }
     },
     "222f5355714e41ac84f661f222230ac5": {
      "model_module": "@jupyter-widgets/base",
      "model_module_version": "2.0.0",
      "model_name": "LayoutModel",
      "state": {}
     },
     "229cf816754843949a4c7fd437a8a5e4": {
      "model_module": "@jupyter-widgets/base",
      "model_module_version": "2.0.0",
      "model_name": "LayoutModel",
      "state": {}
     },
     "22c1ac2e019f4bc4afb481ec8fc3d78c": {
      "model_module": "@jupyter-widgets/controls",
      "model_module_version": "2.0.0",
      "model_name": "ProgressStyleModel",
      "state": {
       "description_width": ""
      }
     },
     "22c513bde6a3493f891f552295825061": {
      "model_module": "@jupyter-widgets/controls",
      "model_module_version": "2.0.0",
      "model_name": "HTMLStyleModel",
      "state": {
       "description_width": "",
       "font_size": null,
       "text_color": null
      }
     },
     "237b17dd876e4ec08585eae2442551ce": {
      "model_module": "@jupyter-widgets/base",
      "model_module_version": "2.0.0",
      "model_name": "LayoutModel",
      "state": {}
     },
     "254e2412d5d340ab820878c62e3b4929": {
      "model_module": "@jupyter-widgets/controls",
      "model_module_version": "2.0.0",
      "model_name": "HTMLModel",
      "state": {
       "layout": "IPY_MODEL_e76b8663b4d449149ead5dfed5f7471a",
       "style": "IPY_MODEL_8e3026d9fd59449bba2b7c27215ceada",
       "value": "100%"
      }
     },
     "26c6e4760c0946108a1cc1e62e4524aa": {
      "model_module": "@jupyter-widgets/base",
      "model_module_version": "2.0.0",
      "model_name": "LayoutModel",
      "state": {}
     },
     "26ceba618a844e18a58c02218f73afb0": {
      "model_module": "@jupyter-widgets/controls",
      "model_module_version": "2.0.0",
      "model_name": "HBoxModel",
      "state": {
       "children": [
        "IPY_MODEL_647bdc60e52e4f34a529e35e18c862c5",
        "IPY_MODEL_221188f477564e3b90d276483e4bb095",
        "IPY_MODEL_c2d91a19f0964504be53025e1f00369d"
       ],
       "layout": "IPY_MODEL_ff26e56041cd481fa9332880f3ffe74c"
      }
     },
     "26e6eae8b660487fb6b4574d6f91f853": {
      "model_module": "@jupyter-widgets/base",
      "model_module_version": "2.0.0",
      "model_name": "LayoutModel",
      "state": {}
     },
     "27b1ba1fb17e44c9b212d8c415416f19": {
      "model_module": "@jupyter-widgets/controls",
      "model_module_version": "2.0.0",
      "model_name": "ProgressStyleModel",
      "state": {
       "description_width": ""
      }
     },
     "2838efd66398487b81cf270de4b7d4eb": {
      "model_module": "@jupyter-widgets/base",
      "model_module_version": "2.0.0",
      "model_name": "LayoutModel",
      "state": {}
     },
     "28952bf14a364c6f873e8fa1a5301411": {
      "model_module": "@jupyter-widgets/controls",
      "model_module_version": "2.0.0",
      "model_name": "HTMLStyleModel",
      "state": {
       "description_width": "",
       "font_size": null,
       "text_color": null
      }
     },
     "2baf487556084829b674483f0354b992": {
      "model_module": "@jupyter-widgets/base",
      "model_module_version": "2.0.0",
      "model_name": "LayoutModel",
      "state": {}
     },
     "2bcf2d3dd34a48baaaee98ca7b46fc55": {
      "model_module": "@jupyter-widgets/base",
      "model_module_version": "2.0.0",
      "model_name": "LayoutModel",
      "state": {}
     },
     "2cb2f3b0f54844ba8f25282738e9ca51": {
      "model_module": "@jupyter-widgets/controls",
      "model_module_version": "2.0.0",
      "model_name": "HTMLModel",
      "state": {
       "layout": "IPY_MODEL_dabf9741f1c341688487d391f12ffdd3",
       "style": "IPY_MODEL_7fab00de13ed45ebabac2d3d03736e5c",
       "value": "100%"
      }
     },
     "2d6bfa218bc14d62ac6f6d81888858fd": {
      "model_module": "@jupyter-widgets/base",
      "model_module_version": "2.0.0",
      "model_name": "LayoutModel",
      "state": {}
     },
     "2d8fc7e6b4c8451b8f43421700057405": {
      "model_module": "@jupyter-widgets/controls",
      "model_module_version": "2.0.0",
      "model_name": "HBoxModel",
      "state": {
       "children": [
        "IPY_MODEL_dc4041b54fde4980914863c423355110",
        "IPY_MODEL_7dc0100bb0304d46b19dced20df22d46",
        "IPY_MODEL_0e8be2a99f974259a970a0ee314d7d13"
       ],
       "layout": "IPY_MODEL_b896c2c153de41dbb34463d974dfe1b8"
      }
     },
     "2e774bfdd27c4598890483ccbebd8774": {
      "model_module": "@jupyter-widgets/controls",
      "model_module_version": "2.0.0",
      "model_name": "FloatProgressModel",
      "state": {
       "bar_style": "success",
       "layout": "IPY_MODEL_baa9f01a73f3456180e82143fcb1a02a",
       "max": 1456,
       "style": "IPY_MODEL_eaf3c8c4bae2477583d0928cfbdcca1e",
       "value": 1456
      }
     },
     "2f20573aa6c24fd8bf61dc06621c74ce": {
      "model_module": "@jupyter-widgets/base",
      "model_module_version": "2.0.0",
      "model_name": "LayoutModel",
      "state": {}
     },
     "2f76e3edba0847edb013717cfcd28128": {
      "model_module": "@jupyter-widgets/controls",
      "model_module_version": "2.0.0",
      "model_name": "HBoxModel",
      "state": {
       "children": [
        "IPY_MODEL_9c897fac01894863aaf305d95b8b3dfd",
        "IPY_MODEL_8d82fbac901a42c8b83ed26b9949297b",
        "IPY_MODEL_40c97d5dca2f402db599861890014c2d"
       ],
       "layout": "IPY_MODEL_c2889bc3693d42aa801ca09f9c665b2a"
      }
     },
     "30eb5b8d196141fa8b9190515a4292eb": {
      "model_module": "@jupyter-widgets/controls",
      "model_module_version": "2.0.0",
      "model_name": "HBoxModel",
      "state": {
       "children": [
        "IPY_MODEL_8e0e6bff66c4474ebced836180cfd46f",
        "IPY_MODEL_83fc226f7425431d8f9669dce5769969",
        "IPY_MODEL_96f488311ae043ae859e6dc86316f626"
       ],
       "layout": "IPY_MODEL_f5c5305f46954606b809289201e3423e"
      }
     },
     "311711104d4c46da95080829fc1fe7b0": {
      "model_module": "@jupyter-widgets/base",
      "model_module_version": "2.0.0",
      "model_name": "LayoutModel",
      "state": {}
     },
     "3287036b92ac4aa5b6876b6d8eb52c5f": {
      "model_module": "@jupyter-widgets/controls",
      "model_module_version": "2.0.0",
      "model_name": "HBoxModel",
      "state": {
       "children": [
        "IPY_MODEL_5a8532ec1a9d48b6b092e0e216d10dc6",
        "IPY_MODEL_50c785189dfe46ab8e02edf151e73b5e",
        "IPY_MODEL_fc23f806bc95416bac9e886053aade1b"
       ],
       "layout": "IPY_MODEL_e58b34f47d944cb08037972fa1109373"
      }
     },
     "33c0643a71fd4dd6978fe5cb2e7417dc": {
      "model_module": "@jupyter-widgets/controls",
      "model_module_version": "2.0.0",
      "model_name": "HTMLStyleModel",
      "state": {
       "description_width": "",
       "font_size": null,
       "text_color": null
      }
     },
     "361b014c67454a64ad3661b1e136c0d1": {
      "model_module": "@jupyter-widgets/controls",
      "model_module_version": "2.0.0",
      "model_name": "HTMLStyleModel",
      "state": {
       "description_width": "",
       "font_size": null,
       "text_color": null
      }
     },
     "36a3375d29ab49669b206849e24c8269": {
      "model_module": "@jupyter-widgets/base",
      "model_module_version": "2.0.0",
      "model_name": "LayoutModel",
      "state": {}
     },
     "36cb8c03482c43edad03135964ce323a": {
      "model_module": "@jupyter-widgets/controls",
      "model_module_version": "2.0.0",
      "model_name": "HBoxModel",
      "state": {
       "children": [
        "IPY_MODEL_254e2412d5d340ab820878c62e3b4929",
        "IPY_MODEL_05b2ac9a809744118a882bd56815e5a1",
        "IPY_MODEL_4c7ce787395d4d009a1092686f1cd5c2"
       ],
       "layout": "IPY_MODEL_cb8c1a6ae7b94796b0098c0fe7a85a6b"
      }
     },
     "37ea678ae7c14b21a19b67adbf3efc69": {
      "model_module": "@jupyter-widgets/base",
      "model_module_version": "2.0.0",
      "model_name": "LayoutModel",
      "state": {}
     },
     "381334c49ecb45308fae25dd1db5f804": {
      "model_module": "@jupyter-widgets/controls",
      "model_module_version": "2.0.0",
      "model_name": "ProgressStyleModel",
      "state": {
       "description_width": ""
      }
     },
     "3871109892f64f258627db45f4acc894": {
      "model_module": "@jupyter-widgets/controls",
      "model_module_version": "2.0.0",
      "model_name": "HTMLStyleModel",
      "state": {
       "description_width": "",
       "font_size": null,
       "text_color": null
      }
     },
     "388c536d03594d4fa8be6183f28e4dc2": {
      "model_module": "@jupyter-widgets/base",
      "model_module_version": "2.0.0",
      "model_name": "LayoutModel",
      "state": {}
     },
     "39294c226e414a59bbfc2235172efe14": {
      "model_module": "@jupyter-widgets/controls",
      "model_module_version": "2.0.0",
      "model_name": "HTMLModel",
      "state": {
       "layout": "IPY_MODEL_ac7daaea63cc4eac8182a671735b8d65",
       "style": "IPY_MODEL_361b014c67454a64ad3661b1e136c0d1",
       "value": " 1456/1456 [00:04&lt;00:00, 698.58it/s]"
      }
     },
     "39ee29b506744b47b705add7c2b095a7": {
      "model_module": "@jupyter-widgets/controls",
      "model_module_version": "2.0.0",
      "model_name": "HTMLModel",
      "state": {
       "layout": "IPY_MODEL_cc32a5bd3935471186f7881906cdc5f8",
       "style": "IPY_MODEL_fb868ca75bc248f18819388899b25d70",
       "value": "100%"
      }
     },
     "3f15fb55f4ed4574b39cb77bebd42ce4": {
      "model_module": "@jupyter-widgets/controls",
      "model_module_version": "2.0.0",
      "model_name": "FloatProgressModel",
      "state": {
       "bar_style": "success",
       "layout": "IPY_MODEL_18d5fbef22cd446b852c7d84351bb319",
       "max": 1456,
       "style": "IPY_MODEL_c882a59bae2041c0b45afb4b04f5827f",
       "value": 1456
      }
     },
     "3f9c69db18c745ee917d8e07d30fa034": {
      "model_module": "@jupyter-widgets/controls",
      "model_module_version": "2.0.0",
      "model_name": "HTMLStyleModel",
      "state": {
       "description_width": "",
       "font_size": null,
       "text_color": null
      }
     },
     "3fb3bfc6984e463a8682dc20919c9ba4": {
      "model_module": "@jupyter-widgets/controls",
      "model_module_version": "2.0.0",
      "model_name": "HBoxModel",
      "state": {
       "children": [
        "IPY_MODEL_c3e1decde62f4d2692885d3eef9d2d90",
        "IPY_MODEL_c336260dfa5d459cb9eaf60c708d8eca",
        "IPY_MODEL_6d1abe4dd0ca4326b5943469cfb7e01a"
       ],
       "layout": "IPY_MODEL_3fcc516d85ef4bc8ba5b62269f385a67"
      }
     },
     "3fcc516d85ef4bc8ba5b62269f385a67": {
      "model_module": "@jupyter-widgets/base",
      "model_module_version": "2.0.0",
      "model_name": "LayoutModel",
      "state": {}
     },
     "40c97d5dca2f402db599861890014c2d": {
      "model_module": "@jupyter-widgets/controls",
      "model_module_version": "2.0.0",
      "model_name": "HTMLModel",
      "state": {
       "layout": "IPY_MODEL_b47b54ce363d4fe3aee951940105681f",
       "style": "IPY_MODEL_a75f13a6aeb544b087005c224347cfa4",
       "value": " 1456/1456 [00:07&lt;00:00, 662.67it/s]"
      }
     },
     "41035beb32364524be99fe3fb6ab4981": {
      "model_module": "@jupyter-widgets/base",
      "model_module_version": "2.0.0",
      "model_name": "LayoutModel",
      "state": {}
     },
     "415d21ee2a9e4e8e8290a351bc5f1911": {
      "model_module": "@jupyter-widgets/controls",
      "model_module_version": "2.0.0",
      "model_name": "HTMLStyleModel",
      "state": {
       "description_width": "",
       "font_size": null,
       "text_color": null
      }
     },
     "43ecb44340704f3384ad142f35d10507": {
      "model_module": "@jupyter-widgets/controls",
      "model_module_version": "2.0.0",
      "model_name": "HBoxModel",
      "state": {
       "children": [
        "IPY_MODEL_b37323296c284071a5bf43c2615948ab",
        "IPY_MODEL_1818dd76250240469cac82f06f1abdd3",
        "IPY_MODEL_7775ea245035435a9ee80a1d4b2946c6"
       ],
       "layout": "IPY_MODEL_237b17dd876e4ec08585eae2442551ce"
      }
     },
     "449ed35c5a314b7992db3fe219a18896": {
      "model_module": "@jupyter-widgets/controls",
      "model_module_version": "2.0.0",
      "model_name": "HTMLStyleModel",
      "state": {
       "description_width": "",
       "font_size": null,
       "text_color": null
      }
     },
     "44e78c3c2316401b90c6e76957192896": {
      "model_module": "@jupyter-widgets/controls",
      "model_module_version": "2.0.0",
      "model_name": "HTMLModel",
      "state": {
       "layout": "IPY_MODEL_9a6779bbd9b8401faed1109f072e39a3",
       "style": "IPY_MODEL_e3f761fe9de34991b39766a3649e1bca",
       "value": "100%"
      }
     },
     "458bf4799a1948029029bd040588d8f5": {
      "model_module": "@jupyter-widgets/controls",
      "model_module_version": "2.0.0",
      "model_name": "FloatProgressModel",
      "state": {
       "bar_style": "success",
       "layout": "IPY_MODEL_fe905056c74447839ed46602b4a6e4b1",
       "max": 1456,
       "style": "IPY_MODEL_15aac46393894841a483c4f925499c44",
       "value": 1456
      }
     },
     "463a6b283bc245e3885af87cf50d2460": {
      "model_module": "@jupyter-widgets/controls",
      "model_module_version": "2.0.0",
      "model_name": "HTMLStyleModel",
      "state": {
       "description_width": "",
       "font_size": null,
       "text_color": null
      }
     },
     "46adf7850fce4c36a5ff648ad8f9b101": {
      "model_module": "@jupyter-widgets/base",
      "model_module_version": "2.0.0",
      "model_name": "LayoutModel",
      "state": {}
     },
     "48cfae08f36547cb8eef6ea6b8493e73": {
      "model_module": "@jupyter-widgets/base",
      "model_module_version": "2.0.0",
      "model_name": "LayoutModel",
      "state": {}
     },
     "4969b6c1c16b4eb5bd85c25a14826990": {
      "model_module": "@jupyter-widgets/controls",
      "model_module_version": "2.0.0",
      "model_name": "HTMLStyleModel",
      "state": {
       "description_width": "",
       "font_size": null,
       "text_color": null
      }
     },
     "4ad163aa6b3344e08ec397bf8ba541f9": {
      "model_module": "@jupyter-widgets/controls",
      "model_module_version": "2.0.0",
      "model_name": "HTMLStyleModel",
      "state": {
       "description_width": "",
       "font_size": null,
       "text_color": null
      }
     },
     "4c7ce787395d4d009a1092686f1cd5c2": {
      "model_module": "@jupyter-widgets/controls",
      "model_module_version": "2.0.0",
      "model_name": "HTMLModel",
      "state": {
       "layout": "IPY_MODEL_d1c7f399dfc740bdb436afe27d3a9abf",
       "style": "IPY_MODEL_3f9c69db18c745ee917d8e07d30fa034",
       "value": " 1456/1456 [00:05&lt;00:00, 790.53it/s]"
      }
     },
     "4df73ed69be84d098bb83fcd2ffba1cf": {
      "model_module": "@jupyter-widgets/controls",
      "model_module_version": "2.0.0",
      "model_name": "ProgressStyleModel",
      "state": {
       "description_width": ""
      }
     },
     "4eb307b326de4d8985c2a614387d9e30": {
      "model_module": "@jupyter-widgets/controls",
      "model_module_version": "2.0.0",
      "model_name": "HTMLStyleModel",
      "state": {
       "description_width": "",
       "font_size": null,
       "text_color": null
      }
     },
     "4f1c95ce88c7401697642e8df2ce4927": {
      "model_module": "@jupyter-widgets/controls",
      "model_module_version": "2.0.0",
      "model_name": "HTMLStyleModel",
      "state": {
       "description_width": "",
       "font_size": null,
       "text_color": null
      }
     },
     "50c785189dfe46ab8e02edf151e73b5e": {
      "model_module": "@jupyter-widgets/controls",
      "model_module_version": "2.0.0",
      "model_name": "FloatProgressModel",
      "state": {
       "bar_style": "success",
       "layout": "IPY_MODEL_c97cd52eafbe48e28168305f6ee72890",
       "max": 1456,
       "style": "IPY_MODEL_d96ea8c0c7534a22b18ab731e95c1676",
       "value": 1456
      }
     },
     "51c92b4ff9ad4f2a92217b833b52acea": {
      "model_module": "@jupyter-widgets/controls",
      "model_module_version": "2.0.0",
      "model_name": "HTMLStyleModel",
      "state": {
       "description_width": "",
       "font_size": null,
       "text_color": null
      }
     },
     "539ce53fce2d4d578dc543de0dfc4e5d": {
      "model_module": "@jupyter-widgets/controls",
      "model_module_version": "2.0.0",
      "model_name": "HTMLStyleModel",
      "state": {
       "description_width": "",
       "font_size": null,
       "text_color": null
      }
     },
     "53dbadff732d4ea995b9901d34fa0155": {
      "model_module": "@jupyter-widgets/controls",
      "model_module_version": "2.0.0",
      "model_name": "HBoxModel",
      "state": {
       "children": [
        "IPY_MODEL_6e3b80d1a1ac4537a481e9cfb6da7f0a",
        "IPY_MODEL_6e8ef7608c6240b6b0b97296a6876f73",
        "IPY_MODEL_e2bab9a7c7694381a091a347b74f3e21"
       ],
       "layout": "IPY_MODEL_de6d115daef04199bd249fb06aaf02a2"
      }
     },
     "54472115b8a24a339988b41640bf7c27": {
      "model_module": "@jupyter-widgets/base",
      "model_module_version": "2.0.0",
      "model_name": "LayoutModel",
      "state": {}
     },
     "54c66e6593354be5bb9fefe809bcc444": {
      "model_module": "@jupyter-widgets/base",
      "model_module_version": "2.0.0",
      "model_name": "LayoutModel",
      "state": {}
     },
     "54ce4a927a904203b0f55955b384f04d": {
      "model_module": "@jupyter-widgets/controls",
      "model_module_version": "2.0.0",
      "model_name": "HBoxModel",
      "state": {
       "children": [
        "IPY_MODEL_89b2788a5b984be883e778876f3653d5",
        "IPY_MODEL_13cf218ee2ed4d388e2c1e9014cd33d0",
        "IPY_MODEL_a7ed38f57a164b23824e3f929dfb31c1"
       ],
       "layout": "IPY_MODEL_c4d4ae1879ef4440ad6930dd7b77230e"
      }
     },
     "54d359138240499a821623c0eede83e7": {
      "model_module": "@jupyter-widgets/base",
      "model_module_version": "2.0.0",
      "model_name": "LayoutModel",
      "state": {}
     },
     "553f90bc9e3448b88177fa9dc96c0736": {
      "model_module": "@jupyter-widgets/controls",
      "model_module_version": "2.0.0",
      "model_name": "HTMLStyleModel",
      "state": {
       "description_width": "",
       "font_size": null,
       "text_color": null
      }
     },
     "56033a934bff4786a006327abcf81771": {
      "model_module": "@jupyter-widgets/base",
      "model_module_version": "2.0.0",
      "model_name": "LayoutModel",
      "state": {}
     },
     "56901b1c37914d139d3d8df5fc2ed54e": {
      "model_module": "@jupyter-widgets/base",
      "model_module_version": "2.0.0",
      "model_name": "LayoutModel",
      "state": {}
     },
     "57cb38fafc6149999e77683c75f486cf": {
      "model_module": "@jupyter-widgets/controls",
      "model_module_version": "2.0.0",
      "model_name": "HBoxModel",
      "state": {
       "children": [
        "IPY_MODEL_096e8e7705dd416ab262fc98985bf492",
        "IPY_MODEL_be2e6b16b5a244c7a10379fad55f921e",
        "IPY_MODEL_beec7bfac7c84f92a52d7e0e4b21105f"
       ],
       "layout": "IPY_MODEL_d98e81ce6ed743898010dfd8b92aaa91"
      }
     },
     "5841238b4b0547d6b5cd393d204065a1": {
      "model_module": "@jupyter-widgets/base",
      "model_module_version": "2.0.0",
      "model_name": "LayoutModel",
      "state": {}
     },
     "58bd94b3c17243039796767ed64d172f": {
      "model_module": "@jupyter-widgets/controls",
      "model_module_version": "2.0.0",
      "model_name": "FloatProgressModel",
      "state": {
       "bar_style": "success",
       "layout": "IPY_MODEL_41035beb32364524be99fe3fb6ab4981",
       "max": 1456,
       "style": "IPY_MODEL_a7c9c315bafc4ac892f6f30650991345",
       "value": 1456
      }
     },
     "5a39cd44f98c428fa13d5c6a026e2d79": {
      "model_module": "@jupyter-widgets/controls",
      "model_module_version": "2.0.0",
      "model_name": "ProgressStyleModel",
      "state": {
       "description_width": ""
      }
     },
     "5a8532ec1a9d48b6b092e0e216d10dc6": {
      "model_module": "@jupyter-widgets/controls",
      "model_module_version": "2.0.0",
      "model_name": "HTMLModel",
      "state": {
       "layout": "IPY_MODEL_1db5aa1036754280b18a242f6df151dc",
       "style": "IPY_MODEL_3871109892f64f258627db45f4acc894",
       "value": "100%"
      }
     },
     "5ad2b518318c4a5c8123ea572dbfc009": {
      "model_module": "@jupyter-widgets/base",
      "model_module_version": "2.0.0",
      "model_name": "LayoutModel",
      "state": {}
     },
     "5b46f27446724b358fc7723a33b8ebc5": {
      "model_module": "@jupyter-widgets/controls",
      "model_module_version": "2.0.0",
      "model_name": "HBoxModel",
      "state": {
       "children": [
        "IPY_MODEL_dda0095f11664ee6999c6766d16f1e12",
        "IPY_MODEL_5f7f517adc1e4d549366e347a2820f7c",
        "IPY_MODEL_d7fb19e0994945ebadd193d23e6241f8"
       ],
       "layout": "IPY_MODEL_d19c82d75c9f4077a90af8eb44849235"
      }
     },
     "5b7595d0c9c24046b4c7e7e51cd254b2": {
      "model_module": "@jupyter-widgets/controls",
      "model_module_version": "2.0.0",
      "model_name": "HTMLStyleModel",
      "state": {
       "description_width": "",
       "font_size": null,
       "text_color": null
      }
     },
     "5c9dccad89ae4ac9ad1ad397300e8745": {
      "model_module": "@jupyter-widgets/controls",
      "model_module_version": "2.0.0",
      "model_name": "HTMLStyleModel",
      "state": {
       "description_width": "",
       "font_size": null,
       "text_color": null
      }
     },
     "5d53478928df438d8dea8e65dd7a38fe": {
      "model_module": "@jupyter-widgets/base",
      "model_module_version": "2.0.0",
      "model_name": "LayoutModel",
      "state": {}
     },
     "5e9078a840864b96a9035ec00e4bb893": {
      "model_module": "@jupyter-widgets/base",
      "model_module_version": "2.0.0",
      "model_name": "LayoutModel",
      "state": {}
     },
     "5f7f517adc1e4d549366e347a2820f7c": {
      "model_module": "@jupyter-widgets/controls",
      "model_module_version": "2.0.0",
      "model_name": "FloatProgressModel",
      "state": {
       "bar_style": "success",
       "layout": "IPY_MODEL_a388b1900e0f44059b2e8e3e42447571",
       "max": 1456,
       "style": "IPY_MODEL_96320527b2314ca58e69a1c2ae2410d8",
       "value": 1456
      }
     },
     "6184d07d2c5f49fb96c330fe7d8b33f6": {
      "model_module": "@jupyter-widgets/controls",
      "model_module_version": "2.0.0",
      "model_name": "HTMLStyleModel",
      "state": {
       "description_width": "",
       "font_size": null,
       "text_color": null
      }
     },
     "63f81d0142634f8cacd4281e5e65b6b6": {
      "model_module": "@jupyter-widgets/base",
      "model_module_version": "2.0.0",
      "model_name": "LayoutModel",
      "state": {}
     },
     "647bdc60e52e4f34a529e35e18c862c5": {
      "model_module": "@jupyter-widgets/controls",
      "model_module_version": "2.0.0",
      "model_name": "HTMLModel",
      "state": {
       "layout": "IPY_MODEL_ea2e66b08af648aeafcec6d1cfacae78",
       "style": "IPY_MODEL_02caa4e4cabf4a4f985d8d774790cda9",
       "value": "100%"
      }
     },
     "64dbfd323fe34d928c68b007574d91c2": {
      "model_module": "@jupyter-widgets/controls",
      "model_module_version": "2.0.0",
      "model_name": "FloatProgressModel",
      "state": {
       "bar_style": "success",
       "layout": "IPY_MODEL_b5c99c1577e04f1bbca8c978dfbca727",
       "max": 1456,
       "style": "IPY_MODEL_8fd74f2a243a4ac8a109ca240cd696c1",
       "value": 1456
      }
     },
     "65098f3251294f29a0f81072a32df6ef": {
      "model_module": "@jupyter-widgets/controls",
      "model_module_version": "2.0.0",
      "model_name": "FloatProgressModel",
      "state": {
       "bar_style": "success",
       "layout": "IPY_MODEL_bb51295431d44f839b789b7432b97e60",
       "max": 1456,
       "style": "IPY_MODEL_9384eaf609ed48ec9a5fea6cfece1c27",
       "value": 1456
      }
     },
     "668623b1d0fd4bfe945c0adb086818d3": {
      "model_module": "@jupyter-widgets/base",
      "model_module_version": "2.0.0",
      "model_name": "LayoutModel",
      "state": {}
     },
     "67fc41b89d3145ffaabeb43ef3cf631b": {
      "model_module": "@jupyter-widgets/controls",
      "model_module_version": "2.0.0",
      "model_name": "HTMLModel",
      "state": {
       "layout": "IPY_MODEL_48cfae08f36547cb8eef6ea6b8493e73",
       "style": "IPY_MODEL_177a1f25bcbc4eeeaa93af2e2526009b",
       "value": "100%"
      }
     },
     "689b19da82fe48dc9f08a58154da1b9c": {
      "model_module": "@jupyter-widgets/controls",
      "model_module_version": "2.0.0",
      "model_name": "HBoxModel",
      "state": {
       "children": [
        "IPY_MODEL_08a116e1aa0546a092b7c83c90c4e487",
        "IPY_MODEL_888bf635c25a4c2199ec73a294f25d2b",
        "IPY_MODEL_20f42290c03942d3b789ce27286be668"
       ],
       "layout": "IPY_MODEL_048ffa13b1804d8db3ee4bc83b8f4513"
      }
     },
     "693de0e7bc69412b87188fd67874a4c3": {
      "model_module": "@jupyter-widgets/base",
      "model_module_version": "2.0.0",
      "model_name": "LayoutModel",
      "state": {}
     },
     "6c86d7fd8440482cb97b224b305ffd43": {
      "model_module": "@jupyter-widgets/base",
      "model_module_version": "2.0.0",
      "model_name": "LayoutModel",
      "state": {}
     },
     "6c88b303530749f089ad056a4d429ad0": {
      "model_module": "@jupyter-widgets/base",
      "model_module_version": "2.0.0",
      "model_name": "LayoutModel",
      "state": {}
     },
     "6c8e1a4f08bb4a27950710630c3fe3c3": {
      "model_module": "@jupyter-widgets/base",
      "model_module_version": "2.0.0",
      "model_name": "LayoutModel",
      "state": {}
     },
     "6d1abe4dd0ca4326b5943469cfb7e01a": {
      "model_module": "@jupyter-widgets/controls",
      "model_module_version": "2.0.0",
      "model_name": "HTMLModel",
      "state": {
       "layout": "IPY_MODEL_d2592118d5b54635b422003d1f18a2bf",
       "style": "IPY_MODEL_6f3bb4abb2064e5e901e3dfc1e6d3b4f",
       "value": " 1456/1456 [00:06&lt;00:00, 346.64it/s]"
      }
     },
     "6e3b80d1a1ac4537a481e9cfb6da7f0a": {
      "model_module": "@jupyter-widgets/controls",
      "model_module_version": "2.0.0",
      "model_name": "HTMLModel",
      "state": {
       "layout": "IPY_MODEL_6c88b303530749f089ad056a4d429ad0",
       "style": "IPY_MODEL_f8fcc0e363a245009947f64a71c0ff48",
       "value": "100%"
      }
     },
     "6e8ef7608c6240b6b0b97296a6876f73": {
      "model_module": "@jupyter-widgets/controls",
      "model_module_version": "2.0.0",
      "model_name": "FloatProgressModel",
      "state": {
       "bar_style": "success",
       "layout": "IPY_MODEL_f628515e807d43a586d1edef7c29bc81",
       "max": 1456,
       "style": "IPY_MODEL_c3245dfbc38b429484db291f1e1e46b3",
       "value": 1456
      }
     },
     "6f3bb4abb2064e5e901e3dfc1e6d3b4f": {
      "model_module": "@jupyter-widgets/controls",
      "model_module_version": "2.0.0",
      "model_name": "HTMLStyleModel",
      "state": {
       "description_width": "",
       "font_size": null,
       "text_color": null
      }
     },
     "70035a71ec794f54bf822ba901a52ed0": {
      "model_module": "@jupyter-widgets/controls",
      "model_module_version": "2.0.0",
      "model_name": "HTMLStyleModel",
      "state": {
       "description_width": "",
       "font_size": null,
       "text_color": null
      }
     },
     "7011d579281044b8b15e5f47534c7105": {
      "model_module": "@jupyter-widgets/controls",
      "model_module_version": "2.0.0",
      "model_name": "HTMLStyleModel",
      "state": {
       "description_width": "",
       "font_size": null,
       "text_color": null
      }
     },
     "71669b91ee294e38ba225a9554b52218": {
      "model_module": "@jupyter-widgets/controls",
      "model_module_version": "2.0.0",
      "model_name": "ProgressStyleModel",
      "state": {
       "description_width": ""
      }
     },
     "71e0051853ff4192a571e234644b7882": {
      "model_module": "@jupyter-widgets/controls",
      "model_module_version": "2.0.0",
      "model_name": "HTMLStyleModel",
      "state": {
       "description_width": "",
       "font_size": null,
       "text_color": null
      }
     },
     "745d7300eafc4740849b69da50dc3169": {
      "model_module": "@jupyter-widgets/controls",
      "model_module_version": "2.0.0",
      "model_name": "FloatProgressModel",
      "state": {
       "bar_style": "success",
       "layout": "IPY_MODEL_693de0e7bc69412b87188fd67874a4c3",
       "max": 1456,
       "style": "IPY_MODEL_f7c42efbb12641c9bca7419f1a4813aa",
       "value": 1456
      }
     },
     "75dc1ec917e74d4aa78c9a34485d63dc": {
      "model_module": "@jupyter-widgets/controls",
      "model_module_version": "2.0.0",
      "model_name": "HBoxModel",
      "state": {
       "children": [
        "IPY_MODEL_ddc89cf4fa1049e9ace360fe1f635b9b",
        "IPY_MODEL_2e774bfdd27c4598890483ccbebd8774",
        "IPY_MODEL_1c58de392bc6481d921a960f3b94ebf4"
       ],
       "layout": "IPY_MODEL_311711104d4c46da95080829fc1fe7b0"
      }
     },
     "75e82aede30c42eeabaab59ef103fef4": {
      "model_module": "@jupyter-widgets/base",
      "model_module_version": "2.0.0",
      "model_name": "LayoutModel",
      "state": {}
     },
     "771f94b9c67d4686838ab3f2859bb876": {
      "model_module": "@jupyter-widgets/controls",
      "model_module_version": "2.0.0",
      "model_name": "HBoxModel",
      "state": {
       "children": [
        "IPY_MODEL_2cb2f3b0f54844ba8f25282738e9ca51",
        "IPY_MODEL_18763926df9f4d30956050bb31993cbe",
        "IPY_MODEL_e7a8fb7a2b23434197a8f3a78fa95430"
       ],
       "layout": "IPY_MODEL_a6322c8acf104ac29cc620ff6eeff758"
      }
     },
     "7775ea245035435a9ee80a1d4b2946c6": {
      "model_module": "@jupyter-widgets/controls",
      "model_module_version": "2.0.0",
      "model_name": "HTMLModel",
      "state": {
       "layout": "IPY_MODEL_2bcf2d3dd34a48baaaee98ca7b46fc55",
       "style": "IPY_MODEL_d7ed9e2f4fe94bb5a8eae33723f21431",
       "value": " 1456/1456 [00:03&lt;00:00, 777.55it/s]"
      }
     },
     "77d3b64ed6154f97afde83a7d0031d7f": {
      "model_module": "@jupyter-widgets/base",
      "model_module_version": "2.0.0",
      "model_name": "LayoutModel",
      "state": {}
     },
     "78c3ba8c73d5475481f1b338415d0ad3": {
      "model_module": "@jupyter-widgets/base",
      "model_module_version": "2.0.0",
      "model_name": "LayoutModel",
      "state": {}
     },
     "79dc05e1885e4c918c862249db9c91f5": {
      "model_module": "@jupyter-widgets/base",
      "model_module_version": "2.0.0",
      "model_name": "LayoutModel",
      "state": {}
     },
     "79ffb8d1e90f4098935892e160b6eecf": {
      "model_module": "@jupyter-widgets/controls",
      "model_module_version": "2.0.0",
      "model_name": "HTMLModel",
      "state": {
       "layout": "IPY_MODEL_75e82aede30c42eeabaab59ef103fef4",
       "style": "IPY_MODEL_dd5d4f97e8ad427a9e12266304807cca",
       "value": " 1456/1456 [00:05&lt;00:00, 700.34it/s]"
      }
     },
     "7a43735f9da84830820817c3400c3611": {
      "model_module": "@jupyter-widgets/controls",
      "model_module_version": "2.0.0",
      "model_name": "HTMLStyleModel",
      "state": {
       "description_width": "",
       "font_size": null,
       "text_color": null
      }
     },
     "7ceb9bbcb4714cb2ba2f5cb9872793b6": {
      "model_module": "@jupyter-widgets/base",
      "model_module_version": "2.0.0",
      "model_name": "LayoutModel",
      "state": {}
     },
     "7dc0100bb0304d46b19dced20df22d46": {
      "model_module": "@jupyter-widgets/controls",
      "model_module_version": "2.0.0",
      "model_name": "FloatProgressModel",
      "state": {
       "bar_style": "success",
       "layout": "IPY_MODEL_fae8060d70374c19bfae73cf8d32fd78",
       "max": 1456,
       "style": "IPY_MODEL_71669b91ee294e38ba225a9554b52218",
       "value": 1456
      }
     },
     "7de1a7aea87c48f09108e07fe5066f1c": {
      "model_module": "@jupyter-widgets/controls",
      "model_module_version": "2.0.0",
      "model_name": "HTMLModel",
      "state": {
       "layout": "IPY_MODEL_9845c2936b624201b7bb4886382f60a9",
       "style": "IPY_MODEL_7a43735f9da84830820817c3400c3611",
       "value": " 1456/1456 [00:03&lt;00:00, 708.14it/s]"
      }
     },
     "7e453b85187844cb8aaa613dc707cdf8": {
      "model_module": "@jupyter-widgets/controls",
      "model_module_version": "2.0.0",
      "model_name": "HTMLStyleModel",
      "state": {
       "description_width": "",
       "font_size": null,
       "text_color": null
      }
     },
     "7e7c4a3221b445f6900e96db898dd66d": {
      "model_module": "@jupyter-widgets/base",
      "model_module_version": "2.0.0",
      "model_name": "LayoutModel",
      "state": {}
     },
     "7fab00de13ed45ebabac2d3d03736e5c": {
      "model_module": "@jupyter-widgets/controls",
      "model_module_version": "2.0.0",
      "model_name": "HTMLStyleModel",
      "state": {
       "description_width": "",
       "font_size": null,
       "text_color": null
      }
     },
     "80b4434cfc2542a49e77515c288f2ecb": {
      "model_module": "@jupyter-widgets/base",
      "model_module_version": "2.0.0",
      "model_name": "LayoutModel",
      "state": {}
     },
     "80eb6a5c2d4d498ca9e24a0744758ac2": {
      "model_module": "@jupyter-widgets/base",
      "model_module_version": "2.0.0",
      "model_name": "LayoutModel",
      "state": {}
     },
     "8252f4714cb2492ea9b0789bf2ae9b55": {
      "model_module": "@jupyter-widgets/controls",
      "model_module_version": "2.0.0",
      "model_name": "HTMLModel",
      "state": {
       "layout": "IPY_MODEL_a7e0cf4e3c324a9ab77f1a8788f36c15",
       "style": "IPY_MODEL_ff1e55c72e424b6988d146fc6174b4ec",
       "value": "100%"
      }
     },
     "83fc226f7425431d8f9669dce5769969": {
      "model_module": "@jupyter-widgets/controls",
      "model_module_version": "2.0.0",
      "model_name": "FloatProgressModel",
      "state": {
       "bar_style": "success",
       "layout": "IPY_MODEL_b6ece452124f46069d508edfd67ecb5a",
       "max": 1456,
       "style": "IPY_MODEL_ff550339e1874ce8b3a1b9b954cf8901",
       "value": 1456
      }
     },
     "859c13e6247a4fec945f6b0cea3f42a9": {
      "model_module": "@jupyter-widgets/base",
      "model_module_version": "2.0.0",
      "model_name": "LayoutModel",
      "state": {}
     },
     "862a7c96111f41eb8ac891fd7fb2850f": {
      "model_module": "@jupyter-widgets/controls",
      "model_module_version": "2.0.0",
      "model_name": "ProgressStyleModel",
      "state": {
       "description_width": ""
      }
     },
     "8786341a66c34c549c9b2f8d3f2dce3e": {
      "model_module": "@jupyter-widgets/controls",
      "model_module_version": "2.0.0",
      "model_name": "ProgressStyleModel",
      "state": {
       "description_width": ""
      }
     },
     "885cad01d0a74e7d94ce61cc87402937": {
      "model_module": "@jupyter-widgets/controls",
      "model_module_version": "2.0.0",
      "model_name": "HTMLModel",
      "state": {
       "layout": "IPY_MODEL_2baf487556084829b674483f0354b992",
       "style": "IPY_MODEL_6184d07d2c5f49fb96c330fe7d8b33f6",
       "value": " 1456/1456 [00:03&lt;00:00, 698.25it/s]"
      }
     },
     "888bf635c25a4c2199ec73a294f25d2b": {
      "model_module": "@jupyter-widgets/controls",
      "model_module_version": "2.0.0",
      "model_name": "FloatProgressModel",
      "state": {
       "bar_style": "success",
       "layout": "IPY_MODEL_222f5355714e41ac84f661f222230ac5",
       "max": 1456,
       "style": "IPY_MODEL_939e6bd30cf64776962df35b38116164",
       "value": 1456
      }
     },
     "88ff278206174d5bae79596844e1cf94": {
      "model_module": "@jupyter-widgets/controls",
      "model_module_version": "2.0.0",
      "model_name": "HTMLModel",
      "state": {
       "layout": "IPY_MODEL_2f20573aa6c24fd8bf61dc06621c74ce",
       "style": "IPY_MODEL_a6ff68562ae54d37bfdbe27e92c0109a",
       "value": " 1456/1456 [00:04&lt;00:00, 774.29it/s]"
      }
     },
     "8935b77e6b194c469c4529cbb1cfdaf2": {
      "model_module": "@jupyter-widgets/controls",
      "model_module_version": "2.0.0",
      "model_name": "ProgressStyleModel",
      "state": {
       "description_width": ""
      }
     },
     "89593548e59f498fb11edeecb4a2be93": {
      "model_module": "@jupyter-widgets/controls",
      "model_module_version": "2.0.0",
      "model_name": "HTMLStyleModel",
      "state": {
       "description_width": "",
       "font_size": null,
       "text_color": null
      }
     },
     "89b2788a5b984be883e778876f3653d5": {
      "model_module": "@jupyter-widgets/controls",
      "model_module_version": "2.0.0",
      "model_name": "HTMLModel",
      "state": {
       "layout": "IPY_MODEL_26c6e4760c0946108a1cc1e62e4524aa",
       "style": "IPY_MODEL_71e0051853ff4192a571e234644b7882",
       "value": "100%"
      }
     },
     "8c665823121f44c4bee28234289bb479": {
      "model_module": "@jupyter-widgets/base",
      "model_module_version": "2.0.0",
      "model_name": "LayoutModel",
      "state": {}
     },
     "8d82fbac901a42c8b83ed26b9949297b": {
      "model_module": "@jupyter-widgets/controls",
      "model_module_version": "2.0.0",
      "model_name": "FloatProgressModel",
      "state": {
       "bar_style": "success",
       "layout": "IPY_MODEL_36a3375d29ab49669b206849e24c8269",
       "max": 1456,
       "style": "IPY_MODEL_22c1ac2e019f4bc4afb481ec8fc3d78c",
       "value": 1456
      }
     },
     "8e0e6bff66c4474ebced836180cfd46f": {
      "model_module": "@jupyter-widgets/controls",
      "model_module_version": "2.0.0",
      "model_name": "HTMLModel",
      "state": {
       "layout": "IPY_MODEL_0d74485202d24dec8f365908889972de",
       "style": "IPY_MODEL_aad533977e224a659efdc95174f68e7b",
       "value": "100%"
      }
     },
     "8e3026d9fd59449bba2b7c27215ceada": {
      "model_module": "@jupyter-widgets/controls",
      "model_module_version": "2.0.0",
      "model_name": "HTMLStyleModel",
      "state": {
       "description_width": "",
       "font_size": null,
       "text_color": null
      }
     },
     "8e6cb35f719a4eee91d1629279213945": {
      "model_module": "@jupyter-widgets/controls",
      "model_module_version": "2.0.0",
      "model_name": "HTMLModel",
      "state": {
       "layout": "IPY_MODEL_7e7c4a3221b445f6900e96db898dd66d",
       "style": "IPY_MODEL_cb4188668f954a0188c04eb2262b25e9",
       "value": " 1456/1456 [00:06&lt;00:00, 711.82it/s]"
      }
     },
     "8fb735b0b5c84a9eaf289e70272f73c3": {
      "model_module": "@jupyter-widgets/controls",
      "model_module_version": "2.0.0",
      "model_name": "HBoxModel",
      "state": {
       "children": [
        "IPY_MODEL_e00924e2775b4a0b8f19eca047feb081",
        "IPY_MODEL_9b8b718744aa4ac3bde7fa6d5696f376",
        "IPY_MODEL_f02150d56bca421e886aac5730c8438c"
       ],
       "layout": "IPY_MODEL_54472115b8a24a339988b41640bf7c27"
      }
     },
     "8fd74f2a243a4ac8a109ca240cd696c1": {
      "model_module": "@jupyter-widgets/controls",
      "model_module_version": "2.0.0",
      "model_name": "ProgressStyleModel",
      "state": {
       "description_width": ""
      }
     },
     "90c1e1a99d27438887206e5780418b26": {
      "model_module": "@jupyter-widgets/controls",
      "model_module_version": "2.0.0",
      "model_name": "HBoxModel",
      "state": {
       "children": [
        "IPY_MODEL_09ae00b7062d4116b844c5407a580ba0",
        "IPY_MODEL_106d1a15c0704e43b1297c56625b60c5",
        "IPY_MODEL_8e6cb35f719a4eee91d1629279213945"
       ],
       "layout": "IPY_MODEL_fc09d42f03bb41bbbcdd655783c5ea5c"
      }
     },
     "9384eaf609ed48ec9a5fea6cfece1c27": {
      "model_module": "@jupyter-widgets/controls",
      "model_module_version": "2.0.0",
      "model_name": "ProgressStyleModel",
      "state": {
       "description_width": ""
      }
     },
     "939e6bd30cf64776962df35b38116164": {
      "model_module": "@jupyter-widgets/controls",
      "model_module_version": "2.0.0",
      "model_name": "ProgressStyleModel",
      "state": {
       "description_width": ""
      }
     },
     "96320527b2314ca58e69a1c2ae2410d8": {
      "model_module": "@jupyter-widgets/controls",
      "model_module_version": "2.0.0",
      "model_name": "ProgressStyleModel",
      "state": {
       "description_width": ""
      }
     },
     "96f488311ae043ae859e6dc86316f626": {
      "model_module": "@jupyter-widgets/controls",
      "model_module_version": "2.0.0",
      "model_name": "HTMLModel",
      "state": {
       "layout": "IPY_MODEL_56033a934bff4786a006327abcf81771",
       "style": "IPY_MODEL_209399854863483384f9fba5f4325dc6",
       "value": " 1456/1456 [00:05&lt;00:00, 591.03it/s]"
      }
     },
     "973067d7a5f44dc89f406bd94099aa37": {
      "model_module": "@jupyter-widgets/controls",
      "model_module_version": "2.0.0",
      "model_name": "HTMLModel",
      "state": {
       "layout": "IPY_MODEL_cf77a3bf91b144c8954310717fb52de2",
       "style": "IPY_MODEL_7011d579281044b8b15e5f47534c7105",
       "value": " 1456/1456 [00:05&lt;00:00, 779.91it/s]"
      }
     },
     "975deed94150498dacacf1ac51430e95": {
      "model_module": "@jupyter-widgets/base",
      "model_module_version": "2.0.0",
      "model_name": "LayoutModel",
      "state": {}
     },
     "9845c2936b624201b7bb4886382f60a9": {
      "model_module": "@jupyter-widgets/base",
      "model_module_version": "2.0.0",
      "model_name": "LayoutModel",
      "state": {}
     },
     "9a6779bbd9b8401faed1109f072e39a3": {
      "model_module": "@jupyter-widgets/base",
      "model_module_version": "2.0.0",
      "model_name": "LayoutModel",
      "state": {}
     },
     "9b70c00309984f0fa50beb298ff7d21c": {
      "model_module": "@jupyter-widgets/controls",
      "model_module_version": "2.0.0",
      "model_name": "ProgressStyleModel",
      "state": {
       "description_width": ""
      }
     },
     "9b8b718744aa4ac3bde7fa6d5696f376": {
      "model_module": "@jupyter-widgets/controls",
      "model_module_version": "2.0.0",
      "model_name": "FloatProgressModel",
      "state": {
       "bar_style": "success",
       "layout": "IPY_MODEL_859c13e6247a4fec945f6b0cea3f42a9",
       "max": 1456,
       "style": "IPY_MODEL_118bdc5229f541f9a93c120fbc0e0bcc",
       "value": 1456
      }
     },
     "9b9cefdda88f4198b3a98630d39f07ee": {
      "model_module": "@jupyter-widgets/controls",
      "model_module_version": "2.0.0",
      "model_name": "HBoxModel",
      "state": {
       "children": [
        "IPY_MODEL_67fc41b89d3145ffaabeb43ef3cf631b",
        "IPY_MODEL_12e4168bed474b36bba4f4fb5d7c8e39",
        "IPY_MODEL_cf643e1db3ab46bf9f832c90de4be68a"
       ],
       "layout": "IPY_MODEL_1dceb3b0911741389185217b20f54a00"
      }
     },
     "9c175355857a465c9228e8a1a5c281da": {
      "model_module": "@jupyter-widgets/base",
      "model_module_version": "2.0.0",
      "model_name": "LayoutModel",
      "state": {}
     },
     "9c897fac01894863aaf305d95b8b3dfd": {
      "model_module": "@jupyter-widgets/controls",
      "model_module_version": "2.0.0",
      "model_name": "HTMLModel",
      "state": {
       "layout": "IPY_MODEL_63f81d0142634f8cacd4281e5e65b6b6",
       "style": "IPY_MODEL_b6c766cf8d17429ab8582fc43b478afc",
       "value": "100%"
      }
     },
     "9c8c0d06725646c3ab22077a9750ad0a": {
      "model_module": "@jupyter-widgets/base",
      "model_module_version": "2.0.0",
      "model_name": "LayoutModel",
      "state": {}
     },
     "9d402cbb03bb428eaad127cd61e9883c": {
      "model_module": "@jupyter-widgets/controls",
      "model_module_version": "2.0.0",
      "model_name": "ProgressStyleModel",
      "state": {
       "description_width": ""
      }
     },
     "a2b23a42fc5a44688410b58498b86ab7": {
      "model_module": "@jupyter-widgets/base",
      "model_module_version": "2.0.0",
      "model_name": "LayoutModel",
      "state": {}
     },
     "a2d150417b224560934441eeb99a0a7c": {
      "model_module": "@jupyter-widgets/controls",
      "model_module_version": "2.0.0",
      "model_name": "HBoxModel",
      "state": {
       "children": [
        "IPY_MODEL_b86087dfebe14c30a67159ee76875bd8",
        "IPY_MODEL_1fbc9c53842946a4b4b876fa64178e12",
        "IPY_MODEL_c5482525e0354f3399e80614e8e201e5"
       ],
       "layout": "IPY_MODEL_fe1b1ddf955c4a7ea9c981d108e37bce"
      }
     },
     "a388b1900e0f44059b2e8e3e42447571": {
      "model_module": "@jupyter-widgets/base",
      "model_module_version": "2.0.0",
      "model_name": "LayoutModel",
      "state": {}
     },
     "a3b5aac6ae7b48269d026cbdf324ee5f": {
      "model_module": "@jupyter-widgets/controls",
      "model_module_version": "2.0.0",
      "model_name": "HTMLStyleModel",
      "state": {
       "description_width": "",
       "font_size": null,
       "text_color": null
      }
     },
     "a4407641676a4880a3530a4396dae44d": {
      "model_module": "@jupyter-widgets/controls",
      "model_module_version": "2.0.0",
      "model_name": "HTMLStyleModel",
      "state": {
       "description_width": "",
       "font_size": null,
       "text_color": null
      }
     },
     "a6322c8acf104ac29cc620ff6eeff758": {
      "model_module": "@jupyter-widgets/base",
      "model_module_version": "2.0.0",
      "model_name": "LayoutModel",
      "state": {}
     },
     "a6ff68562ae54d37bfdbe27e92c0109a": {
      "model_module": "@jupyter-widgets/controls",
      "model_module_version": "2.0.0",
      "model_name": "HTMLStyleModel",
      "state": {
       "description_width": "",
       "font_size": null,
       "text_color": null
      }
     },
     "a75f13a6aeb544b087005c224347cfa4": {
      "model_module": "@jupyter-widgets/controls",
      "model_module_version": "2.0.0",
      "model_name": "HTMLStyleModel",
      "state": {
       "description_width": "",
       "font_size": null,
       "text_color": null
      }
     },
     "a7c9c315bafc4ac892f6f30650991345": {
      "model_module": "@jupyter-widgets/controls",
      "model_module_version": "2.0.0",
      "model_name": "ProgressStyleModel",
      "state": {
       "description_width": ""
      }
     },
     "a7e0cf4e3c324a9ab77f1a8788f36c15": {
      "model_module": "@jupyter-widgets/base",
      "model_module_version": "2.0.0",
      "model_name": "LayoutModel",
      "state": {}
     },
     "a7ed38f57a164b23824e3f929dfb31c1": {
      "model_module": "@jupyter-widgets/controls",
      "model_module_version": "2.0.0",
      "model_name": "HTMLModel",
      "state": {
       "layout": "IPY_MODEL_e821b05e3d9342d9a348d0c227ff56ae",
       "style": "IPY_MODEL_449ed35c5a314b7992db3fe219a18896",
       "value": " 1456/1456 [00:06&lt;00:00, 657.07it/s]"
      }
     },
     "a814271b284a4bc1b7cce277d5bf675a": {
      "model_module": "@jupyter-widgets/base",
      "model_module_version": "2.0.0",
      "model_name": "LayoutModel",
      "state": {}
     },
     "aad533977e224a659efdc95174f68e7b": {
      "model_module": "@jupyter-widgets/controls",
      "model_module_version": "2.0.0",
      "model_name": "HTMLStyleModel",
      "state": {
       "description_width": "",
       "font_size": null,
       "text_color": null
      }
     },
     "ac2906cb5a0243cabcc981d4c6456dff": {
      "model_module": "@jupyter-widgets/base",
      "model_module_version": "2.0.0",
      "model_name": "LayoutModel",
      "state": {}
     },
     "ac7daaea63cc4eac8182a671735b8d65": {
      "model_module": "@jupyter-widgets/base",
      "model_module_version": "2.0.0",
      "model_name": "LayoutModel",
      "state": {}
     },
     "ae4649bf1ce64379ae97dd71489a35b0": {
      "model_module": "@jupyter-widgets/controls",
      "model_module_version": "2.0.0",
      "model_name": "HTMLStyleModel",
      "state": {
       "description_width": "",
       "font_size": null,
       "text_color": null
      }
     },
     "aee8ecb6852c4c7d86bf1335943f2c7c": {
      "model_module": "@jupyter-widgets/controls",
      "model_module_version": "2.0.0",
      "model_name": "HTMLStyleModel",
      "state": {
       "description_width": "",
       "font_size": null,
       "text_color": null
      }
     },
     "b0b1289160ff44428a6b8db8e692ee0d": {
      "model_module": "@jupyter-widgets/base",
      "model_module_version": "2.0.0",
      "model_name": "LayoutModel",
      "state": {}
     },
     "b1118b5de4c1490c98e75e108bbbae9d": {
      "model_module": "@jupyter-widgets/base",
      "model_module_version": "2.0.0",
      "model_name": "LayoutModel",
      "state": {}
     },
     "b1c07cb527304322900707cf6e2b3b95": {
      "model_module": "@jupyter-widgets/controls",
      "model_module_version": "2.0.0",
      "model_name": "HBoxModel",
      "state": {
       "children": [
        "IPY_MODEL_be4e810c81e447f7a757ff82fe5fb428",
        "IPY_MODEL_64dbfd323fe34d928c68b007574d91c2",
        "IPY_MODEL_39294c226e414a59bbfc2235172efe14"
       ],
       "layout": "IPY_MODEL_5ad2b518318c4a5c8123ea572dbfc009"
      }
     },
     "b1dccf9c9a10448c956a155b85c5daf4": {
      "model_module": "@jupyter-widgets/controls",
      "model_module_version": "2.0.0",
      "model_name": "HTMLStyleModel",
      "state": {
       "description_width": "",
       "font_size": null,
       "text_color": null
      }
     },
     "b37323296c284071a5bf43c2615948ab": {
      "model_module": "@jupyter-widgets/controls",
      "model_module_version": "2.0.0",
      "model_name": "HTMLModel",
      "state": {
       "layout": "IPY_MODEL_0f6781f1c18f4b9985e505126cc8f0cc",
       "style": "IPY_MODEL_4eb307b326de4d8985c2a614387d9e30",
       "value": "100%"
      }
     },
     "b3806f58177c40df9ffb0ed12070df1a": {
      "model_module": "@jupyter-widgets/controls",
      "model_module_version": "2.0.0",
      "model_name": "HTMLStyleModel",
      "state": {
       "description_width": "",
       "font_size": null,
       "text_color": null
      }
     },
     "b47b54ce363d4fe3aee951940105681f": {
      "model_module": "@jupyter-widgets/base",
      "model_module_version": "2.0.0",
      "model_name": "LayoutModel",
      "state": {}
     },
     "b4a65b980d8f42b19524440a2ab561b6": {
      "model_module": "@jupyter-widgets/base",
      "model_module_version": "2.0.0",
      "model_name": "LayoutModel",
      "state": {}
     },
     "b505d30ee560407c960bb9f095969936": {
      "model_module": "@jupyter-widgets/controls",
      "model_module_version": "2.0.0",
      "model_name": "HTMLModel",
      "state": {
       "layout": "IPY_MODEL_e7b67688f29b4a5aab8665a4745e81cb",
       "style": "IPY_MODEL_4969b6c1c16b4eb5bd85c25a14826990",
       "value": "100%"
      }
     },
     "b5c99c1577e04f1bbca8c978dfbca727": {
      "model_module": "@jupyter-widgets/base",
      "model_module_version": "2.0.0",
      "model_name": "LayoutModel",
      "state": {}
     },
     "b5ef42716bf34934868c3f0a6aa57ebc": {
      "model_module": "@jupyter-widgets/controls",
      "model_module_version": "2.0.0",
      "model_name": "HTMLModel",
      "state": {
       "layout": "IPY_MODEL_5e9078a840864b96a9035ec00e4bb893",
       "style": "IPY_MODEL_a4407641676a4880a3530a4396dae44d",
       "value": "100%"
      }
     },
     "b636f5b50808462c86e83efa2e1d530c": {
      "model_module": "@jupyter-widgets/controls",
      "model_module_version": "2.0.0",
      "model_name": "FloatProgressModel",
      "state": {
       "bar_style": "success",
       "layout": "IPY_MODEL_fc9ba1f3664e43569c109104b2868935",
       "max": 1456,
       "style": "IPY_MODEL_8935b77e6b194c469c4529cbb1cfdaf2",
       "value": 1456
      }
     },
     "b6c766cf8d17429ab8582fc43b478afc": {
      "model_module": "@jupyter-widgets/controls",
      "model_module_version": "2.0.0",
      "model_name": "HTMLStyleModel",
      "state": {
       "description_width": "",
       "font_size": null,
       "text_color": null
      }
     },
     "b6ece452124f46069d508edfd67ecb5a": {
      "model_module": "@jupyter-widgets/base",
      "model_module_version": "2.0.0",
      "model_name": "LayoutModel",
      "state": {}
     },
     "b6f37a3050ff4a2289a3ecf772b524e6": {
      "model_module": "@jupyter-widgets/controls",
      "model_module_version": "2.0.0",
      "model_name": "HBoxModel",
      "state": {
       "children": [
        "IPY_MODEL_39ee29b506744b47b705add7c2b095a7",
        "IPY_MODEL_b636f5b50808462c86e83efa2e1d530c",
        "IPY_MODEL_056e53c79abe42b19388768461aa692f"
       ],
       "layout": "IPY_MODEL_5841238b4b0547d6b5cd393d204065a1"
      }
     },
     "b86087dfebe14c30a67159ee76875bd8": {
      "model_module": "@jupyter-widgets/controls",
      "model_module_version": "2.0.0",
      "model_name": "HTMLModel",
      "state": {
       "layout": "IPY_MODEL_8c665823121f44c4bee28234289bb479",
       "style": "IPY_MODEL_70035a71ec794f54bf822ba901a52ed0",
       "value": "100%"
      }
     },
     "b896c2c153de41dbb34463d974dfe1b8": {
      "model_module": "@jupyter-widgets/base",
      "model_module_version": "2.0.0",
      "model_name": "LayoutModel",
      "state": {}
     },
     "b8ac5415ad6040fa89ab4e270a561d78": {
      "model_module": "@jupyter-widgets/base",
      "model_module_version": "2.0.0",
      "model_name": "LayoutModel",
      "state": {}
     },
     "ba5fafaf492c4480b028b32c9e2768b6": {
      "model_module": "@jupyter-widgets/base",
      "model_module_version": "2.0.0",
      "model_name": "LayoutModel",
      "state": {}
     },
     "baa9f01a73f3456180e82143fcb1a02a": {
      "model_module": "@jupyter-widgets/base",
      "model_module_version": "2.0.0",
      "model_name": "LayoutModel",
      "state": {}
     },
     "bae5810d2948456c8a1b12fc9ed7ab4a": {
      "model_module": "@jupyter-widgets/base",
      "model_module_version": "2.0.0",
      "model_name": "LayoutModel",
      "state": {}
     },
     "bb51295431d44f839b789b7432b97e60": {
      "model_module": "@jupyter-widgets/base",
      "model_module_version": "2.0.0",
      "model_name": "LayoutModel",
      "state": {}
     },
     "bcdcc40da2734114b28eafd5dda70770": {
      "model_module": "@jupyter-widgets/base",
      "model_module_version": "2.0.0",
      "model_name": "LayoutModel",
      "state": {}
     },
     "be28a2898196434ba5e04491d9f885de": {
      "model_module": "@jupyter-widgets/controls",
      "model_module_version": "2.0.0",
      "model_name": "HTMLStyleModel",
      "state": {
       "description_width": "",
       "font_size": null,
       "text_color": null
      }
     },
     "be2e6b16b5a244c7a10379fad55f921e": {
      "model_module": "@jupyter-widgets/controls",
      "model_module_version": "2.0.0",
      "model_name": "FloatProgressModel",
      "state": {
       "bar_style": "success",
       "layout": "IPY_MODEL_db2dbaf17c3a484f9bd5d3c7dadadfa9",
       "max": 1456,
       "style": "IPY_MODEL_ea993b0d1d05461797de7006b8b03f91",
       "value": 1456
      }
     },
     "be4e810c81e447f7a757ff82fe5fb428": {
      "model_module": "@jupyter-widgets/controls",
      "model_module_version": "2.0.0",
      "model_name": "HTMLModel",
      "state": {
       "layout": "IPY_MODEL_56901b1c37914d139d3d8df5fc2ed54e",
       "style": "IPY_MODEL_ec9cf51fbe9b4946b0f83c8daf0d44e8",
       "value": "100%"
      }
     },
     "beec7bfac7c84f92a52d7e0e4b21105f": {
      "model_module": "@jupyter-widgets/controls",
      "model_module_version": "2.0.0",
      "model_name": "HTMLModel",
      "state": {
       "layout": "IPY_MODEL_7ceb9bbcb4714cb2ba2f5cb9872793b6",
       "style": "IPY_MODEL_b3806f58177c40df9ffb0ed12070df1a",
       "value": " 1456/1456 [00:05&lt;00:00, 645.14it/s]"
      }
     },
     "c11ab04b11704d74b9506df699d1956b": {
      "model_module": "@jupyter-widgets/base",
      "model_module_version": "2.0.0",
      "model_name": "LayoutModel",
      "state": {}
     },
     "c208f2a5679140ba9cd52aa6ecc318f8": {
      "model_module": "@jupyter-widgets/controls",
      "model_module_version": "2.0.0",
      "model_name": "HBoxModel",
      "state": {
       "children": [
        "IPY_MODEL_b5ef42716bf34934868c3f0a6aa57ebc",
        "IPY_MODEL_65098f3251294f29a0f81072a32df6ef",
        "IPY_MODEL_7de1a7aea87c48f09108e07fe5066f1c"
       ],
       "layout": "IPY_MODEL_d6d4d46d14194bd093f67f923610f88e"
      }
     },
     "c2889bc3693d42aa801ca09f9c665b2a": {
      "model_module": "@jupyter-widgets/base",
      "model_module_version": "2.0.0",
      "model_name": "LayoutModel",
      "state": {}
     },
     "c2d91a19f0964504be53025e1f00369d": {
      "model_module": "@jupyter-widgets/controls",
      "model_module_version": "2.0.0",
      "model_name": "HTMLModel",
      "state": {
       "layout": "IPY_MODEL_1e0b60189575429d9911e9a07b007bbb",
       "style": "IPY_MODEL_c2ffd2e944b94ba59816d7a739bd68b1",
       "value": " 1456/1456 [00:06&lt;00:00, 696.00it/s]"
      }
     },
     "c2ffd2e944b94ba59816d7a739bd68b1": {
      "model_module": "@jupyter-widgets/controls",
      "model_module_version": "2.0.0",
      "model_name": "HTMLStyleModel",
      "state": {
       "description_width": "",
       "font_size": null,
       "text_color": null
      }
     },
     "c3245dfbc38b429484db291f1e1e46b3": {
      "model_module": "@jupyter-widgets/controls",
      "model_module_version": "2.0.0",
      "model_name": "ProgressStyleModel",
      "state": {
       "description_width": ""
      }
     },
     "c336260dfa5d459cb9eaf60c708d8eca": {
      "model_module": "@jupyter-widgets/controls",
      "model_module_version": "2.0.0",
      "model_name": "FloatProgressModel",
      "state": {
       "bar_style": "success",
       "layout": "IPY_MODEL_1b73b919ba3f4d0882f2c22749e8fa01",
       "max": 1456,
       "style": "IPY_MODEL_862a7c96111f41eb8ac891fd7fb2850f",
       "value": 1456
      }
     },
     "c3a87516374c4bf191c2fad678a6fac6": {
      "model_module": "@jupyter-widgets/controls",
      "model_module_version": "2.0.0",
      "model_name": "HTMLStyleModel",
      "state": {
       "description_width": "",
       "font_size": null,
       "text_color": null
      }
     },
     "c3e1decde62f4d2692885d3eef9d2d90": {
      "model_module": "@jupyter-widgets/controls",
      "model_module_version": "2.0.0",
      "model_name": "HTMLModel",
      "state": {
       "layout": "IPY_MODEL_b8ac5415ad6040fa89ab4e270a561d78",
       "style": "IPY_MODEL_28952bf14a364c6f873e8fa1a5301411",
       "value": "100%"
      }
     },
     "c3ed7e071a4e4da3897d71bd331a341b": {
      "model_module": "@jupyter-widgets/controls",
      "model_module_version": "2.0.0",
      "model_name": "HBoxModel",
      "state": {
       "children": [
        "IPY_MODEL_d8d1383c3efc470a8ce7ac366c147f0c",
        "IPY_MODEL_f22f72bf4b5f4a13b8b81caccc04c21f",
        "IPY_MODEL_885cad01d0a74e7d94ce61cc87402937"
       ],
       "layout": "IPY_MODEL_a814271b284a4bc1b7cce277d5bf675a"
      }
     },
     "c4d4ae1879ef4440ad6930dd7b77230e": {
      "model_module": "@jupyter-widgets/base",
      "model_module_version": "2.0.0",
      "model_name": "LayoutModel",
      "state": {}
     },
     "c5482525e0354f3399e80614e8e201e5": {
      "model_module": "@jupyter-widgets/controls",
      "model_module_version": "2.0.0",
      "model_name": "HTMLModel",
      "state": {
       "layout": "IPY_MODEL_77d3b64ed6154f97afde83a7d0031d7f",
       "style": "IPY_MODEL_5c9dccad89ae4ac9ad1ad397300e8745",
       "value": " 1456/1456 [00:04&lt;00:00, 882.89it/s]"
      }
     },
     "c5770e5bc28e470f8e4fd96ffbbe330e": {
      "model_module": "@jupyter-widgets/controls",
      "model_module_version": "2.0.0",
      "model_name": "HTMLModel",
      "state": {
       "layout": "IPY_MODEL_54d359138240499a821623c0eede83e7",
       "style": "IPY_MODEL_5b7595d0c9c24046b4c7e7e51cd254b2",
       "value": " 1456/1456 [00:04&lt;00:00, 873.26it/s]"
      }
     },
     "c882a59bae2041c0b45afb4b04f5827f": {
      "model_module": "@jupyter-widgets/controls",
      "model_module_version": "2.0.0",
      "model_name": "ProgressStyleModel",
      "state": {
       "description_width": ""
      }
     },
     "c97cd52eafbe48e28168305f6ee72890": {
      "model_module": "@jupyter-widgets/base",
      "model_module_version": "2.0.0",
      "model_name": "LayoutModel",
      "state": {}
     },
     "ca6b1a73b2094cd495bb6985066072e0": {
      "model_module": "@jupyter-widgets/base",
      "model_module_version": "2.0.0",
      "model_name": "LayoutModel",
      "state": {}
     },
     "cb4188668f954a0188c04eb2262b25e9": {
      "model_module": "@jupyter-widgets/controls",
      "model_module_version": "2.0.0",
      "model_name": "HTMLStyleModel",
      "state": {
       "description_width": "",
       "font_size": null,
       "text_color": null
      }
     },
     "cb8c1a6ae7b94796b0098c0fe7a85a6b": {
      "model_module": "@jupyter-widgets/base",
      "model_module_version": "2.0.0",
      "model_name": "LayoutModel",
      "state": {}
     },
     "cc32a5bd3935471186f7881906cdc5f8": {
      "model_module": "@jupyter-widgets/base",
      "model_module_version": "2.0.0",
      "model_name": "LayoutModel",
      "state": {}
     },
     "ce13fe369b4249838ed1afbbf434c069": {
      "model_module": "@jupyter-widgets/controls",
      "model_module_version": "2.0.0",
      "model_name": "HTMLStyleModel",
      "state": {
       "description_width": "",
       "font_size": null,
       "text_color": null
      }
     },
     "cf643e1db3ab46bf9f832c90de4be68a": {
      "model_module": "@jupyter-widgets/controls",
      "model_module_version": "2.0.0",
      "model_name": "HTMLModel",
      "state": {
       "layout": "IPY_MODEL_6c8e1a4f08bb4a27950710630c3fe3c3",
       "style": "IPY_MODEL_553f90bc9e3448b88177fa9dc96c0736",
       "value": " 1456/1456 [00:05&lt;00:00, 749.34it/s]"
      }
     },
     "cf77a3bf91b144c8954310717fb52de2": {
      "model_module": "@jupyter-widgets/base",
      "model_module_version": "2.0.0",
      "model_name": "LayoutModel",
      "state": {}
     },
     "d19c82d75c9f4077a90af8eb44849235": {
      "model_module": "@jupyter-widgets/base",
      "model_module_version": "2.0.0",
      "model_name": "LayoutModel",
      "state": {}
     },
     "d1c7f399dfc740bdb436afe27d3a9abf": {
      "model_module": "@jupyter-widgets/base",
      "model_module_version": "2.0.0",
      "model_name": "LayoutModel",
      "state": {}
     },
     "d2592118d5b54635b422003d1f18a2bf": {
      "model_module": "@jupyter-widgets/base",
      "model_module_version": "2.0.0",
      "model_name": "LayoutModel",
      "state": {}
     },
     "d6d4d46d14194bd093f67f923610f88e": {
      "model_module": "@jupyter-widgets/base",
      "model_module_version": "2.0.0",
      "model_name": "LayoutModel",
      "state": {}
     },
     "d7ed9e2f4fe94bb5a8eae33723f21431": {
      "model_module": "@jupyter-widgets/controls",
      "model_module_version": "2.0.0",
      "model_name": "HTMLStyleModel",
      "state": {
       "description_width": "",
       "font_size": null,
       "text_color": null
      }
     },
     "d7fb19e0994945ebadd193d23e6241f8": {
      "model_module": "@jupyter-widgets/controls",
      "model_module_version": "2.0.0",
      "model_name": "HTMLModel",
      "state": {
       "layout": "IPY_MODEL_bae5810d2948456c8a1b12fc9ed7ab4a",
       "style": "IPY_MODEL_0324f42e02c9452b84d531c5c9044b59",
       "value": " 1456/1456 [00:51&lt;00:00, 745.24it/s]"
      }
     },
     "d8d1383c3efc470a8ce7ac366c147f0c": {
      "model_module": "@jupyter-widgets/controls",
      "model_module_version": "2.0.0",
      "model_name": "HTMLModel",
      "state": {
       "layout": "IPY_MODEL_b0b1289160ff44428a6b8db8e692ee0d",
       "style": "IPY_MODEL_463a6b283bc245e3885af87cf50d2460",
       "value": "100%"
      }
     },
     "d96ea8c0c7534a22b18ab731e95c1676": {
      "model_module": "@jupyter-widgets/controls",
      "model_module_version": "2.0.0",
      "model_name": "ProgressStyleModel",
      "state": {
       "description_width": ""
      }
     },
     "d98e81ce6ed743898010dfd8b92aaa91": {
      "model_module": "@jupyter-widgets/base",
      "model_module_version": "2.0.0",
      "model_name": "LayoutModel",
      "state": {}
     },
     "dabf9741f1c341688487d391f12ffdd3": {
      "model_module": "@jupyter-widgets/base",
      "model_module_version": "2.0.0",
      "model_name": "LayoutModel",
      "state": {}
     },
     "db2dbaf17c3a484f9bd5d3c7dadadfa9": {
      "model_module": "@jupyter-widgets/base",
      "model_module_version": "2.0.0",
      "model_name": "LayoutModel",
      "state": {}
     },
     "db3256945bf3402fb8baf9aa540b8d7b": {
      "model_module": "@jupyter-widgets/controls",
      "model_module_version": "2.0.0",
      "model_name": "FloatProgressModel",
      "state": {
       "bar_style": "success",
       "layout": "IPY_MODEL_1a43a54be00c49e8be53e180fb54197e",
       "max": 1456,
       "style": "IPY_MODEL_4df73ed69be84d098bb83fcd2ffba1cf",
       "value": 1456
      }
     },
     "dc4041b54fde4980914863c423355110": {
      "model_module": "@jupyter-widgets/controls",
      "model_module_version": "2.0.0",
      "model_name": "HTMLModel",
      "state": {
       "layout": "IPY_MODEL_ba5fafaf492c4480b028b32c9e2768b6",
       "style": "IPY_MODEL_22c513bde6a3493f891f552295825061",
       "value": "100%"
      }
     },
     "dd5d4f97e8ad427a9e12266304807cca": {
      "model_module": "@jupyter-widgets/controls",
      "model_module_version": "2.0.0",
      "model_name": "HTMLStyleModel",
      "state": {
       "description_width": "",
       "font_size": null,
       "text_color": null
      }
     },
     "dd6354680f3e4bcda949bb1afe5cabbb": {
      "model_module": "@jupyter-widgets/controls",
      "model_module_version": "2.0.0",
      "model_name": "HTMLModel",
      "state": {
       "layout": "IPY_MODEL_37ea678ae7c14b21a19b67adbf3efc69",
       "style": "IPY_MODEL_c3a87516374c4bf191c2fad678a6fac6",
       "value": "100%"
      }
     },
     "dda0095f11664ee6999c6766d16f1e12": {
      "model_module": "@jupyter-widgets/controls",
      "model_module_version": "2.0.0",
      "model_name": "HTMLModel",
      "state": {
       "layout": "IPY_MODEL_975deed94150498dacacf1ac51430e95",
       "style": "IPY_MODEL_f7a36a94796440c3b3b123c198e58a6d",
       "value": "100%"
      }
     },
     "ddc89cf4fa1049e9ace360fe1f635b9b": {
      "model_module": "@jupyter-widgets/controls",
      "model_module_version": "2.0.0",
      "model_name": "HTMLModel",
      "state": {
       "layout": "IPY_MODEL_80eb6a5c2d4d498ca9e24a0744758ac2",
       "style": "IPY_MODEL_e4ead7d2c15a4a6bb7548704790e7ccb",
       "value": "100%"
      }
     },
     "de6d115daef04199bd249fb06aaf02a2": {
      "model_module": "@jupyter-widgets/base",
      "model_module_version": "2.0.0",
      "model_name": "LayoutModel",
      "state": {}
     },
     "e00924e2775b4a0b8f19eca047feb081": {
      "model_module": "@jupyter-widgets/controls",
      "model_module_version": "2.0.0",
      "model_name": "HTMLModel",
      "state": {
       "layout": "IPY_MODEL_bcdcc40da2734114b28eafd5dda70770",
       "style": "IPY_MODEL_ae4649bf1ce64379ae97dd71489a35b0",
       "value": "100%"
      }
     },
     "e0f4d070f2654670b10a8568e3b61f35": {
      "model_module": "@jupyter-widgets/controls",
      "model_module_version": "2.0.0",
      "model_name": "FloatProgressModel",
      "state": {
       "bar_style": "success",
       "layout": "IPY_MODEL_2838efd66398487b81cf270de4b7d4eb",
       "max": 1456,
       "style": "IPY_MODEL_27b1ba1fb17e44c9b212d8c415416f19",
       "value": 1456
      }
     },
     "e2bab9a7c7694381a091a347b74f3e21": {
      "model_module": "@jupyter-widgets/controls",
      "model_module_version": "2.0.0",
      "model_name": "HTMLModel",
      "state": {
       "layout": "IPY_MODEL_9c175355857a465c9228e8a1a5c281da",
       "style": "IPY_MODEL_4ad163aa6b3344e08ec397bf8ba541f9",
       "value": " 1456/1456 [00:05&lt;00:00, 611.62it/s]"
      }
     },
     "e3f761fe9de34991b39766a3649e1bca": {
      "model_module": "@jupyter-widgets/controls",
      "model_module_version": "2.0.0",
      "model_name": "HTMLStyleModel",
      "state": {
       "description_width": "",
       "font_size": null,
       "text_color": null
      }
     },
     "e4ead7d2c15a4a6bb7548704790e7ccb": {
      "model_module": "@jupyter-widgets/controls",
      "model_module_version": "2.0.0",
      "model_name": "HTMLStyleModel",
      "state": {
       "description_width": "",
       "font_size": null,
       "text_color": null
      }
     },
     "e58b34f47d944cb08037972fa1109373": {
      "model_module": "@jupyter-widgets/base",
      "model_module_version": "2.0.0",
      "model_name": "LayoutModel",
      "state": {}
     },
     "e76b8663b4d449149ead5dfed5f7471a": {
      "model_module": "@jupyter-widgets/base",
      "model_module_version": "2.0.0",
      "model_name": "LayoutModel",
      "state": {}
     },
     "e7a8fb7a2b23434197a8f3a78fa95430": {
      "model_module": "@jupyter-widgets/controls",
      "model_module_version": "2.0.0",
      "model_name": "HTMLModel",
      "state": {
       "layout": "IPY_MODEL_668623b1d0fd4bfe945c0adb086818d3",
       "style": "IPY_MODEL_4f1c95ce88c7401697642e8df2ce4927",
       "value": " 1456/1456 [00:06&lt;00:00, 689.22it/s]"
      }
     },
     "e7b67688f29b4a5aab8665a4745e81cb": {
      "model_module": "@jupyter-widgets/base",
      "model_module_version": "2.0.0",
      "model_name": "LayoutModel",
      "state": {}
     },
     "e7eaaff9de0841378f5c8e5be8f3e3a6": {
      "model_module": "@jupyter-widgets/base",
      "model_module_version": "2.0.0",
      "model_name": "LayoutModel",
      "state": {}
     },
     "e821b05e3d9342d9a348d0c227ff56ae": {
      "model_module": "@jupyter-widgets/base",
      "model_module_version": "2.0.0",
      "model_name": "LayoutModel",
      "state": {}
     },
     "ea2e66b08af648aeafcec6d1cfacae78": {
      "model_module": "@jupyter-widgets/base",
      "model_module_version": "2.0.0",
      "model_name": "LayoutModel",
      "state": {}
     },
     "ea993b0d1d05461797de7006b8b03f91": {
      "model_module": "@jupyter-widgets/controls",
      "model_module_version": "2.0.0",
      "model_name": "ProgressStyleModel",
      "state": {
       "description_width": ""
      }
     },
     "eaf3c8c4bae2477583d0928cfbdcca1e": {
      "model_module": "@jupyter-widgets/controls",
      "model_module_version": "2.0.0",
      "model_name": "ProgressStyleModel",
      "state": {
       "description_width": ""
      }
     },
     "eb52a813e8ba487598bc0bb18e6e1ccf": {
      "model_module": "@jupyter-widgets/controls",
      "model_module_version": "2.0.0",
      "model_name": "HBoxModel",
      "state": {
       "children": [
        "IPY_MODEL_b505d30ee560407c960bb9f095969936",
        "IPY_MODEL_db3256945bf3402fb8baf9aa540b8d7b",
        "IPY_MODEL_c5770e5bc28e470f8e4fd96ffbbe330e"
       ],
       "layout": "IPY_MODEL_c11ab04b11704d74b9506df699d1956b"
      }
     },
     "ec9cf51fbe9b4946b0f83c8daf0d44e8": {
      "model_module": "@jupyter-widgets/controls",
      "model_module_version": "2.0.0",
      "model_name": "HTMLStyleModel",
      "state": {
       "description_width": "",
       "font_size": null,
       "text_color": null
      }
     },
     "edd0df370d3d4ada8df5d4316a7420ee": {
      "model_module": "@jupyter-widgets/controls",
      "model_module_version": "2.0.0",
      "model_name": "HBoxModel",
      "state": {
       "children": [
        "IPY_MODEL_44e78c3c2316401b90c6e76957192896",
        "IPY_MODEL_e0f4d070f2654670b10a8568e3b61f35",
        "IPY_MODEL_f773963eddec470688f4931511bde0da"
       ],
       "layout": "IPY_MODEL_ca6b1a73b2094cd495bb6985066072e0"
      }
     },
     "ef770540d1aa438391c5fc1749c6b511": {
      "model_module": "@jupyter-widgets/base",
      "model_module_version": "2.0.0",
      "model_name": "LayoutModel",
      "state": {}
     },
     "f02150d56bca421e886aac5730c8438c": {
      "model_module": "@jupyter-widgets/controls",
      "model_module_version": "2.0.0",
      "model_name": "HTMLModel",
      "state": {
       "layout": "IPY_MODEL_5d53478928df438d8dea8e65dd7a38fe",
       "style": "IPY_MODEL_33c0643a71fd4dd6978fe5cb2e7417dc",
       "value": " 1456/1456 [00:07&lt;00:00, 644.16it/s]"
      }
     },
     "f22f72bf4b5f4a13b8b81caccc04c21f": {
      "model_module": "@jupyter-widgets/controls",
      "model_module_version": "2.0.0",
      "model_name": "FloatProgressModel",
      "state": {
       "bar_style": "success",
       "layout": "IPY_MODEL_b1118b5de4c1490c98e75e108bbbae9d",
       "max": 1456,
       "style": "IPY_MODEL_01c9a52d56ba441e9fc8c85e81471568",
       "value": 1456
      }
     },
     "f4180ca499f249c6b110a8d48cd7a924": {
      "model_module": "@jupyter-widgets/base",
      "model_module_version": "2.0.0",
      "model_name": "LayoutModel",
      "state": {}
     },
     "f5c5305f46954606b809289201e3423e": {
      "model_module": "@jupyter-widgets/base",
      "model_module_version": "2.0.0",
      "model_name": "LayoutModel",
      "state": {}
     },
     "f628515e807d43a586d1edef7c29bc81": {
      "model_module": "@jupyter-widgets/base",
      "model_module_version": "2.0.0",
      "model_name": "LayoutModel",
      "state": {}
     },
     "f64ab824a64f42dab40488565f83be73": {
      "model_module": "@jupyter-widgets/controls",
      "model_module_version": "2.0.0",
      "model_name": "HTMLModel",
      "state": {
       "layout": "IPY_MODEL_26e6eae8b660487fb6b4574d6f91f853",
       "style": "IPY_MODEL_89593548e59f498fb11edeecb4a2be93",
       "value": " 1456/1456 [00:07&lt;00:00, 538.50it/s]"
      }
     },
     "f717065efeae48438f77d58a3475f27e": {
      "model_module": "@jupyter-widgets/controls",
      "model_module_version": "2.0.0",
      "model_name": "HTMLStyleModel",
      "state": {
       "description_width": "",
       "font_size": null,
       "text_color": null
      }
     },
     "f773963eddec470688f4931511bde0da": {
      "model_module": "@jupyter-widgets/controls",
      "model_module_version": "2.0.0",
      "model_name": "HTMLModel",
      "state": {
       "layout": "IPY_MODEL_80b4434cfc2542a49e77515c288f2ecb",
       "style": "IPY_MODEL_539ce53fce2d4d578dc543de0dfc4e5d",
       "value": " 1456/1456 [00:04&lt;00:00, 723.62it/s]"
      }
     },
     "f7a36a94796440c3b3b123c198e58a6d": {
      "model_module": "@jupyter-widgets/controls",
      "model_module_version": "2.0.0",
      "model_name": "HTMLStyleModel",
      "state": {
       "description_width": "",
       "font_size": null,
       "text_color": null
      }
     },
     "f7c42efbb12641c9bca7419f1a4813aa": {
      "model_module": "@jupyter-widgets/controls",
      "model_module_version": "2.0.0",
      "model_name": "ProgressStyleModel",
      "state": {
       "description_width": ""
      }
     },
     "f86d9adb52104f91a3a8959bf995c627": {
      "model_module": "@jupyter-widgets/controls",
      "model_module_version": "2.0.0",
      "model_name": "HBoxModel",
      "state": {
       "children": [
        "IPY_MODEL_129a3be4d816401c8c181a9de2d725cb",
        "IPY_MODEL_745d7300eafc4740849b69da50dc3169",
        "IPY_MODEL_f64ab824a64f42dab40488565f83be73"
       ],
       "layout": "IPY_MODEL_e7eaaff9de0841378f5c8e5be8f3e3a6"
      }
     },
     "f871d56bf0d44849b30562e15ea587b8": {
      "model_module": "@jupyter-widgets/base",
      "model_module_version": "2.0.0",
      "model_name": "LayoutModel",
      "state": {}
     },
     "f8fcc0e363a245009947f64a71c0ff48": {
      "model_module": "@jupyter-widgets/controls",
      "model_module_version": "2.0.0",
      "model_name": "HTMLStyleModel",
      "state": {
       "description_width": "",
       "font_size": null,
       "text_color": null
      }
     },
     "fad4b595f3f8436ea1f352611f963d6a": {
      "model_module": "@jupyter-widgets/base",
      "model_module_version": "2.0.0",
      "model_name": "LayoutModel",
      "state": {}
     },
     "fae8060d70374c19bfae73cf8d32fd78": {
      "model_module": "@jupyter-widgets/base",
      "model_module_version": "2.0.0",
      "model_name": "LayoutModel",
      "state": {}
     },
     "fb868ca75bc248f18819388899b25d70": {
      "model_module": "@jupyter-widgets/controls",
      "model_module_version": "2.0.0",
      "model_name": "HTMLStyleModel",
      "state": {
       "description_width": "",
       "font_size": null,
       "text_color": null
      }
     },
     "fc09d42f03bb41bbbcdd655783c5ea5c": {
      "model_module": "@jupyter-widgets/base",
      "model_module_version": "2.0.0",
      "model_name": "LayoutModel",
      "state": {}
     },
     "fc23f806bc95416bac9e886053aade1b": {
      "model_module": "@jupyter-widgets/controls",
      "model_module_version": "2.0.0",
      "model_name": "HTMLModel",
      "state": {
       "layout": "IPY_MODEL_ef770540d1aa438391c5fc1749c6b511",
       "style": "IPY_MODEL_51c92b4ff9ad4f2a92217b833b52acea",
       "value": " 1456/1456 [00:04&lt;00:00, 879.52it/s]"
      }
     },
     "fc9ba1f3664e43569c109104b2868935": {
      "model_module": "@jupyter-widgets/base",
      "model_module_version": "2.0.0",
      "model_name": "LayoutModel",
      "state": {}
     },
     "fe1b1ddf955c4a7ea9c981d108e37bce": {
      "model_module": "@jupyter-widgets/base",
      "model_module_version": "2.0.0",
      "model_name": "LayoutModel",
      "state": {}
     },
     "fe905056c74447839ed46602b4a6e4b1": {
      "model_module": "@jupyter-widgets/base",
      "model_module_version": "2.0.0",
      "model_name": "LayoutModel",
      "state": {}
     },
     "ff1e55c72e424b6988d146fc6174b4ec": {
      "model_module": "@jupyter-widgets/controls",
      "model_module_version": "2.0.0",
      "model_name": "HTMLStyleModel",
      "state": {
       "description_width": "",
       "font_size": null,
       "text_color": null
      }
     },
     "ff24a3b8f52d49d29f2fb618169b9423": {
      "model_module": "@jupyter-widgets/base",
      "model_module_version": "2.0.0",
      "model_name": "LayoutModel",
      "state": {}
     },
     "ff26e56041cd481fa9332880f3ffe74c": {
      "model_module": "@jupyter-widgets/base",
      "model_module_version": "2.0.0",
      "model_name": "LayoutModel",
      "state": {}
     },
     "ff550339e1874ce8b3a1b9b954cf8901": {
      "model_module": "@jupyter-widgets/controls",
      "model_module_version": "2.0.0",
      "model_name": "ProgressStyleModel",
      "state": {
       "description_width": ""
      }
     }
    },
    "version_major": 2,
    "version_minor": 0
   }
  }
 },
 "nbformat": 4,
 "nbformat_minor": 5
}
