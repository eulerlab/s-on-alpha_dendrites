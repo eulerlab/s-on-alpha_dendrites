{
 "cells": [
  {
   "cell_type": "markdown",
   "id": "280d8544-8d7f-4d88-a735-57e6c551dee3",
   "metadata": {},
   "source": [
    "# Schemas"
   ]
  },
  {
   "cell_type": "code",
   "execution_count": 1,
   "id": "fe2033b3-27fa-467f-8760-85f60ecb2045",
   "metadata": {},
   "outputs": [],
   "source": [
    "import numpy as np\n",
    "import pandas as pd\n",
    "import seaborn as sns\n",
    "from matplotlib import pyplot as plt\n",
    "from sklearn import metrics as sk_metrics"
   ]
  },
  {
   "cell_type": "code",
   "execution_count": null,
   "id": "440de738-785e-4a92-8f48-1d5b50e24739",
   "metadata": {},
   "outputs": [],
   "source": [
    "from alphacnn.visualize import plot_decoding\n",
    "from alphacnn import paths\n",
    "from alphacnn.database.dataset_schema import *\n",
    "\n",
    "connect_to_database(\n",
    "    dj_config_file=paths.CONFIG_FILE,\n",
    "    create_tables=False, create_schema=False, schema_name=paths.SCHEMA_PREFIX + 'dataset')\n",
    "dataset_schema"
   ]
  },
  {
   "cell_type": "code",
   "execution_count": null,
   "id": "389a58dd-b774-4e9f-b832-65e2760b4514",
   "metadata": {},
   "outputs": [],
   "source": [
    "from alphacnn.database.pres_decoder_schema import *\n",
    "\n",
    "connect_to_database(\n",
    "    dj_config_file=paths.CONFIG_FILE,\n",
    "    create_tables=True, create_schema=True, schema_name=paths.SCHEMA_PREFIX + 'decoder')\n",
    "pres_decoder_schema"
   ]
  },
  {
   "cell_type": "markdown",
   "id": "39a020f4-7260-45e9-880b-4aef386ed392",
   "metadata": {},
   "source": [
    "# ERD"
   ]
  },
  {
   "cell_type": "code",
   "execution_count": null,
   "id": "0571214a-e26d-433b-97b2-04eee6e42ae4",
   "metadata": {},
   "outputs": [],
   "source": [
    "import warnings\n",
    "\n",
    "with warnings.catch_warnings():\n",
    "    warnings.simplefilter(\"ignore\", FutureWarning)\n",
    "    display(dj.ERD(pres_decoder_schema))"
   ]
  },
  {
   "cell_type": "markdown",
   "id": "60c4e81b-7a88-483d-81e0-7eea36064f3d",
   "metadata": {
    "tags": []
   },
   "source": [
    "# Pres Decoders"
   ]
  },
  {
   "cell_type": "markdown",
   "id": "c65030b3-2b33-4ae3-990f-48e49e2b96e3",
   "metadata": {},
   "source": [
    "## Define"
   ]
  },
  {
   "cell_type": "code",
   "execution_count": 5,
   "id": "43f26888-3f78-4e2f-b9d4-4332e24cbf16",
   "metadata": {},
   "outputs": [],
   "source": [
    "PresDecoderKind().add(\n",
    "    decoder_id='cnn_ensemble_10', kind='cnn', params=dict(\n",
    "        w_l2=0.003, w_l2_conv=0.001, n_convs=5, n_dense=8, first_conv_size=3, other_conv_size=3,\n",
    "        first_conv_nfilt=3, other_conv_nfilt=3, padding='same', pool_padding='same', pres_loss='binary_crossentropy',\n",
    "    ), skip_duplicates=True)"
   ]
  },
  {
   "cell_type": "markdown",
   "id": "7de4d914-c73f-4592-be4f-010cbcffdc9c",
   "metadata": {},
   "source": [
    "## Predict"
   ]
  },
  {
   "cell_type": "code",
   "execution_count": null,
   "id": "fd660a41-f1fb-47e5-bcdc-b5231b667d9f",
   "metadata": {},
   "outputs": [],
   "source": [
    "rgcs = ['nsl', 'tmp', 'tmp_ws', 'tmp_ss']\n",
    "bc_noise_lvls = ['med']\n",
    "suffix_list = ['']\n",
    "\n",
    "data_set_files = [f'dataset_f002_f003_rot_1975_w_and_wo_test_{rgc}_bcns{bc_noise_lvl}{suffix}.pkl'\n",
    "                 for rgc in rgcs\n",
    "                 for bc_noise_lvl in bc_noise_lvls\n",
    "                 for suffix in suffix_list]\n",
    "data_set_files"
   ]
  },
  {
   "cell_type": "code",
   "execution_count": null,
   "id": "088a81c5-05a6-4d10-b1d2-7a198146342f",
   "metadata": {},
   "outputs": [],
   "source": [
    "PresDecoderPrediction().populate(\n",
    "    [dict(data_set_file=data_set_file) for data_set_file in data_set_files], dict(split_id=0),\n",
    "    display_progress=False)"
   ]
  },
  {
   "cell_type": "code",
   "execution_count": null,
   "id": "7de0527d-0344-4284-aa31-8ed5764f476b",
   "metadata": {},
   "outputs": [],
   "source": [
    "PresDecoderPrediction()"
   ]
  },
  {
   "cell_type": "markdown",
   "id": "54c69dbd-dad9-45b5-9944-cb98e49ae675",
   "metadata": {},
   "source": [
    "## Plot"
   ]
  },
  {
   "cell_type": "code",
   "execution_count": null,
   "id": "f7f96e22-9bf8-477d-a9bc-56e1cc2d53d1",
   "metadata": {},
   "outputs": [],
   "source": [
    "for key in (PresDecoderPrediction() & dict(split_kind='test')).proj().fetch(as_dict=True):\n",
    "    print(key)\n",
    "    PresDecoderPrediction().plot_loss(**key)\n",
    "    plt.show()"
   ]
  },
  {
   "cell_type": "code",
   "execution_count": null,
   "id": "0d064122-e6bd-45fe-8907-fbd8ea80534b",
   "metadata": {},
   "outputs": [],
   "source": [
    "for key in (PresDecoderPrediction() & dict(split_kind='test')).proj().fetch(as_dict=True):\n",
    "    print(key)\n",
    "    PresDecoderPrediction().plot(**key)\n",
    "    plt.show()"
   ]
  },
  {
   "cell_type": "code",
   "execution_count": null,
   "id": "14935afb-6dcd-4b97-937b-c912d12d3450",
   "metadata": {},
   "outputs": [],
   "source": []
  }
 ],
 "metadata": {
  "kernelspec": {
   "display_name": "Python 3 (ipykernel)",
   "language": "python",
   "name": "python3"
  },
  "language_info": {
   "codemirror_mode": {
    "name": "ipython",
    "version": 3
   },
   "file_extension": ".py",
   "mimetype": "text/x-python",
   "name": "python",
   "nbconvert_exporter": "python",
   "pygments_lexer": "ipython3",
   "version": "3.11.5"
  }
 },
 "nbformat": 4,
 "nbformat_minor": 5
}
