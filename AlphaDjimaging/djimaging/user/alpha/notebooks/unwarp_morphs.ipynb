{
 "cells": [
  {
   "cell_type": "markdown",
   "id": "6c46bef2-531c-4ed6-b7c0-b1aa6c77b35e",
   "metadata": {},
   "source": [
    "# Imports"
   ]
  },
  {
   "cell_type": "code",
   "id": "85274141-f482-40eb-bc90-1be276930e42",
   "metadata": {},
   "source": [
    "import pandas as pd\n",
    "from matplotlib import pyplot as plt"
   ],
   "outputs": [],
   "execution_count": null
  },
  {
   "cell_type": "code",
   "id": "e80ab049-f088-40b2-af6c-0d37737b4d37",
   "metadata": {},
   "source": [
    "from djimaging.user.alpha.schemas.alpha_schema import *\n",
    "from djimaging.user.alpha.utils import populate_alpha\n",
    "\n",
    "# Choose indicator by uncommenting one of the following lines\n",
    "indicator = 'calcium'\n",
    "#indicator = 'glutamate'\n",
    "\n",
    "populate_alpha.load_alpha_config(schema_name=populate_alpha.SCHEMA_PREFIX + (\"ca\" if indicator == 'calcium' else \"glu\"))\n",
    "populate_alpha.load_alpha_schema(create_schema=False, create_tables=False)"
   ],
   "outputs": [],
   "execution_count": null
  },
  {
   "cell_type": "code",
   "id": "1bd03c76-0643-4648-b9bb-f311b9f5f170",
   "metadata": {},
   "source": [
    "schema"
   ],
   "outputs": [],
   "execution_count": null
  },
  {
   "cell_type": "markdown",
   "id": "28c29f78-b235-4cd9-88cc-6b5b815091e2",
   "metadata": {},
   "source": [
    "# Dewarping"
   ]
  },
  {
   "cell_type": "code",
   "id": "cbad260b-ca87-4cf2-b71d-a45acc66d429",
   "metadata": {},
   "source": [
    "import tifffile as tiff\n",
    "import os\n",
    "\n",
    "from djimaging.utils import scanm_utils\n",
    "from djimaging.utils.math_utils import normalize_soft_zero_one\n",
    "from djimaging.user.alpha.tables.unwarped_morph import unwarp_utils"
   ],
   "outputs": [],
   "execution_count": null
  },
  {
   "cell_type": "code",
   "id": "37fbc2d9-2925-47c1-b5ac-c9b43616bcd0",
   "metadata": {},
   "source": [
    "def norm_stack(ch_stack):\n",
    "    mid_layer = ch_stack.shape[2]//2\n",
    "\n",
    "    ch_fill = np.nanpercentile(ch_stack[:, :, mid_layer-10:mid_layer+10], q=.5)   \n",
    "    ch_stack[~np.isfinite(ch_stack)] = ch_fill\n",
    "    ch_stack[ch_stack <= ch_fill] = ch_fill\n",
    "    ch_stack = (normalize_soft_zero_one(ch_stack, dq=.5, dq_high=99.5, clip=True) * 255).astype(np.uint16)\n",
    "\n",
    "    return ch_stack"
   ],
   "outputs": [],
   "execution_count": null
  },
  {
   "cell_type": "code",
   "id": "bb7aa002-de57-4846-9332-cf1282dc5069",
   "metadata": {},
   "source": [
    "def get_stacks(stack_h5_file):\n",
    "    ch_stacks, wparams = scanm_utils.load_stacks_from_h5(stack_h5_file)\n",
    "\n",
    "    ch0_stack = ch_stacks['wDataCh0']\n",
    "    ch1_stack = ch_stacks['wDataCh1']\n",
    "\n",
    "    ch0_stack = norm_stack(ch0_stack)\n",
    "    ch1_stack = norm_stack(ch1_stack)\n",
    "\n",
    "    return ch0_stack, ch1_stack"
   ],
   "outputs": [],
   "execution_count": null
  },
  {
   "cell_type": "markdown",
   "id": "4f241968-c5c9-4034-aea8-199f6ab8876d",
   "metadata": {},
   "source": [
    "## Create stacks"
   ]
  },
  {
   "cell_type": "code",
   "id": "c91f07ca-f9e3-432b-ac64-07b31e496d2f",
   "metadata": {},
   "source": [
    "from tqdm.notebook import tqdm\n",
    "\n",
    "keys = (Field() & \"field='stack'\").fetch('KEY')\n",
    "\n",
    "only_new_tifs = True\n",
    "\n",
    "if input('Create tiff files? [y/n]').lower() == 'y':\n",
    "    for key in tqdm(keys):\n",
    "        stack_h5_file = (Field() & key).fetch1('fromfile')\n",
    "        \n",
    "        ch0_outputfile = stack_h5_file.replace('/Pre/', '/Morph/').replace('.h5', '_ch0.tif')\n",
    "        ch1_outputfile = stack_h5_file.replace('/Pre/', '/Morph/').replace('.h5', '_ch1.tif')\n",
    "    \n",
    "        if os.path.exists(ch1_outputfile):\n",
    "            print(ch1_outputfile, 'already existed!')\n",
    "            if only_new_tifs:\n",
    "                continue\n",
    "            \n",
    "        if not os.path.exists(os.path.dirname(ch1_outputfile)):\n",
    "            raise FileNotFoundError(os.path.dirname(ch1_outputfile))\n",
    "\n",
    "        soma_xyz_um = (MorphPaths & key).fetch1('soma_xyz')\n",
    "        pixel_size_um = (Field() & key).fetch1('pixel_size_um')\n",
    "        z_step_um = (Field() & key).fetch1('z_step_um')\n",
    "        soma_xyz_px = np.asarray(soma_xyz_um) / np.array([pixel_size_um, pixel_size_um, z_step_um])\n",
    "        df_paths = pd.DataFrame((MorphPaths() & key).fetch1('df_paths'))\n",
    "    \n",
    "        ch0_stack, ch1_stack = get_stacks(stack_h5_file)\n",
    "        \n",
    "        tiff.imwrite(ch0_outputfile, ch0_stack.T)\n",
    "        tiff.imwrite(ch1_outputfile, ch1_stack.T)"
   ],
   "outputs": [],
   "execution_count": null
  },
  {
   "cell_type": "markdown",
   "id": "759fb329-7685-429f-870a-d8eca12c1e6f",
   "metadata": {},
   "source": [
    "# Unwarp stacks"
   ]
  },
  {
   "cell_type": "markdown",
   "id": "42bd19b0-5718-4475-9025-e34049874a24",
   "metadata": {},
   "source": [
    "## Iterate over files\n",
    "\n",
    "This was used to easily open the files in NeuTube"
   ]
  },
  {
   "cell_type": "code",
   "id": "28cd3441-250c-420b-b382-7abe5f106ff8",
   "metadata": {},
   "source": [
    "keys = (Field() & \"field='stack'\").fetch('KEY')"
   ],
   "outputs": [],
   "execution_count": null
  },
  {
   "cell_type": "code",
   "id": "ea16e4a8-4dc9-4a41-9f96-63990b0b02cd",
   "metadata": {},
   "source": [
    "from IPython.display import clear_output\n",
    "\n",
    "if input('Iterate files? [y/n]').lower() == 'y':\n",
    "    while len(keys) > 0:\n",
    "        key = keys.pop(0)\n",
    "        stack_h5_file = (Field() & key).fetch1('fromfile')\n",
    "        outputdir = os.path.dirname(stack_h5_file.replace('/Pre/', '/Morph/'))    \n",
    "        print(os.listdir(outputdir))\n",
    "    \n",
    "        if input('Continue [y/n]') == 'y':\n",
    "            clear_output()\n",
    "            continue\n",
    "        else:\n",
    "            print(os.listdir(outputdir))\n",
    "            break"
   ],
   "outputs": [],
   "execution_count": null
  },
  {
   "cell_type": "markdown",
   "id": "b4a5ffb7-c698-4385-bbf9-61ca37e46d2a",
   "metadata": {},
   "source": [
    "## Create flat morphs"
   ]
  },
  {
   "cell_type": "code",
   "id": "0febfeaf-f01c-49d9-b03a-946652273e88",
   "metadata": {},
   "source": [
    "%matplotlib widget\n",
    "\n",
    "from IPython.display import clear_output\n",
    "\n",
    "keys = (Field() & \"field='stack'\").fetch('KEY')\n",
    "\n",
    "plt.close('all')\n",
    "\n",
    "interactive = True\n",
    "only_new = False\n",
    "cell_tags_only = ['t3']\n",
    "\n",
    "while len(keys) > 0:\n",
    "    plt.close('all')\n",
    "    \n",
    "    key = keys.pop(0)\n",
    "\n",
    "    stack_h5_file = (Field() & key).fetch1('fromfile')\n",
    "    swc_path = (SWC & key).fetch1('swc_path')\n",
    "\n",
    "    outputdir = os.path.dirname(stack_h5_file.replace('/Pre/', '/Morph/'))\n",
    "    outputfile_swc = os.path.join(outputdir, 'morph_flat.swc')\n",
    "\n",
    "    cell_tag = (CellTags & key).fetch1('cell_tag')\n",
    "    \n",
    "    if only_new:\n",
    "        if os.path.exists(outputfile_swc):\n",
    "            clear_output()\n",
    "            continue\n",
    "\n",
    "    if cell_tags_only and cell_tag not in cell_tags_only:\n",
    "        continue\n",
    "    \n",
    "    # Fetch data\n",
    "    soma_xyz_um = (MorphPaths & key).fetch1('soma_xyz')\n",
    "    pixel_size_um = (Field() & key).fetch1('pixel_size_um')\n",
    "    z_step_um = (Field() & key).fetch1('z_step_um')\n",
    "    voxel_size = np.array([pixel_size_um, pixel_size_um, z_step_um])\n",
    "    \n",
    "    soma_xyz_px = np.asarray(soma_xyz_um) / voxel_size\n",
    "    df_paths = pd.DataFrame((MorphPaths() & key).fetch1('df_paths'))\n",
    "\n",
    "    # Load data\n",
    "    df_swc = unwarp_utils.pd_read_swc(swc_path)\n",
    "\n",
    "    if not any(df_swc.type == 3):\n",
    "        df_swc[\"type\"] = 3\n",
    "        df_swc.at[0, \"type\"] = 1\n",
    "    \n",
    "    ch0_stack, ch1_stack = get_stacks(stack_h5_file)\n",
    "\n",
    "    df_lower_bvs = unwarp_utils.pd_read_swc(os.path.join(outputdir, 'lower_bvs.swc'))\n",
    "    df_upper_bvs = unwarp_utils.pd_read_swc(os.path.join(outputdir, 'upper_bvs.swc'))\n",
    "\n",
    "    # Fit gams\n",
    "    gam_lower = unwarp_utils.fit_gam(df_lower_bvs, f_space=50, lam=0.01, plane='none', penalties='derivative')\n",
    "    gam_upper = unwarp_utils.fit_gam(df_upper_bvs, f_space=50, lam=0.01, plane='none', penalties='derivative')\n",
    "    \n",
    "    # Plot vessels\n",
    "    if interactive:\n",
    "        #unwarp_utils.plot_stack_and_vessels(df_lower=df_lower_bvs, df_upper=df_upper_bvs, stack=ch1_stack, soma_xyz_px=soma_xyz_px)\n",
    "        unwarp_utils.plot_fits(gam_lower, df_lower_bvs, gam_upper, df_upper_bvs, [path / voxel_size for path in df_paths.path])\n",
    "    \n",
    "    df_swc_flat, d_med_um = unwarp_utils.unwarp_swc(df_swc, gam_lower, df_lower_bvs, gam_upper, df_upper_bvs, pixel_size_um, z_step_um, plot=False)\n",
    "\n",
    "    print(d_med_um)\n",
    "\n",
    "    df_swc_px = df_swc.copy()\n",
    "    df_swc_px.x /= pixel_size_um\n",
    "    df_swc_px.y /= pixel_size_um\n",
    "    df_swc_px.z /= z_step_um\n",
    "    \n",
    "    unwarp_utils.pd_save_swc(df_swc_px, outputfile_swc.replace('_flat', '_px_space'))\n",
    "    unwarp_utils.pd_save_swc(df_swc_flat, outputfile_swc, comment=f'IPL-width={d_med_um:.2f} um')\n",
    "    \n",
    "    print(f'saved to {outputfile_swc}', end='\\n\\n')\n",
    "\n",
    "    if interactive:\n",
    "        fig, axs = plt.subplots(1, 2, figsize=(12, 3))\n",
    "        axs[0].plot(df_swc.x, df_swc.z, '.')\n",
    "        axs[1].plot(df_swc_flat.x, df_swc_flat.z, '.')\n",
    "        plt.show()\n",
    "    \n",
    "    if interactive:\n",
    "        break"
   ],
   "outputs": [],
   "execution_count": null
  },
  {
   "cell_type": "code",
   "id": "248e7b4b-f5de-42df-89c9-56a9d5823d52",
   "metadata": {},
   "source": [],
   "outputs": [],
   "execution_count": null
  }
 ],
 "metadata": {
  "kernelspec": {
   "display_name": "Python 3 (ipykernel)",
   "language": "python",
   "name": "python3"
  },
  "language_info": {
   "codemirror_mode": {
    "name": "ipython",
    "version": 3
   },
   "file_extension": ".py",
   "mimetype": "text/x-python",
   "name": "python",
   "nbconvert_exporter": "python",
   "pygments_lexer": "ipython3",
   "version": "3.11.5"
  }
 },
 "nbformat": 4,
 "nbformat_minor": 5
}
