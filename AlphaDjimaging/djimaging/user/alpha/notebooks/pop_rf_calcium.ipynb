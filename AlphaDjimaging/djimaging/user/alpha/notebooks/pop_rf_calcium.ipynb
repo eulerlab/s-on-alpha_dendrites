{
 "cells": [
  {
   "cell_type": "markdown",
   "id": "cab3f8fd-1b9b-478c-b048-a364059d9cfb",
   "metadata": {},
   "source": [
    "# Imports"
   ]
  },
  {
   "cell_type": "code",
   "id": "ec42b99f-35e5-44fa-9140-e1d7f4cc2fb4",
   "metadata": {},
   "source": "from matplotlib import pyplot as plt",
   "outputs": [],
   "execution_count": null
  },
  {
   "cell_type": "code",
   "id": "ee33462b-902b-4c3c-859d-2999f3c616d4",
   "metadata": {},
   "source": [
    "from djimaging.user.alpha.schemas.alpha_schema import *\n",
    "from djimaging.user.alpha.utils import populate_alpha\n",
    "from djimaging.utils.dj_utils import get_primary_key\n",
    "\n",
    "populate_alpha.load_alpha_config(schema_name=populate_alpha.SCHEMA_PREFIX + \"ca\")\n",
    "populate_alpha.load_alpha_schema(create_schema=False, create_tables=False)"
   ],
   "outputs": [],
   "execution_count": null
  },
  {
   "cell_type": "code",
   "id": "d126866d-8ed7-4269-821d-6b92f98d4783",
   "metadata": {},
   "source": [
    "schema"
   ],
   "outputs": [],
   "execution_count": null
  },
  {
   "cell_type": "code",
   "id": "086e5292-a4ac-40f2-991e-f1829c09ff63",
   "metadata": {},
   "source": [
    "plt.hist(Field().fetch('pixel_size_um'))"
   ],
   "outputs": [],
   "execution_count": null
  },
  {
   "cell_type": "code",
   "id": "b7203ddc-9b39-4c02-aa4f-f81645891300",
   "metadata": {},
   "source": [
    "(Presentation & \"stim_name='gChirp'\").fetch('pixel_size_um').min(), (Presentation & \"stim_name='gChirp'\").fetch('pixel_size_um').max()"
   ],
   "outputs": [],
   "execution_count": null
  },
  {
   "cell_type": "markdown",
   "id": "d8d4c6f5-fb4f-4dca-a2a5-e650bd694694",
   "metadata": {
    "tags": []
   },
   "source": [
    "# GLMs"
   ]
  },
  {
   "cell_type": "markdown",
   "id": "82062afe-ae81-4801-8c16-1febb0c13b55",
   "metadata": {},
   "source": [
    "## Preprocessing"
   ]
  },
  {
   "cell_type": "code",
   "id": "755854dd-61cd-4260-8e82-0f84465b37cc",
   "metadata": {},
   "source": [
    "populate_alpha.populate_rf_glms_traces(verbose=True, processes=5)"
   ],
   "outputs": [],
   "execution_count": null
  },
  {
   "cell_type": "code",
   "id": "36de6c5e-9844-44ff-af1e-10a39d2c647f",
   "metadata": {},
   "source": [
    "GLMDNoiseTraceParams()"
   ],
   "outputs": [],
   "execution_count": null
  },
  {
   "cell_type": "code",
   "id": "2f58efda-5692-49ae-a63f-27cd4b9b847a",
   "metadata": {},
   "source": [
    "GLMDNoiseTrace().plot1(xlim=(100, 101))"
   ],
   "outputs": [],
   "execution_count": null
  },
  {
   "cell_type": "markdown",
   "id": "bc1af04c-be83-4353-968f-91f8f7a8a8cd",
   "metadata": {},
   "source": [
    "### Fit"
   ]
  },
  {
   "cell_type": "code",
   "id": "5dab356e-6afe-4986-a9df-38cd45c78310",
   "metadata": {
    "tags": []
   },
   "source": [
    "RFGLMParams().add_default(**{\n",
    "    'rf_glm_params_id': 10,\n",
    "    'filter_dur_s_past': 1.2,\n",
    "    'filter_dur_s_future': 0.2,\n",
    "    'df_ts': (10,),\n",
    "    'df_ws': (9,),\n",
    "    'betas': (0.005,),\n",
    "    'kfold': 0,\n",
    "    'metric': 'mse',\n",
    "    'output_nonlinearity': 'none',\n",
    "    'other_params_dict': {\n",
    "        'frac_test': 0,\n",
    "        'min_iters': 100,\n",
    "        'max_iters': 2000,\n",
    "        'step_size': 0.1,\n",
    "        'tolerance': 5,\n",
    "        'alphas': (1.0,),\n",
    "        'verbose': 100,\n",
    "        'n_perm': 20,\n",
    "        'min_cc': 0.2,\n",
    "        'seed': 42,\n",
    "        'fit_R': False,\n",
    "        'fit_intercept': True,\n",
    "        'init_method': 'random',\n",
    "        'atol': 1e-05,\n",
    "        'distr': 'gaussian',\n",
    "        'step_size_finetune': 0.03}\n",
    "}, skip_duplicates=True)\n",
    "RFGLMParams()"
   ],
   "outputs": [],
   "execution_count": null
  },
  {
   "cell_type": "code",
   "id": "4dc529ee-d90f-4a72-966b-c96fc419b030",
   "metadata": {},
   "source": [
    "from tqdm.notebook import tqdm\n",
    "from datajoint.errors import LostConnectionError\n",
    "import time\n",
    "\n",
    "for key in tqdm((RFGLM().key_source - RFGLM().proj()).fetch('KEY')):\n",
    "    rf_entry = RFGLM()._fetch_and_compute(key=key, clear_outputs=True, suppress_outputs=True)\n",
    "    try:\n",
    "        RFGLM().insert1(rf_entry, allow_direct_insert=True)\n",
    "    except LostConnectionError:\n",
    "        dj.conn()\n",
    "        time.sleep(3)\n",
    "        RFGLM().insert1(rf_entry, allow_direct_insert=True)"
   ],
   "outputs": [],
   "execution_count": null
  },
  {
   "cell_type": "code",
   "id": "cae610b6-350b-4ce4-920b-81c2b8f022f9",
   "metadata": {},
   "source": [
    "(RFGLM() & RFGLM().fetch('KEY')[0]).fetch1()['model_dict']"
   ],
   "outputs": [],
   "execution_count": null
  },
  {
   "cell_type": "markdown",
   "id": "3861c257-e181-4746-93ff-d11e366416db",
   "metadata": {},
   "source": [
    "#### Plot fits"
   ]
  },
  {
   "cell_type": "code",
   "id": "484a7364-6d24-4afb-93ac-41dd914e903a",
   "metadata": {},
   "source": [
    "RFGLM & (RoiKind & \"roi_kind='soma'\")"
   ],
   "outputs": [],
   "execution_count": null
  },
  {
   "cell_type": "code",
   "id": "41702b5a-fcfd-4c7b-8a38-0e6186e389b8",
   "metadata": {},
   "source": [
    "key = get_primary_key(RFGLM & (RoiKind & \"roi_kind='soma'\"))\n",
    "key.pop('rf_glm_params_id')\n",
    "for rf_glm_params_id in RFGLMParams.fetch('rf_glm_params_id'):\n",
    "    print(rf_glm_params_id)\n",
    "    try:\n",
    "        (RFGLM & key & dict(rf_glm_params_id=rf_glm_params_id)).plot1()\n",
    "        plt.show()\n",
    "    except:\n",
    "        print('\\tno data')"
   ],
   "outputs": [],
   "execution_count": null
  },
  {
   "cell_type": "markdown",
   "id": "650a4f4c-7933-4b84-a611-3f3dce9dd0c4",
   "metadata": {},
   "source": [
    "## Metrics"
   ]
  },
  {
   "cell_type": "code",
   "id": "8eb496af-f219-4bcf-be94-7b5d966f45e6",
   "metadata": {},
   "source": [
    "populate_alpha.populate_rf_glm_properties(verbose=True, processes=10)"
   ],
   "outputs": [],
   "execution_count": null
  },
  {
   "cell_type": "markdown",
   "id": "d1bf6d9b-f4cf-464d-9228-69b5588e9cb9",
   "metadata": {},
   "source": [
    "## Contours"
   ]
  },
  {
   "cell_type": "code",
   "id": "1981dcf6-bb45-4df9-95a7-23965aeff000",
   "metadata": {},
   "source": [
    "GLMContoursParams().add_default(rf_contours_params_id=1, blur_std=1, blur_npix=2, norm_kind='amp_one', levels=(0.25, 0.3, 0.35), skip_duplicates=True)\n",
    "GLMContoursParams()"
   ],
   "outputs": [],
   "execution_count": null
  },
  {
   "cell_type": "code",
   "id": "2af8c5d1-e2fe-4bc7-b251-77b3664e3e7d",
   "metadata": {},
   "source": [
    "GLMContours().populate(\"rf_glm_params_id=10\", make_kwargs=dict(plot=False), processes=10, display_progress=True)"
   ],
   "outputs": [],
   "execution_count": null
  },
  {
   "cell_type": "code",
   "id": "f73565e1-5a83-42b1-8a3c-4a12927860e4",
   "metadata": {},
   "source": [
    "(GLMContours() & \"rf_cdia_um>150\" & (SplitRFGLM() & \"split_qidx>0.4\")).plot1()"
   ],
   "outputs": [],
   "execution_count": null
  },
  {
   "cell_type": "code",
   "id": "887d62d5-7d77-477c-a625-50ad67617f19",
   "metadata": {},
   "source": [
    "(GLMContours() & \"largest_contour_ratio>0.8\" & \"largest_contour_ratio<0.9\" & \"rf_glm_params_id=10\" & (SplitRFGLM() & \"split_qidx>0.4\")).plot1()"
   ],
   "outputs": [],
   "execution_count": null
  },
  {
   "cell_type": "code",
   "id": "d7968997-1403-422b-9c20-92835ea42ab5",
   "metadata": {},
   "source": [
    "(GLMContours() & \"largest_contour_ratio>0.9\" & \"largest_contour_ratio<1.0\" & \"rf_glm_params_id=10\" & (SplitRFGLM() & \"split_qidx>0.4\")).plot1()"
   ],
   "outputs": [],
   "execution_count": null
  },
  {
   "cell_type": "code",
   "id": "5378abfc-f90d-4b9b-8aa5-5ce0c8d191ca",
   "metadata": {},
   "source": [
    "plt.hist((GLMContours & \"rf_glm_params_id=10\").fetch('irregular_index'));"
   ],
   "outputs": [],
   "execution_count": null
  },
  {
   "cell_type": "markdown",
   "id": "dba824be-1ce8-4c19-a813-207e50ddd311",
   "metadata": {},
   "source": [
    "### Metrics"
   ]
  },
  {
   "cell_type": "code",
   "id": "57104785-d937-49a6-bf2d-fd2745b04071",
   "metadata": {},
   "source": [
    "GLMContoursParams()"
   ],
   "outputs": [],
   "execution_count": null
  },
  {
   "cell_type": "code",
   "id": "364f7996-593a-43c9-a6bb-59a88de7e3f3",
   "metadata": {},
   "source": [
    "GLMContourMetrics().populate(make_kwargs=dict(plot=False), processes=10, order='random')"
   ],
   "outputs": [],
   "execution_count": null
  },
  {
   "cell_type": "code",
   "id": "69b8b132-3e17-420f-834a-ac52cd25c8ff",
   "metadata": {},
   "source": [
    "(GLMContourMetrics() & (GLMContours() & \"rf_cdia_um>150\") & \"rf_glm_params_id=10\" & (SplitRFGLM() & \"split_qidx>0.4\")).plot1()"
   ],
   "outputs": [],
   "execution_count": null
  },
  {
   "cell_type": "code",
   "id": "45eb25ac-a194-46f1-829f-a38053fb14ae",
   "metadata": {},
   "source": [
    "GLMContourOffset().populate(display_progress=True, processes=1)"
   ],
   "outputs": [],
   "execution_count": null
  },
  {
   "cell_type": "code",
   "id": "fe32d604-ed73-43eb-b461-5892847ab9fd",
   "metadata": {},
   "source": [
    "for key in (RFGLM() & \"rf_glm_params_id=10\" & (GLMContours & \"largest_contour_ratio<1\")).fetch('KEY')[:3]:\n",
    "    (GLMContours() & key).plot1()"
   ],
   "outputs": [],
   "execution_count": null
  },
  {
   "cell_type": "code",
   "id": "a870cb7e-08f3-4102-92bf-0f5e46c387ce",
   "metadata": {},
   "source": [
    "for key in (RFGLM() & \"rf_glm_params_id=10\" & (CellTags & \"cell_tag='d5'\") & (RoiKind & \"roi_kind='soma'\")).fetch('KEY'):\n",
    "    (GLMContours() & key).plot1()"
   ],
   "outputs": [],
   "execution_count": null
  },
  {
   "cell_type": "code",
   "id": "b7b6d2ed-d986-40eb-b802-94ff16b32d13",
   "metadata": {},
   "source": [
    "SplitRFGLM() & (RoiKind & \"roi_kind='field'\")"
   ],
   "outputs": [],
   "execution_count": null
  },
  {
   "cell_type": "markdown",
   "id": "c848c69a-ad92-41ea-98fc-4c1742e617e7",
   "metadata": {},
   "source": [
    "## Plots"
   ]
  },
  {
   "cell_type": "code",
   "id": "f784e8ad-46b2-4817-87ee-9c09362d62dd",
   "metadata": {},
   "source": [
    "key = get_primary_key(RFGLM)\n",
    "key.pop('rf_glm_params_id')\n",
    "for rf_glm_params_id in RFGLMParams.fetch('rf_glm_params_id'):\n",
    "    print(rf_glm_params_id)\n",
    "    (SplitRFGLM & dict(rf_glm_params_id=rf_glm_params_id) & (RoiKind & \"roi_kind='roi'\")).plot(sort=True)"
   ],
   "outputs": [],
   "execution_count": null
  }
 ],
 "metadata": {
  "kernelspec": {
   "display_name": "Python 3 (ipykernel)",
   "language": "python",
   "name": "python3"
  },
  "language_info": {
   "codemirror_mode": {
    "name": "ipython",
    "version": 3
   },
   "file_extension": ".py",
   "mimetype": "text/x-python",
   "name": "python",
   "nbconvert_exporter": "python",
   "pygments_lexer": "ipython3",
   "version": "3.11.5"
  }
 },
 "nbformat": 4,
 "nbformat_minor": 5
}
