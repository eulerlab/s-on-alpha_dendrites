{
 "cells": [
  {
   "cell_type": "markdown",
   "metadata": {},
   "source": [
    "# Imports"
   ]
  },
  {
   "cell_type": "code",
   "metadata": {},
   "source": [
    "import seaborn as sns\n",
    "from matplotlib import pyplot as plt\n",
    "import pickle\n",
    "import os"
   ],
   "outputs": [],
   "execution_count": null
  },
  {
   "cell_type": "code",
   "metadata": {},
   "source": [
    "from djimaging.user.alpha.schemas.alpha_schema import *\n",
    "from djimaging.user.alpha.utils import populate_alpha\n",
    "\n",
    "populate_alpha.load_alpha_config(schema_name=populate_alpha.SCHEMA_PREFIX + \"glu\")\n",
    "populate_alpha.load_alpha_schema(create_schema=True, create_tables=True)"
   ],
   "outputs": [],
   "execution_count": null
  },
  {
   "cell_type": "code",
   "metadata": {},
   "source": [
    "schema"
   ],
   "outputs": [],
   "execution_count": null
  },
  {
   "cell_type": "markdown",
   "metadata": {},
   "source": [
    "# ERD"
   ]
  },
  {
   "cell_type": "code",
   "metadata": {},
   "source": [
    "import warnings\n",
    "\n",
    "with warnings.catch_warnings():\n",
    "    warnings.simplefilter(\"ignore\", FutureWarning)\n",
    "    display(dj.ERD(schema))"
   ],
   "outputs": [],
   "execution_count": null
  },
  {
   "cell_type": "markdown",
   "metadata": {},
   "source": [
    "# Core"
   ]
  },
  {
   "cell_type": "code",
   "metadata": {},
   "source": [
    "if len(Experiment().proj()) == 0:\n",
    "    populate_alpha.populate_experiments(verbose=True)"
   ],
   "outputs": [],
   "execution_count": null
  },
  {
   "cell_type": "code",
   "metadata": {},
   "source": [
    "populate_alpha.populate_core(verbose=True)"
   ],
   "outputs": [],
   "execution_count": null
  },
  {
   "cell_type": "markdown",
   "metadata": {},
   "source": [
    "# Morphology"
   ]
  },
  {
   "cell_type": "markdown",
   "metadata": {},
   "source": [
    "## Cell positions"
   ]
  },
  {
   "cell_type": "code",
   "metadata": {},
   "source": [
    "populate_alpha.populate_cell_positions()"
   ],
   "outputs": [],
   "execution_count": null
  },
  {
   "cell_type": "code",
   "metadata": {},
   "source": [
    "RetinalFieldLocationCat().plot('nt_side')\n",
    "RetinalFieldLocationWing().plot()"
   ],
   "outputs": [],
   "execution_count": null
  },
  {
   "cell_type": "markdown",
   "metadata": {},
   "source": [
    "## Linestacks"
   ]
  },
  {
   "cell_type": "code",
   "metadata": {},
   "source": [
    "populate_alpha.populate_morphology(verbose=True)"
   ],
   "outputs": [],
   "execution_count": null
  },
  {
   "cell_type": "code",
   "metadata": {},
   "source": [
    "populate_alpha.populate_additional_morph_metrics(verbose=True)"
   ],
   "outputs": [],
   "execution_count": null
  },
  {
   "cell_type": "code",
   "metadata": {},
   "source": [
    "ConvexHull().plot1();"
   ],
   "outputs": [],
   "execution_count": null
  },
  {
   "cell_type": "markdown",
   "metadata": {},
   "source": [
    "## Make sure field stamps are consistent"
   ]
  },
  {
   "cell_type": "code",
   "metadata": {},
   "source": [
    "field_keys = (Field & (RoiKind & 'roi_kind=\"roi\"')).fetch('KEY')\n",
    "\n",
    "for field_key in field_keys:\n",
    "    f_xcoord_um, f_ycoord_um, f_zcoord_um = (Field & field_key).fetch('absx', 'absy', 'absz')\n",
    "    xcoord_ums, ycoord_ums, zcoord_ums = (Presentation.ScanInfo() & field_key).fetch('xcoord_um', 'ycoord_um', 'zcoord_um')\n",
    "\n",
    "    dists = ((xcoord_ums-f_xcoord_um)**2 + (ycoord_ums-f_ycoord_um)**2 + (zcoord_ums-f_zcoord_um)**2)**0.5\n",
    "\n",
    "    if np.any(dists > 10):\n",
    "        print(field_key)\n",
    "        print(dists)\n",
    "        print('x:', xcoord_ums-f_xcoord_um)\n",
    "        print('y:', ycoord_ums-f_ycoord_um)\n",
    "        print('z:', zcoord_ums-f_zcoord_um)\n",
    "        print()"
   ],
   "outputs": [],
   "execution_count": null
  },
  {
   "cell_type": "markdown",
   "metadata": {},
   "source": [
    "# Match fields"
   ]
  },
  {
   "cell_type": "markdown",
   "metadata": {},
   "source": [
    "## Load Match templates"
   ]
  },
  {
   "cell_type": "code",
   "metadata": {},
   "source": [
    "from djimaging.utils.mask_utils import to_igor_format\n",
    "\n",
    "root = os.path.abspath('../../../../../../data/Ran/sONa_glutamate/match_templates/')\n",
    "\n",
    "for key in MatchTemplate().key_source:\n",
    "    key = (Field & key).fetch1('KEY')\n",
    "    fromfile = (Field & key).fetch1('fromfile')\n",
    "    \n",
    "    try:\n",
    "        pres_key = (Presentation & dict(h5_header=fromfile)).fetch1('KEY')\n",
    "    except:\n",
    "        continue\n",
    "        \n",
    "    filepath = \"---\".join([str(key['date']).replace('-', ''), str(key['exp_num']), 'Pre', os.path.basename(fromfile).replace('.h5', '') + '_template.pkl'])\n",
    "    print(filepath)\n",
    "    assert os.path.isfile(os.path.join(root, filepath)), filepath\n",
    "\n",
    "    with open(os.path.join(root, filepath), 'rb') as f:\n",
    "        match_template = pickle.load(f)\n",
    "\n",
    "    MatchTemplate().insert1({**pres_key, \"roi_mask\": to_igor_format(match_template)}, skip_duplicates=True)"
   ],
   "outputs": [],
   "execution_count": null
  },
  {
   "cell_type": "markdown",
   "metadata": {},
   "source": [
    "## Fit templates to Linestacks"
   ]
  },
  {
   "cell_type": "code",
   "metadata": {},
   "source": [
    "populate_alpha.populate_fit_to_morphology(verbose=True)"
   ],
   "outputs": [],
   "execution_count": null
  },
  {
   "cell_type": "code",
   "metadata": {},
   "source": [
    "(Field & {'experimenter': 'Ran', 'date': '20201127', 'exp_num': 1, 'field': 'd4'}).delete()"
   ],
   "outputs": [],
   "execution_count": null
  },
  {
   "cell_type": "markdown",
   "metadata": {},
   "source": [
    "## Auto fit"
   ]
  },
  {
   "cell_type": "code",
   "metadata": {},
   "source": [
    "populate_alpha.populate_fit_to_morphology(verbose=True, processes=20)"
   ],
   "outputs": [],
   "execution_count": null
  },
  {
   "cell_type": "code",
   "metadata": {},
   "source": [
    "fig, axs = plt.subplots(1, 2, figsize=(12, 3))\n",
    "sns.histplot(ax=axs[0], data=FieldStackPos.fetch(format='frame'), x='rec_cpos_stack_fit_dist')\n",
    "sns.histplot(ax=axs[1], data=FieldStackPos.FitInfo.fetch(format='frame'), x='score')\n",
    "plt.show()"
   ],
   "outputs": [],
   "execution_count": null
  },
  {
   "cell_type": "markdown",
   "metadata": {},
   "source": [
    "### Plot potential mismatches"
   ]
  },
  {
   "cell_type": "code",
   "metadata": {
    "tags": []
   },
   "source": [
    "from djimaging.utils.dj_utils import get_primary_key\n",
    "\n",
    "keys = [get_primary_key(FieldStackPos(), key=row) for row in (FieldStackPos.FitInfo() & \"score<-3\")]\n",
    "\n",
    "for key in keys:\n",
    "    print(key)\n",
    "    FieldStackPos().plot1(key=key)"
   ],
   "outputs": [],
   "execution_count": null
  },
  {
   "cell_type": "code",
   "metadata": {
    "tags": []
   },
   "source": [
    "for row in (FieldStackPos() & \"rec_cpos_stack_fit_dist>50\"):\n",
    "    print(row)\n",
    "    FieldStackPos().plot1(key=get_primary_key(FieldStackPos(), key=row))"
   ],
   "outputs": [],
   "execution_count": null
  },
  {
   "cell_type": "code",
   "metadata": {},
   "source": [
    "FieldPosMetrics().plot1(key={'experimenter': 'Ran', 'date': \"20201111\", 'exp_num': 1, 'field': 'd5'})"
   ],
   "outputs": [],
   "execution_count": null
  },
  {
   "cell_type": "markdown",
   "metadata": {
    "tags": []
   },
   "source": [
    "# Field ROIs\n",
    "\n",
    "Field ROIs are simply all ROIs as one"
   ]
  },
  {
   "cell_type": "code",
   "metadata": {},
   "source": [
    "populate_alpha.add_field_rois(verbose=True);"
   ],
   "outputs": [],
   "execution_count": null
  },
  {
   "cell_type": "code",
   "metadata": {},
   "source": [
    "FieldRoiPosMetrics().populate(display_progress=True, processes=1)"
   ],
   "outputs": [],
   "execution_count": null
  },
  {
   "cell_type": "code",
   "metadata": {},
   "source": [
    "RoiKind().populate(display_progress=True, processes=20)\n",
    "RoiKind()"
   ],
   "outputs": [],
   "execution_count": null
  },
  {
   "cell_type": "code",
   "metadata": {},
   "source": [
    "plt.hist(RoiKind().fetch('roi_kind'));"
   ],
   "outputs": [],
   "execution_count": null
  },
  {
   "cell_type": "code",
   "metadata": {},
   "source": [
    "# Populate core after adding Field ROIs\n",
    "populate_alpha.populate_core(verbose=True)"
   ],
   "outputs": [],
   "execution_count": null
  },
  {
   "cell_type": "markdown",
   "metadata": {},
   "source": [
    "# Responses"
   ]
  },
  {
   "cell_type": "markdown",
   "metadata": {},
   "source": [
    "## Surround index"
   ]
  },
  {
   "cell_type": "code",
   "metadata": {},
   "source": [
    "SineSpotSurroundIndex().populate(processes=20, display_progress=True)"
   ],
   "outputs": [],
   "execution_count": null
  },
  {
   "cell_type": "code",
   "metadata": {},
   "source": [
    "(Snippets & dict(stim_name='sinespot')).plot1()"
   ],
   "outputs": [],
   "execution_count": null
  },
  {
   "cell_type": "code",
   "metadata": {},
   "source": [
    "SineSpotSurroundIndex().plot1()"
   ],
   "outputs": [],
   "execution_count": null
  },
  {
   "cell_type": "code",
   "metadata": {},
   "source": [
    "plt.hist(SineSpotSurroundIndex().fetch('sinespot_surround_index'), bins=51);"
   ],
   "outputs": [],
   "execution_count": null
  },
  {
   "cell_type": "code",
   "metadata": {},
   "source": [
    "ChirpSurroundIndex().populate(processes=20, display_progress=True)"
   ],
   "outputs": [],
   "execution_count": null
  },
  {
   "cell_type": "code",
   "metadata": {},
   "source": [
    "ChirpSurroundIndex().plot1()"
   ],
   "outputs": [],
   "execution_count": null
  },
  {
   "cell_type": "code",
   "metadata": {},
   "source": [
    "plt.hist(ChirpSurroundIndex().fetch('chirp_surround_index'), bins=51);"
   ],
   "outputs": [],
   "execution_count": null
  },
  {
   "cell_type": "markdown",
   "metadata": {},
   "source": [
    "## Quality"
   ]
  },
  {
   "cell_type": "code",
   "metadata": {},
   "source": [
    "populate_alpha.populate_quality(verbose=True)"
   ],
   "outputs": [],
   "execution_count": null
  },
  {
   "cell_type": "code",
   "metadata": {},
   "source": [
    "QualityParams()"
   ],
   "outputs": [],
   "execution_count": null
  },
  {
   "cell_type": "code",
   "metadata": {},
   "source": [
    "(ChirpQI() & (RoiKind & \"roi_kind='roi'\")).plot()"
   ],
   "outputs": [],
   "execution_count": null
  },
  {
   "cell_type": "code",
   "metadata": {},
   "source": [
    "(ChirpQI() & (RoiKind & \"roi_kind='field'\")).plot()"
   ],
   "outputs": [],
   "execution_count": null
  },
  {
   "cell_type": "markdown",
   "metadata": {
    "tags": []
   },
   "source": [
    "## Metrics"
   ]
  },
  {
   "cell_type": "code",
   "metadata": {},
   "source": [
    "populate_alpha.populate_metrics(verbose=True)"
   ],
   "outputs": [],
   "execution_count": null
  },
  {
   "cell_type": "markdown",
   "metadata": {},
   "source": [
    "# Convex Hull"
   ]
  },
  {
   "cell_type": "code",
   "metadata": {},
   "source": [
    "ConvexHull().plot1()"
   ],
   "outputs": [],
   "execution_count": null
  },
  {
   "cell_type": "code",
   "metadata": {},
   "source": [
    "df_convex_hull = (ConvexHull() * RetinalFieldLocationCat().proj(group=\"nt_side\")).fetch(format='frame')\n",
    "df_convex_hull.head()"
   ],
   "outputs": [],
   "execution_count": null
  },
  {
   "cell_type": "code",
   "metadata": {},
   "source": [
    "df_convex_hull.to_csv('data/convex_hull_glutamate.csv')"
   ],
   "outputs": [],
   "execution_count": null
  },
  {
   "cell_type": "code",
   "metadata": {},
   "source": [],
   "outputs": [],
   "execution_count": null
  }
 ],
 "metadata": {
  "kernelspec": {
   "display_name": "Python 3 (ipykernel)",
   "language": "python",
   "name": "python3"
  },
  "language_info": {
   "codemirror_mode": {
    "name": "ipython",
    "version": 3
   },
   "file_extension": ".py",
   "mimetype": "text/x-python",
   "name": "python",
   "nbconvert_exporter": "python",
   "pygments_lexer": "ipython3",
   "version": "3.11.5"
  },
  "widgets": {
   "application/vnd.jupyter.widget-state+json": {
    "state": {},
    "version_major": 2,
    "version_minor": 0
   }
  }
 },
 "nbformat": 4,
 "nbformat_minor": 4
}
