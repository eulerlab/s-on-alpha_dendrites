{
 "cells": [
  {
   "cell_type": "markdown",
   "id": "bdcd297f-8fe9-44ae-a401-8680b31905c9",
   "metadata": {},
   "source": [
    "# Readme\n",
    "\n",
    "Clustering of chirp traces"
   ]
  },
  {
   "cell_type": "markdown",
   "id": "22639d8c-d75a-42ec-8d7f-9fa46d432a95",
   "metadata": {},
   "source": [
    "# Imports"
   ]
  },
  {
   "cell_type": "code",
   "id": "bdbbb403-8a7f-48c5-b43f-f283ae4c406f",
   "metadata": {},
   "source": "from matplotlib import pyplot as plt",
   "outputs": [],
   "execution_count": null
  },
  {
   "cell_type": "code",
   "id": "332de074-f57a-46cd-b4ba-dc6b6896b11c",
   "metadata": {},
   "source": [
    "from djimaging.user.alpha.schemas.alpha_schema import *\n",
    "from djimaging.user.alpha.utils import populate_alpha\n",
    "\n",
    "populate_alpha.load_alpha_config(schema_name=populate_alpha.SCHEMA_PREFIX + \"glu\")\n",
    "populate_alpha.load_alpha_schema(create_schema=False, create_tables=True)"
   ],
   "outputs": [],
   "execution_count": null
  },
  {
   "cell_type": "code",
   "id": "5b2a5ee8-1938-4e27-8af2-b70f01c706b2",
   "metadata": {},
   "source": [
    "schema"
   ],
   "outputs": [],
   "execution_count": null
  },
  {
   "cell_type": "markdown",
   "id": "4ad1abd0-a0ef-4aa1-8c22-c1c414bc02cb",
   "metadata": {},
   "source": [
    "# Clustering"
   ]
  },
  {
   "cell_type": "markdown",
   "id": "18c1b793-4820-4826-895b-465c00d0c343",
   "metadata": {
    "tags": []
   },
   "source": [
    "## Features"
   ]
  },
  {
   "cell_type": "code",
   "id": "f763a094-0bc9-4b62-90c2-bee3412883e2",
   "metadata": {},
   "source": [
    "FeaturesParams().add(features_id=1, kind='none', params_dict=dict(roi_filter_restr=dict(quality_params_id=1)),\n",
    "                     stim_names='gChirp_lChirp', ncomps='', norm_trace=False, skip_duplicates=True)\n",
    "FeaturesParams()"
   ],
   "outputs": [],
   "execution_count": null
  },
  {
   "cell_type": "code",
   "id": "fbce0c8c-02a8-4dff-af09-61edba38eaea",
   "metadata": {},
   "source": [
    "Features().populate(display_progress=True, make_kwargs=dict(verboselvl=2))"
   ],
   "outputs": [],
   "execution_count": null
  },
  {
   "cell_type": "code",
   "id": "806ebb43-fd03-4c27-92ab-54279b715770",
   "metadata": {},
   "source": [
    "for features_id in FeaturesParams.fetch('features_id'):\n",
    "    (Features() & f\"features_id={features_id}\").plot1_components(sort=True)"
   ],
   "outputs": [],
   "execution_count": null
  },
  {
   "cell_type": "code",
   "id": "cfe2feda-bf2f-48b3-b874-3d860abd427f",
   "metadata": {},
   "source": [
    "for features_id in FeaturesParams.fetch('features_id'):\n",
    "    (Features() & f\"features_id={features_id}\").plot1_traces()"
   ],
   "outputs": [],
   "execution_count": null
  },
  {
   "cell_type": "markdown",
   "id": "e25f6be4-4ffd-4e0d-9fb8-4f27580c033b",
   "metadata": {
    "tags": []
   },
   "source": [
    "## Clustering"
   ]
  },
  {
   "cell_type": "code",
   "id": "548c85bf-5f7a-438f-b417-84116fc3546b",
   "metadata": {},
   "source": [
    "ClusteringParameters().add(clustering_id=1, min_count=0, kind='hierarchical_ward', params_dict=dict(distance_threshold=110), skip_duplicates=True)\n",
    "ClusteringParameters()"
   ],
   "outputs": [],
   "execution_count": null
  },
  {
   "cell_type": "code",
   "id": "8cf953c7-d0fd-44cf-a88e-ea5f2f35408c",
   "metadata": {},
   "source": "Clustering().populate(display_progress=True)",
   "outputs": [],
   "execution_count": null
  },
  {
   "cell_type": "code",
   "id": "dbed6504-496f-4676-8c2d-e5771d04f71e",
   "metadata": {},
   "source": [
    "for key in (Clustering & \"clustering_id=1\").proj():\n",
    "    (Clustering() & key).plot1()\n",
    "    plt.show()"
   ],
   "outputs": [],
   "execution_count": null
  },
  {
   "cell_type": "code",
   "id": "09bde39a-86e9-4323-b2c6-a3b82ff49d3a",
   "metadata": {},
   "source": [
    "(Averages() & (RoiKind & \"roi_kind='roi'\") & \"stim_name='lChirp'\")"
   ],
   "outputs": [],
   "execution_count": null
  },
  {
   "cell_type": "code",
   "id": "1c5ebadf-e462-41d3-b4b3-8ea24ae16236",
   "metadata": {},
   "source": [
    "for key in (Clustering & \"clustering_id=1\").proj():\n",
    "    (Clustering() & key).plot1_averages()\n",
    "    plt.show()"
   ],
   "outputs": [],
   "execution_count": null
  },
  {
   "cell_type": "code",
   "id": "344dce9f-d852-4fb1-a37f-e221b4731daa",
   "metadata": {},
   "source": [],
   "outputs": [],
   "execution_count": null
  }
 ],
 "metadata": {
  "kernelspec": {
   "display_name": "Python 3 (ipykernel)",
   "language": "python",
   "name": "python3"
  },
  "language_info": {
   "codemirror_mode": {
    "name": "ipython",
    "version": 3
   },
   "file_extension": ".py",
   "mimetype": "text/x-python",
   "name": "python",
   "nbconvert_exporter": "python",
   "pygments_lexer": "ipython3",
   "version": "3.11.5"
  }
 },
 "nbformat": 4,
 "nbformat_minor": 5
}
