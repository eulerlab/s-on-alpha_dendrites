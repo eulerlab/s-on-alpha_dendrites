{
 "cells": [
  {
   "cell_type": "markdown",
   "metadata": {},
   "source": [
    "# Installation\n",
    "\n",
    "This schema loads raw data instead of h5-data.\n",
    "Therefore, you need to install the ScanM python package: https://github.com/eulerlab/ScanM_support\n"
   ]
  },
  {
   "cell_type": "markdown",
   "metadata": {},
   "source": [
    "# Imports"
   ]
  },
  {
   "cell_type": "code",
   "metadata": {},
   "source": [
    "import os\n",
    "import numpy as np\n",
    "from matplotlib import pyplot as plt\n",
    "import datetime"
   ],
   "outputs": [],
   "execution_count": null
  },
  {
   "cell_type": "markdown",
   "metadata": {},
   "source": [
    "# Data Base"
   ]
  },
  {
   "cell_type": "code",
   "metadata": {},
   "source": [
    "from djimaging.user.alpha.utils.populate_alpha import load_alpha_config, SCHEMA_PREFIX\n",
    "\n",
    "load_alpha_config(schema_name=SCHEMA_PREFIX + \"soma\")"
   ],
   "outputs": [],
   "execution_count": null
  },
  {
   "cell_type": "code",
   "metadata": {},
   "source": [
    "from djimaging.utils.dj_utils import activate_schema\n",
    "from djimaging.user.alpha.schemas.alpha_somas_schema import *\n",
    "\n",
    "activate_schema(schema=schema, create_schema=True, create_tables=True)"
   ],
   "outputs": [],
   "execution_count": null
  },
  {
   "cell_type": "markdown",
   "metadata": {},
   "source": [
    "# ERD"
   ]
  },
  {
   "cell_type": "code",
   "metadata": {},
   "source": [
    "import warnings\n",
    "\n",
    "with warnings.catch_warnings():\n",
    "    warnings.simplefilter(\"ignore\", FutureWarning)\n",
    "    display(dj.ERD(schema))"
   ],
   "outputs": [],
   "execution_count": null
  },
  {
   "cell_type": "markdown",
   "metadata": {},
   "source": [
    "# Upload user"
   ]
  },
  {
   "cell_type": "code",
   "metadata": {},
   "source": [
    "from alphacnn.paths import PROJECT_ROOT\n",
    "\n",
    "userinfo = {\n",
    "    'experimenter': 'Oesterle',\n",
    "    'data_dir': os.path.join(PROJECT_ROOT, 'data/Oesterle/sONa_somas/'),\n",
    "    'datatype_loc': 0,\n",
    "    'animal_loc': 1,\n",
    "    'region_loc': 2,\n",
    "    'field_loc': 3,\n",
    "    'stimulus_loc': 4,\n",
    "    'condition_loc': 5,\n",
    "    'outline_alias': 'outline_edge_cut_ol_vessels_vessel',\n",
    "}\n",
    "\n",
    "assert os.path.isdir(userinfo['data_dir'])"
   ],
   "outputs": [],
   "execution_count": null
  },
  {
   "cell_type": "code",
   "metadata": {},
   "source": [
    "UserInfo().upload_user(userinfo)"
   ],
   "outputs": [],
   "execution_count": null
  },
  {
   "cell_type": "code",
   "metadata": {
    "collapsed": false,
    "jupyter": {
     "outputs_hidden": false
    }
   },
   "source": [
    "# Plot the data files in the selected folder\n",
    "UserInfo().plot1(key=None, show_pre=False, show_raw=False, show_header=True)"
   ],
   "outputs": [],
   "execution_count": null
  },
  {
   "cell_type": "code",
   "metadata": {
    "collapsed": false,
    "jupyter": {
     "outputs_hidden": false
    }
   },
   "source": [
    "RawDataParams().add_default(from_raw_data=True, igor_roi_masks='no')\n",
    "RawDataParams()"
   ],
   "outputs": [],
   "execution_count": null
  },
  {
   "cell_type": "markdown",
   "metadata": {},
   "source": [
    "## Populate data"
   ]
  },
  {
   "cell_type": "markdown",
   "metadata": {},
   "source": [
    "### Experiments"
   ]
  },
  {
   "cell_type": "code",
   "metadata": {},
   "source": [
    "Experiment().rescan_filesystem(verboselvl=2)\n",
    "Experiment()"
   ],
   "outputs": [],
   "execution_count": null
  },
  {
   "cell_type": "markdown",
   "metadata": {},
   "source": [
    "### Fields"
   ]
  },
  {
   "cell_type": "code",
   "metadata": {},
   "source": [
    "Field().rescan_filesystem(verboselvl=2)"
   ],
   "outputs": [],
   "execution_count": null
  },
  {
   "cell_type": "code",
   "metadata": {
    "collapsed": false,
    "jupyter": {
     "outputs_hidden": false
    }
   },
   "source": [
    "Field().plot1(key=None)"
   ],
   "outputs": [],
   "execution_count": null
  },
  {
   "cell_type": "markdown",
   "metadata": {},
   "source": [
    "### Stimuli"
   ]
  },
  {
   "cell_type": "markdown",
   "metadata": {},
   "source": [
    "#### Add default stimuli"
   ]
  },
  {
   "cell_type": "code",
   "metadata": {},
   "source": [
    "Stimulus().add_nostim(skip_duplicates=True)\n",
    "Stimulus().add_chirp(spatialextent=1000, stim_name='gChirp', alias=\"chirp_gchirp_globalchirp\", skip_duplicates=True)"
   ],
   "outputs": [],
   "execution_count": null
  },
  {
   "cell_type": "code",
   "metadata": {},
   "source": [
    "def color2word(r, g, b):\n",
    "    if b > 0 and g > 0:\n",
    "        return 'W'\n",
    "    elif g > 0:\n",
    "        return 'G'\n",
    "    else:\n",
    "        return 'B'"
   ],
   "outputs": [],
   "execution_count": null
  },
  {
   "cell_type": "code",
   "metadata": {},
   "source": [
    "import random\n",
    "\n",
    "vspots_trial_info = []\n",
    "\n",
    "p = {\n",
    "    \"nTrials\": 2,\n",
    "    \"TimeOn_s\": 1.0,\n",
    "    \"TimeOff_s\": 1.0,\n",
    "    \"PauseInterColor_s\": 1.0,\n",
    "    \"PauseInterTrial_s\": 0.0,\n",
    "    \"SpotSizes_um\": (100, 200, 300, 400, 600, 1000),\n",
    "    # RGB and BGR for setup 1 and 3, respectively. but red is always off.\n",
    "    \"Spot_RGB_order\": ((255, 255, 255), (255, 0, 255), (0, 255, 0),\n",
    "                       (255, 255, 255), (0, 255, 0), (255, 0, 255),),\n",
    "    \"durFr_s\": 1 / 60.0,  # Frame duration\n",
    "    \"nFrPerMarker\": 3,\n",
    "}\n",
    "\n",
    "random_seed = 555\n",
    "random.seed(random_seed)\n",
    "\n",
    "size_sequences = []\n",
    "sizes = list(p[\"SpotSizes_um\"][:])\n",
    "for iT in range(p[\"nTrials\"]):\n",
    "    sizes_i = sizes.copy()\n",
    "    random.shuffle(sizes_i)\n",
    "    size_sequences.append(sizes_i)\n",
    "\n",
    "p['SpotSizesShuffled_um'] = size_sequences\n",
    "\n",
    "# Define stimulus objects\n",
    "size2idx_dict = {}\n",
    "for idx, size in enumerate(p[\"SpotSizes_um\"], start=1):\n",
    "    size2idx_dict[size] = idx\n",
    "\n",
    "for size_sequence in size_sequences:\n",
    "    for color in p[\"Spot_RGB_order\"]:\n",
    "        for size in size_sequence:\n",
    "            vspots_trial_info.append({\n",
    "                'name': color2word(*color[::-1]) + str(size).zfill(4), 'ntrigger': 2\n",
    "            }) # RGB inverted for setup 3"
   ],
   "outputs": [],
   "execution_count": null
  },
  {
   "cell_type": "code",
   "metadata": {},
   "source": [
    "Stimulus().add_stimulus(\n",
    "    stim_name='vspots', alias='vspots_spots', isrepeated=0, ntrigger_rep=144,\n",
    "    stim_dict=dict(trigger_delay=-1),\n",
    "    trial_info=vspots_trial_info, skip_duplicates=True\n",
    ")    "
   ],
   "outputs": [],
   "execution_count": null
  },
  {
   "cell_type": "code",
   "metadata": {},
   "source": [
    "(Stimulus() & dict(stim_name='vspots')).fetch('trial_info')"
   ],
   "outputs": [],
   "execution_count": null
  },
  {
   "cell_type": "markdown",
   "metadata": {},
   "source": [
    "## Presentations"
   ]
  },
  {
   "cell_type": "code",
   "metadata": {},
   "source": [
    "Presentation().populate(processes=20, display_progress=True, suppress_errors=True)"
   ],
   "outputs": [],
   "execution_count": null
  },
  {
   "cell_type": "code",
   "metadata": {
    "collapsed": false,
    "jupyter": {
     "outputs_hidden": false
    }
   },
   "source": [
    "Presentation().plot1(key=None)"
   ],
   "outputs": [],
   "execution_count": null
  },
  {
   "cell_type": "markdown",
   "metadata": {
    "jupyter": {
     "outputs_hidden": false
    }
   },
   "source": [
    "# AutoROIs\n",
    "\n",
    "ROI masks for traces, be conservative here and do not include pixels at the border to you can align the ROI across stimuli easily."
   ]
  },
  {
   "cell_type": "code",
   "metadata": {},
   "source": [
    "HighRes().populate(display_progress=True, suppress_errors=False, order='random')"
   ],
   "outputs": [],
   "execution_count": null
  },
  {
   "cell_type": "code",
   "metadata": {},
   "source": [
    "HighRes()"
   ],
   "outputs": [],
   "execution_count": null
  },
  {
   "cell_type": "code",
   "metadata": {},
   "source": [
    "HighRes().plot1()"
   ],
   "outputs": [],
   "execution_count": null
  },
  {
   "cell_type": "markdown",
   "metadata": {},
   "source": [
    "## Masks for traces\n",
    "\n",
    "Don't use border pixels"
   ]
  },
  {
   "cell_type": "code",
   "metadata": {
    "collapsed": false,
    "jupyter": {
     "outputs_hidden": false
    }
   },
   "source": [
    "# If you have save some of you AutoROIs ROI masks you can load them here.\n",
    "RoiMask().rescan_filesystem(verboselvl=2, roi_mask_dir='ROIs')\n",
    "RoiMask()"
   ],
   "outputs": [],
   "execution_count": null
  },
  {
   "cell_type": "code",
   "metadata": {
    "collapsed": false,
    "jupyter": {
     "outputs_hidden": false
    }
   },
   "source": [
    "# Find all the fields that still require a ROI mask.\n",
    "missing_fields = RoiMask().list_missing_field()"
   ],
   "outputs": [],
   "execution_count": null
  },
  {
   "cell_type": "code",
   "metadata": {
    "collapsed": false,
    "jupyter": {
     "outputs_hidden": false
    }
   },
   "source": [
    "if len(missing_fields) > 0:\n",
    "    field_key = missing_fields.pop()  # Pick one field\n",
    "    \n",
    "    # Load ROI canvas, draw the ROI mask, clean it if you want, shift if you want.\n",
    "    # You can then save it to a file to be able to load it again later.\n",
    "    roi_canvas = RoiMask().draw_roi_mask(field_key=field_key, canvas_width=15, autorois_models=None, roi_mask_dir='ROIs', max_shift=10)\n",
    "    display(roi_canvas.start_gui())"
   ],
   "outputs": [],
   "execution_count": null
  },
  {
   "cell_type": "code",
   "metadata": {},
   "source": [
    "field_key = {'experimenter': 'Oesterle', 'date': datetime.date(2024, 7, 18), 'exp_num': 1, 'raw_id': 1, 'field': 'GCL4', 'roi_id': 1}\n",
    "roi_canvas = RoiMask().draw_roi_mask(field_key=field_key, canvas_width=15, autorois_models=None, roi_mask_dir='ROIs', max_shift=10)\n",
    "display(roi_canvas.start_gui())"
   ],
   "outputs": [],
   "execution_count": null
  },
  {
   "cell_type": "code",
   "metadata": {
    "collapsed": false,
    "jupyter": {
     "outputs_hidden": false
    }
   },
   "source": [
    "# Load the just saved ROI mask\n",
    "RoiMask().rescan_filesystem(verboselvl=1, roi_mask_dir='ROIs',)"
   ],
   "outputs": [],
   "execution_count": null
  },
  {
   "cell_type": "code",
   "metadata": {
    "collapsed": false,
    "jupyter": {
     "outputs_hidden": false
    }
   },
   "source": [
    "RoiMask().plot1()"
   ],
   "outputs": [],
   "execution_count": null
  },
  {
   "cell_type": "code",
   "metadata": {
    "collapsed": false,
    "jupyter": {
     "outputs_hidden": false
    }
   },
   "source": [
    "Roi().populate(processes=20, display_progress=True)"
   ],
   "outputs": [],
   "execution_count": null
  },
  {
   "cell_type": "code",
   "metadata": {
    "collapsed": false,
    "jupyter": {
     "outputs_hidden": false
    }
   },
   "source": [
    "Roi().plot1(key=None)"
   ],
   "outputs": [],
   "execution_count": null
  },
  {
   "cell_type": "markdown",
   "metadata": {},
   "source": [
    "# Responses"
   ]
  },
  {
   "cell_type": "markdown",
   "metadata": {},
   "source": [
    "## Traces"
   ]
  },
  {
   "cell_type": "code",
   "metadata": {},
   "source": [
    "Traces().populate(processes=20, display_progress=True)\n",
    "Traces()"
   ],
   "outputs": [],
   "execution_count": null
  },
  {
   "cell_type": "markdown",
   "metadata": {},
   "source": [
    "## Preprocessed traces"
   ]
  },
  {
   "cell_type": "code",
   "metadata": {},
   "source": [
    "PreprocessParams().add_default(skip_duplicates=True)\n",
    "PreprocessParams()"
   ],
   "outputs": [],
   "execution_count": null
  },
  {
   "cell_type": "code",
   "metadata": {},
   "source": [
    "PreprocessTraces().populate(processes=20, display_progress=True)\n",
    "PreprocessTraces()"
   ],
   "outputs": [],
   "execution_count": null
  },
  {
   "cell_type": "code",
   "metadata": {
    "collapsed": false,
    "jupyter": {
     "outputs_hidden": false
    }
   },
   "source": [
    "PreprocessTraces().plot1()"
   ],
   "outputs": [],
   "execution_count": null
  },
  {
   "cell_type": "markdown",
   "metadata": {},
   "source": [
    "## Blank corrupted repetitions\n",
    "\n",
    "There was an issue with the setup and therefore there were some z-shifts during the recordings that corrupted the recordings.\n",
    "Here we remove corrupted repetitions entirely."
   ]
  },
  {
   "cell_type": "markdown",
   "metadata": {},
   "source": [
    "### Flag corrupted reps"
   ]
  },
  {
   "cell_type": "code",
   "metadata": {},
   "source": [
    "keys = (Presentation & dict(stim_name='vspots')).fetch('KEY')\n",
    "problem_keys = []"
   ],
   "outputs": [],
   "execution_count": null
  },
  {
   "cell_type": "code",
   "metadata": {},
   "source": [
    "## Repeat the following for all keys"
   ],
   "outputs": [],
   "execution_count": null
  },
  {
   "cell_type": "code",
   "metadata": {},
   "source": [
    "from djimaging.utils import scanm_utils\n",
    "\n",
    "key = keys.pop(0)\n",
    "\n",
    "data_name, alt_name = (UserInfo & key).fetch1('data_stack_name', 'alt_stack_name')\n",
    "filepath, triggertimes = (Presentation & key).fetch1(Presentation().filepath, 'triggertimes')\n",
    "\n",
    "from_raw_data = (RawDataParams & key).fetch1('from_raw_data')\n",
    "ch_stacks, wparams = scanm_utils.load_stacks(filepath, from_raw_data=from_raw_data,\n",
    "                                             ch_names=('wDataCh0', 'wDataCh1'))\n",
    "\n",
    "n_frames = ch_stacks['wDataCh0'].shape[2]\n",
    "\n",
    "trace_times, trace = (Traces() & key).fetch1('trace_times', 'trace')"
   ],
   "outputs": [],
   "execution_count": null
  },
  {
   "cell_type": "code",
   "metadata": {},
   "source": [
    "key"
   ],
   "outputs": [],
   "execution_count": null
  },
  {
   "cell_type": "code",
   "metadata": {},
   "source": [
    "from ipywidgets import widgets\n",
    "\n",
    "layout = widgets.Layout(width='1000px')\n",
    "\n",
    "w_frame = widgets.IntSlider(0, min=0, max=n_frames - 1, step=1, layout=layout)\n",
    "w_left = widgets.IntSlider(0, min=0, max=n_frames - 1, step=1, layout=layout)\n",
    "w_right = widgets.IntSlider(n_frames - 1, min=0, max=n_frames - 1, step=1, layout=layout)\n",
    "w_save = widgets.Checkbox(False)\n",
    "\n",
    "tmin = np.min(trace)\n",
    "tmax = np.max(trace)\n",
    "\n",
    "ch1_trace = np.nanpercentile(ch_stacks[alt_name][3:-3, 3:-3], axis=(0, 1), q=98)\n",
    "\n",
    "cmin = np.min(ch1_trace)\n",
    "cmax = np.max(ch1_trace)\n",
    "\n",
    "ch0_min = np.min(ch_stacks[data_name])\n",
    "ch0_max = np.max(ch_stacks[data_name])\n",
    "\n",
    "ch1_min = np.min(ch_stacks[alt_name])\n",
    "ch1_max = np.max(ch_stacks[alt_name])"
   ],
   "outputs": [],
   "execution_count": null
  },
  {
   "cell_type": "code",
   "metadata": {},
   "source": [
    "def _fit_plot(frame=0, left=0, right=n_frames - 1):\n",
    "    fig, axs = plt.subplot_mosaic([['C', 'C'], ['D', 'D'], ['A', 'B']], figsize=(10, 6), height_ratios=(1, 1, 3))\n",
    "    \n",
    "    axs['A'].imshow(ch_stacks[data_name][:, :, frame], cmap='gray', vmin=ch0_min, vmax=ch0_max)\n",
    "    axs['B'].imshow(ch_stacks[alt_name][:, :, frame], cmap='gray',  vmin=ch1_min, vmax=ch1_max)\n",
    "\n",
    "    axs['C'].plot(trace_times, trace)\n",
    "    axs['C'].axvline(trace_times[frame], c='r')\n",
    "    axs['C'].axvline(trace_times[left], c='k')\n",
    "    axs['C'].axvline(trace_times[right], c='k')\n",
    "    axs['C'].vlines(triggertimes[::12], tmin, tmax, color='orange', ls='-', zorder=-100)\n",
    "    axs['C'].vlines(triggertimes[::36], tmin, tmax, color='orange', ls='-', lw=3, zorder=-100)\n",
    "\n",
    "    axs['D'].plot(trace_times, ch1_trace)\n",
    "    axs['D'].axvline(trace_times[frame], c='r')\n",
    "    axs['D'].axvline(trace_times[left], c='k')\n",
    "    axs['D'].axvline(trace_times[right], c='k')\n",
    "    axs['D'].vlines(triggertimes[::12], cmin, cmax, color='orange', ls='-', zorder=-100)\n",
    "    axs['D'].vlines(triggertimes[::36], cmin, cmax, color='orange', ls='-', lw=3, zorder=-100)\n",
    "\n",
    "    plt.tight_layout()"
   ],
   "outputs": [],
   "execution_count": null
  },
  {
   "cell_type": "code",
   "metadata": {},
   "source": [
    "@widgets.interact(frame=w_frame, left=w_left, right=w_right, save=w_save)\n",
    "def plot_fit(frame=0, left=0, right=n_frames - 1, save=False):\n",
    "    _fit_plot(frame=frame, left=left, right=right)\n",
    "\n",
    "    if save:\n",
    "        i0, i1 = (right, left + 1) if right < left else (left, right + 1)\n",
    "        problem_keys.append((key, i0, i1))\n",
    "        w_save.value = False"
   ],
   "outputs": [],
   "execution_count": null
  },
  {
   "cell_type": "code",
   "metadata": {},
   "source": [
    "key"
   ],
   "outputs": [],
   "execution_count": null
  },
  {
   "cell_type": "markdown",
   "metadata": {},
   "source": [
    "### Change in database\n",
    "\n",
    "\"+n\" means keep the first n repetitions. <br>\n",
    "\"-x\" means delete rep x"
   ]
  },
  {
   "cell_type": "code",
   "metadata": {},
   "source": [
    "clip_keys = [\n",
    "    (2, {'experimenter': 'Oesterle',\n",
    "   'date': datetime.date(2024, 7, 16),\n",
    "   'exp_num': 2,\n",
    "   'raw_id': 1,\n",
    "   'field': 'GCL0',\n",
    "   'stim_name': 'vspots',\n",
    "   'condition': 'control'}),\n",
    "\n",
    "    (2, {'experimenter': 'Oesterle',\n",
    "   'date': datetime.date(2024, 7, 18),\n",
    "   'exp_num': 1,\n",
    "   'raw_id': 1,\n",
    "   'field': 'GCL4',\n",
    "   'stim_name': 'vspots',\n",
    "   'condition': 'control'}),\n",
    "\n",
    "    (-2, {'experimenter': 'Oesterle',\n",
    "    'date': datetime.date(2024, 7, 18),\n",
    "    'exp_num': 1,\n",
    "    'raw_id': 1,\n",
    "    'field': 'GCL0',\n",
    "    'stim_name': 'vspots',\n",
    "    'condition': 'control'}),\n",
    "\n",
    "    (-2, {'experimenter': 'Oesterle',\n",
    "    'date': datetime.date(2024, 7, 18),\n",
    "    'exp_num': 1,\n",
    "    'raw_id': 1,\n",
    "    'field': 'GCL3',\n",
    "    'stim_name': 'vspots',\n",
    "    'condition': 'control'}),\n",
    "]"
   ],
   "outputs": [],
   "execution_count": null
  },
  {
   "cell_type": "code",
   "metadata": {},
   "source": [
    "from IPython.display import clear_output\n",
    "from djimaging.utils import trace_utils\n",
    "\n",
    "for reps, clip_key in clip_keys:\n",
    "    triggertimes = (Presentation & clip_key).fetch1('triggertimes')\n",
    "    fs = (Presentation.ScanInfo & clip_key).fetch1('scan_frequency')\n",
    "    trace, trace_times, smoothed_trace = (PreprocessTraces & clip_key).fetch1('preprocess_trace', 'preprocess_trace_times', 'smoothed_trace')\n",
    "    raw_trace = (Traces & clip_key).fetch1('trace')\n",
    "    \n",
    "    new_trace = trace.copy()\n",
    "    \n",
    "    if reps > 0:\n",
    "        idx1 = trace_utils.find_closest_after(triggertimes[reps*36], trace_times, as_index=True) + 1\n",
    "        tt_idx1 = reps*36\n",
    "    \n",
    "        new_trace[idx1:] = np.nan\n",
    "    \n",
    "    elif reps < 0:\n",
    "        idx0 = trace_utils.find_closest_after(triggertimes[(abs(reps)-1)*36], trace_times, as_index=True)\n",
    "        idx1 = trace_utils.find_closest_after(triggertimes[abs(reps)*36], trace_times, as_index=True)\n",
    "    \n",
    "        new_trace[idx0:idx1] = np.nan\n",
    "    \n",
    "    fig, axs = plt.subplots(1, 2, figsize=(12, 3))\n",
    "    ax = axs[0]\n",
    "    ax.plot(trace_times, raw_trace)\n",
    "    ax.vlines(triggertimes[::12], np.nanmin(raw_trace), np.nanmax(raw_trace), color='r');\n",
    "    ax.vlines(triggertimes[::36], np.nanmin(raw_trace), np.nanmax(raw_trace), color='r', lw=3);\n",
    "\n",
    "    ax = axs[1]\n",
    "    ax.plot(trace_times, new_trace)\n",
    "    ax.vlines(triggertimes[::12], np.nanmin(trace), np.nanmax(trace), color='r');\n",
    "    ax.vlines(triggertimes[::36], np.nanmin(trace), np.nanmax(trace), color='r', lw=3);\n",
    "    plt.show()\n",
    "    \n",
    "    PreprocessTraces().update1({**(PreprocessTraces & clip_key).fetch1('KEY'), \"preprocess_trace\": new_trace})\n",
    "\n",
    "    if input(\"Continue? [y/n]\") != 'y':\n",
    "        break\n",
    "    else:\n",
    "        clear_output()"
   ],
   "outputs": [],
   "execution_count": null
  },
  {
   "cell_type": "markdown",
   "metadata": {},
   "source": [
    "## Snippets"
   ]
  },
  {
   "cell_type": "code",
   "metadata": {},
   "source": [
    "Snippets().populate(dict(stim_name='gChirp'), processes=20, display_progress=True)\n",
    "Snippets()"
   ],
   "outputs": [],
   "execution_count": null
  },
  {
   "cell_type": "code",
   "metadata": {
    "collapsed": false,
    "jupyter": {
     "outputs_hidden": false
    }
   },
   "source": [
    "for key in (Snippets & dict(stim_name='gChirp')):\n",
    "    Snippets().plot1(key=key)\n",
    "    break"
   ],
   "outputs": [],
   "execution_count": null
  },
  {
   "cell_type": "code",
   "metadata": {},
   "source": [
    "Averages().populate(processes=1, display_progress=True)\n",
    "Averages()"
   ],
   "outputs": [],
   "execution_count": null
  },
  {
   "cell_type": "code",
   "metadata": {},
   "source": [
    "(Averages & dict(stim_name='gChirp')).plot()"
   ],
   "outputs": [],
   "execution_count": null
  },
  {
   "cell_type": "code",
   "metadata": {},
   "source": [
    "for key in np.random.choice(Averages.fetch('KEY'), 3):\n",
    "    Averages().plot1(key=key)"
   ],
   "outputs": [],
   "execution_count": null
  },
  {
   "cell_type": "markdown",
   "metadata": {},
   "source": [
    "## Quality"
   ]
  },
  {
   "cell_type": "code",
   "metadata": {},
   "source": [
    "ChirpQI().populate(display_progress=True, processes=20)\n",
    "ChirpQI()"
   ],
   "outputs": [],
   "execution_count": null
  },
  {
   "cell_type": "code",
   "metadata": {},
   "source": [
    "(Averages() & (ChirpQI & \"qidx>0.9\")).plot1()"
   ],
   "outputs": [],
   "execution_count": null
  },
  {
   "cell_type": "markdown",
   "metadata": {},
   "source": [
    "## Spot response"
   ]
  },
  {
   "cell_type": "code",
   "metadata": {},
   "source": [
    "GroupSnippets().populate()"
   ],
   "outputs": [],
   "execution_count": null
  },
  {
   "cell_type": "code",
   "metadata": {},
   "source": [
    "GroupSnippets().plot1();"
   ],
   "outputs": [],
   "execution_count": null
  },
  {
   "cell_type": "code",
   "metadata": {},
   "source": [
    "WbgSpots().populate(processes=1, make_kwargs=dict(plot=1))"
   ],
   "outputs": [],
   "execution_count": null
  },
  {
   "cell_type": "markdown",
   "metadata": {},
   "source": [
    "# Soma sizes"
   ]
  },
  {
   "cell_type": "code",
   "metadata": {
    "collapsed": false,
    "jupyter": {
     "outputs_hidden": false
    }
   },
   "source": [
    "# If you have save some of you AutoROIs ROI masks you can load them here.\n",
    "SizeRoiMask().rescan_filesystem(verboselvl=2, roi_mask_dir='ROIs_size')\n",
    "SizeRoiMask()"
   ],
   "outputs": [],
   "execution_count": null
  },
  {
   "cell_type": "code",
   "metadata": {
    "collapsed": false,
    "jupyter": {
     "outputs_hidden": false
    }
   },
   "source": [
    "# Find all the fields that still require a ROI mask.\n",
    "missing_fields = SizeRoiMask().list_missing_field()\n",
    "print(len(missing_fields))"
   ],
   "outputs": [],
   "execution_count": null
  },
  {
   "cell_type": "code",
   "metadata": {
    "collapsed": false,
    "jupyter": {
     "outputs_hidden": false
    }
   },
   "source": [
    "field_key = missing_fields.pop()  # Pick one field\n",
    "\n",
    "# Load ROI canvas, draw the ROI mask, clean it if you want, shift if you want.\n",
    "# You can then save it to a file to be able to load it again later.\n",
    "roi_canvas = SizeRoiMask().draw_roi_mask(field_key=field_key, canvas_width=15, autorois_models=None, roi_mask_dir='ROIs_size', max_shift=10, show_diagnostics=False)\n",
    "display(roi_canvas.start_gui())"
   ],
   "outputs": [],
   "execution_count": null
  },
  {
   "cell_type": "code",
   "metadata": {
    "collapsed": false,
    "jupyter": {
     "outputs_hidden": false
    }
   },
   "source": [
    "# Load the just saved ROI mask\n",
    "SizeRoiMask().rescan_filesystem(verboselvl=1, roi_mask_dir='ROIs_size',)"
   ],
   "outputs": [],
   "execution_count": null
  },
  {
   "cell_type": "code",
   "metadata": {
    "collapsed": false,
    "jupyter": {
     "outputs_hidden": false
    }
   },
   "source": [
    "SizeRoi().populate(processes=20, display_progress=True)\n",
    "SizeRoi()"
   ],
   "outputs": [],
   "execution_count": null
  },
  {
   "cell_type": "code",
   "metadata": {
    "collapsed": false,
    "jupyter": {
     "outputs_hidden": false
    }
   },
   "source": [
    "plt.hist(SizeRoi().fetch('roi_dia_um'))"
   ],
   "outputs": [],
   "execution_count": null
  },
  {
   "cell_type": "code",
   "metadata": {},
   "source": [
    "(Averages & ( SizeRoi() & 'roi_dia_um<17')).plot1()"
   ],
   "outputs": [],
   "execution_count": null
  },
  {
   "cell_type": "code",
   "metadata": {},
   "source": [
    "# Double check smallest cells: Around the non-round? Are they larger than all other cells in Field?\n",
    "\n",
    "for key in (SizeRoi() & \"roi_dia_um<18\").fetch('KEY'):\n",
    "    print(key)\n",
    "    (SizeRoi & key).plot1()\n",
    "    plt.show()"
   ],
   "outputs": [],
   "execution_count": null
  },
  {
   "cell_type": "code",
   "metadata": {},
   "source": [
    "(Field & {'experimenter': 'Oesterle', 'date': datetime.date(2024, 7, 18), 'exp_num': 1, 'raw_id': 1, 'field': 'GCL4', 'roi_id': 1}).delete()"
   ],
   "outputs": [],
   "execution_count": null
  },
  {
   "cell_type": "markdown",
   "metadata": {},
   "source": [
    "# Recording location"
   ]
  },
  {
   "cell_type": "code",
   "metadata": {},
   "source": [
    "# From Notes\n",
    "absx, absy = (Field & dict(date='2024-06-20')).fetch1('absx', 'absy')\n",
    "odx = absx - 344\n",
    "ody = absy - (-1608)\n",
    "\n",
    "odx, ody"
   ],
   "outputs": [],
   "execution_count": null
  },
  {
   "cell_type": "code",
   "metadata": {},
   "source": [
    "OpticDisk().populate(processes=1, display_progress=True)\n",
    "OpticDisk()"
   ],
   "outputs": [],
   "execution_count": null
  },
  {
   "cell_type": "code",
   "metadata": {},
   "source": [
    "RelativeFieldLocation().populate(processes=20, display_progress=True)\n",
    "RelativeFieldLocation()"
   ],
   "outputs": [],
   "execution_count": null
  },
  {
   "cell_type": "code",
   "metadata": {},
   "source": [
    "RelativeFieldLocation().plot()"
   ],
   "outputs": [],
   "execution_count": null
  },
  {
   "cell_type": "code",
   "metadata": {},
   "source": [
    "RetinalFieldLocation().populate(processes=20, display_progress=True)\n",
    "RetinalFieldLocation()"
   ],
   "outputs": [],
   "execution_count": null
  },
  {
   "cell_type": "code",
   "metadata": {
    "collapsed": false,
    "jupyter": {
     "outputs_hidden": false
    }
   },
   "source": [
    "RetinalFieldLocation().plot()"
   ],
   "outputs": [],
   "execution_count": null
  },
  {
   "cell_type": "code",
   "metadata": {},
   "source": [
    "UserInfo()"
   ],
   "outputs": [],
   "execution_count": null
  },
  {
   "cell_type": "code",
   "metadata": {},
   "source": [],
   "outputs": [],
   "execution_count": null
  }
 ],
 "metadata": {
  "kernelspec": {
   "display_name": "Python 3 (ipykernel)",
   "language": "python",
   "name": "python3"
  },
  "language_info": {
   "codemirror_mode": {
    "name": "ipython",
    "version": 3
   },
   "file_extension": ".py",
   "mimetype": "text/x-python",
   "name": "python",
   "nbconvert_exporter": "python",
   "pygments_lexer": "ipython3",
   "version": "3.11.5"
  }
 },
 "nbformat": 4,
 "nbformat_minor": 4
}
