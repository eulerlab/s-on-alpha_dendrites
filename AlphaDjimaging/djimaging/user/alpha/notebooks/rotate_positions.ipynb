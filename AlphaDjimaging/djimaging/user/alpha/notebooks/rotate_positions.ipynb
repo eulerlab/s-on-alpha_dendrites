{
 "cells": [
  {
   "cell_type": "code",
   "id": "0fd0341d-65c7-4f73-8941-a5b83fe81f9a",
   "metadata": {},
   "source": [
    "import pandas as pd\n",
    "import seaborn as sns\n",
    "from matplotlib import pyplot as plt"
   ],
   "outputs": [],
   "execution_count": null
  },
  {
   "cell_type": "code",
   "id": "b1ef4780-93ae-4eb1-9cd5-b1f77724595c",
   "metadata": {},
   "source": [
    "cell_position = pd.read_csv('data/Ran/cell_positions.csv')\n",
    "\n",
    "ax = sns.scatterplot(data=cell_position, x='nasal-temporal', y='ventral-dorsal', hue='indicator')\n",
    "ax.axhline(0, c='k')\n",
    "ax.axvline(0, c='k')\n",
    "plt.show()"
   ],
   "outputs": [],
   "execution_count": null
  },
  {
   "cell_type": "code",
   "id": "ef905e8e-72c9-491a-8361-377dadc7e7b0",
   "metadata": {},
   "source": [
    "from djimaging.user.alpha.tables.morphology.match_utils import rotate_point_around_center\n",
    "\n",
    "cell_position_rot22 = cell_position.copy()\n",
    "\n",
    "for i, row in cell_position.iterrows():\n",
    "    x = cell_position.loc[i, 'nasal-temporal']\n",
    "    y = cell_position.loc[i, 'ventral-dorsal']\n",
    "\n",
    "    x_new, y_new = rotate_point_around_center(px=x, py=y, ang_deg=22.1)\n",
    "\n",
    "    cell_position_rot22.loc[i, 'nasal-temporal'] = x_new\n",
    "    cell_position_rot22.loc[i, 'ventral-dorsal'] = y_new\n",
    "    cell_position_rot22.loc[i, 'temporal-nasal'] = -x_new"
   ],
   "outputs": [],
   "execution_count": null
  },
  {
   "cell_type": "code",
   "id": "be52adf0-0cd8-46a4-a28c-011fe5de84c6",
   "metadata": {},
   "source": [
    "ax = sns.scatterplot(data=cell_position_rot22, x='nasal-temporal', y='ventral-dorsal', hue='indicator')\n",
    "ax.axhline(0, c='k')\n",
    "ax.axvline(0, c='k')\n",
    "plt.show()"
   ],
   "outputs": [],
   "execution_count": null
  },
  {
   "cell_type": "code",
   "id": "f2313feb-0336-45fd-b7b1-23a5a3dec51c",
   "metadata": {},
   "source": [],
   "outputs": [],
   "execution_count": null
  }
 ],
 "metadata": {
  "kernelspec": {
   "display_name": "Python 3 (ipykernel)",
   "language": "python",
   "name": "python3"
  },
  "language_info": {
   "codemirror_mode": {
    "name": "ipython",
    "version": 3
   },
   "file_extension": ".py",
   "mimetype": "text/x-python",
   "name": "python",
   "nbconvert_exporter": "python",
   "pygments_lexer": "ipython3",
   "version": "3.10.12"
  }
 },
 "nbformat": 4,
 "nbformat_minor": 5
}
