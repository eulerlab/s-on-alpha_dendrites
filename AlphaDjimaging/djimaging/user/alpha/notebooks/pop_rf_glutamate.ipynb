{
 "cells": [
  {
   "cell_type": "markdown",
   "id": "62c0ae7f-0a01-407f-9fd2-b9db670e5708",
   "metadata": {},
   "source": [
    "# Imports"
   ]
  },
  {
   "cell_type": "code",
   "id": "9a4245bd-4a3e-4740-b37d-debc3f367aa9",
   "metadata": {},
   "source": [
    "import seaborn as sns\n",
    "from matplotlib import pyplot as plt"
   ],
   "outputs": [],
   "execution_count": null
  },
  {
   "cell_type": "code",
   "id": "a02534c9-11b9-48ad-9028-8068bf7a73b5",
   "metadata": {},
   "source": [
    "from djimaging.user.alpha.schemas.alpha_schema import *\n",
    "from djimaging.user.alpha.utils import populate_alpha\n",
    "from djimaging.utils.dj_utils import get_primary_key\n",
    "\n",
    "populate_alpha.load_alpha_config(schema_name=populate_alpha.SCHEMA_PREFIX + \"glu\")\n",
    "populate_alpha.load_alpha_schema(create_schema=False, create_tables=False)"
   ],
   "outputs": [],
   "execution_count": null
  },
  {
   "cell_type": "code",
   "id": "81f2e3e7-aaa7-4e65-8a8d-cc6d10dc1f1b",
   "metadata": {},
   "source": [
    "schema"
   ],
   "outputs": [],
   "execution_count": null
  },
  {
   "cell_type": "markdown",
   "id": "ba7a4dc6-1ffc-4ae2-ba17-8f8d0bc885b6",
   "metadata": {},
   "source": [
    "## Preprocessing"
   ]
  },
  {
   "cell_type": "code",
   "id": "5c514d48-5a7a-4c6a-93e0-72452c412eea",
   "metadata": {},
   "source": [
    "populate_alpha.populate_rf_glms_traces(verbose=True, processes=20)"
   ],
   "outputs": [],
   "execution_count": null
  },
  {
   "cell_type": "code",
   "id": "c0675e49-cdbc-494e-8e38-65b87f6d2ff0",
   "metadata": {},
   "source": [
    "GLMDNoiseTraceParams()"
   ],
   "outputs": [],
   "execution_count": null
  },
  {
   "cell_type": "code",
   "id": "9f5e0d93-46e6-4bb6-956e-28a3b060b215",
   "metadata": {},
   "source": [
    "GLMDNoiseTrace().plot1(xlim=(100, 101))"
   ],
   "outputs": [],
   "execution_count": null
  },
  {
   "cell_type": "markdown",
   "id": "4ec7cea8-5e54-4be2-8b92-1baeae83d370",
   "metadata": {},
   "source": [
    "## Fit"
   ]
  },
  {
   "cell_type": "code",
   "id": "60a850ec-efc1-4c38-8dcd-1a7e38ec00aa",
   "metadata": {},
   "source": [
    "RFGLMParams()"
   ],
   "outputs": [],
   "execution_count": null
  },
  {
   "cell_type": "code",
   "id": "9e26e9ca-8ef0-4cdc-8664-516ed53b426d",
   "metadata": {},
   "source": [
    "from tqdm.notebook import tqdm\n",
    "from datajoint.errors import LostConnectionError\n",
    "\n",
    "for key in tqdm((RFGLM().key_source - RFGLM().proj()).fetch('KEY')):\n",
    "    rf_entry = RFGLM()._fetch_and_compute(key=key, clear_outputs=True, suppress_outputs=True)\n",
    "    try:\n",
    "        RFGLM().insert1(rf_entry, allow_direct_insert=True)\n",
    "    except LostConnectionError:\n",
    "        import time\n",
    "        time.sleep(3)\n",
    "        RFGLM().insert1(rf_entry, allow_direct_insert=True)"
   ],
   "outputs": [],
   "execution_count": null
  },
  {
   "cell_type": "code",
   "id": "57f16bdc-ff74-4428-9ab5-f506dacd2cf9",
   "metadata": {},
   "source": [
    "(RFGLM() & \"rf_glm_params_id=10\").plot1()"
   ],
   "outputs": [],
   "execution_count": null
  },
  {
   "cell_type": "markdown",
   "id": "de0d83df-b4a1-4dff-8328-1229686c538f",
   "metadata": {},
   "source": [
    "## Metrics"
   ]
  },
  {
   "cell_type": "code",
   "id": "504269cf-2b45-49d4-ba25-3376d86244b5",
   "metadata": {},
   "source": [
    "populate_alpha.populate_rf_glm_properties(verbose=True, processes=20)"
   ],
   "outputs": [],
   "execution_count": null
  },
  {
   "cell_type": "code",
   "id": "6eb9c636-983b-4a4a-8c64-93ba209ea5d8",
   "metadata": {},
   "source": [
    "FitPosDoG2DRFGLM().populate(display_progress=True, processes=10)\n",
    "FitPosGauss2DRFGLM().populate(display_progress=True, processes=10)"
   ],
   "outputs": [],
   "execution_count": null
  },
  {
   "cell_type": "markdown",
   "id": "c61a6388-1c60-46fd-b298-9b64e63b742e",
   "metadata": {},
   "source": [
    "## Fit RF"
   ]
  },
  {
   "cell_type": "markdown",
   "id": "154cfe60-4421-4f5e-8367-c0e08ce99e1a",
   "metadata": {},
   "source": [
    "### Parametric"
   ]
  },
  {
   "cell_type": "code",
   "id": "58de1daf-1d79-4567-9a52-5a524c7b57d8",
   "metadata": {},
   "source": [
    "SplitRFGLMParams()"
   ],
   "outputs": [],
   "execution_count": null
  },
  {
   "cell_type": "code",
   "id": "569418e2-6d96-4213-9d8c-601e00eb5b79",
   "metadata": {},
   "source": [
    "(SplitRFGLM() & \"rf_glm_params_id=10\").plot1()"
   ],
   "outputs": [],
   "execution_count": null
  },
  {
   "cell_type": "code",
   "id": "1e962f98-e725-4ac7-8e16-154792ecb3eb",
   "metadata": {},
   "source": [
    "(FitPosGauss2DRFGLM() & \"rf_glm_params_id=10\").plot1()"
   ],
   "outputs": [],
   "execution_count": null
  },
  {
   "cell_type": "markdown",
   "id": "7a1775c4-0533-4ccb-ad8f-70e2be1bdffa",
   "metadata": {},
   "source": [
    "### Contours"
   ]
  },
  {
   "cell_type": "code",
   "id": "98cdd9c9-43d8-4067-a47a-6eed67e17642",
   "metadata": {},
   "source": [
    "GLMContoursParams().add_default(rf_contours_params_id=1, blur_std=0., blur_npix=0., norm_kind='amp_one', levels=(0.3, 0.35, 0.4), skip_duplicates=True)\n",
    "GLMContoursParams()"
   ],
   "outputs": [],
   "execution_count": null
  },
  {
   "cell_type": "code",
   "id": "4c8bb6e4-fd53-415b-b11f-939b5ba838b6",
   "metadata": {},
   "source": [
    "GLMContours().populate(make_kwargs=dict(plot=False), processes=10, display_progress=True)"
   ],
   "outputs": [],
   "execution_count": null
  },
  {
   "cell_type": "code",
   "id": "cab8ae79-c28a-4a65-b7f0-fd12a5f494cb",
   "metadata": {},
   "source": [
    "GLMContourMetrics().populate(processes=10, display_progress=True)"
   ],
   "outputs": [],
   "execution_count": null
  },
  {
   "cell_type": "code",
   "id": "18be0f35-1c0c-4c18-8ee0-58bd390c8533",
   "metadata": {},
   "source": [
    "GLMContourOffset().populate(processes=1, display_progress=True)"
   ],
   "outputs": [],
   "execution_count": null
  },
  {
   "cell_type": "code",
   "id": "e5ff6fc4-f375-442c-90d4-75eb9f645a2d",
   "metadata": {},
   "source": [
    "key = np.random.choice((GLMContours() & \"rf_cdia_um>70\" & \"rf_glm_params_id=10\" & (SplitRFGLM() & \"split_qidx>0.3\" & \"split_qidx<0.5\")).fetch('KEY'))\n",
    "(SplitRFGLM() & key).plot1()\n",
    "(GLMContours() & key).plot1()\n",
    "(FitPosGauss2DRFGLM() & key).plot1()\n",
    "(FitPosDoG2DRFGLM() & key).plot1()"
   ],
   "outputs": [],
   "execution_count": null
  },
  {
   "cell_type": "markdown",
   "id": "b8f248a4-0e2f-41fe-a037-ec22602736cc",
   "metadata": {},
   "source": [
    "## Compare fits"
   ]
  },
  {
   "cell_type": "code",
   "id": "dee05d74-c638-4cb6-b0ef-20f946f908d8",
   "metadata": {},
   "source": [
    "df_q_rf = ((SplitRFGLM & (RoiKind & \"roi_kind='roi'\")).proj(\"split_qidx\") * (FitPosDoG2DRFGLM & (RoiKind & \"roi_kind='roi'\")).proj(\"rf_qidx\")).fetch(format='frame').reset_index()\n",
    "sns.pairplot(data=df_q_rf, vars=['split_qidx', 'rf_qidx'], hue='rf_glm_params_id', palette='tab10', kind='kde', plot_kws=dict(levels=[0.25, 0.5, 0.75]));\n",
    "\n",
    "for rf_glm_params_id, df_q_rf_i in df_q_rf.groupby(['rf_glm_params_id']):\n",
    "    print(rf_glm_params_id, np.sum((df_q_rf_i.split_qidx > 0.45) & (df_q_rf_i.rf_qidx > 0.45)))"
   ],
   "outputs": [],
   "execution_count": null
  },
  {
   "cell_type": "code",
   "id": "a4d3234c-2117-4592-9b3c-e1a16433ad53",
   "metadata": {},
   "source": [
    "plt.hist((FitGauss2DRFGLM & \"rf_glm_params_id=10\" & \"rf_qidx>0.2\").fetch('rf_cdia_um'));\n",
    "plt.hist((GLMContours & \"rf_glm_params_id=10\").fetch('rf_cdia_um'), alpha=0.5);"
   ],
   "outputs": [],
   "execution_count": null
  },
  {
   "cell_type": "code",
   "id": "b571251e-e7fd-499f-a637-ee92c65f8523",
   "metadata": {},
   "source": [
    "(SplitRFGLM() & f\"split_qidx>{0.45}\")"
   ],
   "outputs": [],
   "execution_count": null
  },
  {
   "cell_type": "code",
   "id": "32f8aa1a-12e9-4867-883a-e2486d5ec54e",
   "metadata": {},
   "source": [
    "thresh = 0.35\n",
    "(FitPosDoG2DRFGLM & f\"rf_qidx<{thresh}\" & (RoiKind & \"roi_kind='roi'\") & (SplitRFGLM() & f\"split_qidx>{thresh}\") & dict(rf_glm_params_id=10)).plot1()"
   ],
   "outputs": [],
   "execution_count": null
  },
  {
   "cell_type": "code",
   "id": "333aaa6f-75d5-47f0-a768-43f9400ee592",
   "metadata": {},
   "source": [
    "(TempRFGLMProperties() & dict(rf_glm_params_id=10)).plot();"
   ],
   "outputs": [],
   "execution_count": null
  },
  {
   "cell_type": "code",
   "id": "6513b876-e7e9-46c3-884d-94856c281931",
   "metadata": {},
   "source": [
    "def plot_glm_tab_param_ids(data_tab, param, i_list=[1, 2, 3, 4]):\n",
    "    def get_tab(i):\n",
    "        return (data_tab & dict(rf_glm_params_id=i)).proj(\n",
    "            **{f\"{param}_{i}\": param, f\"rf_glm_params_id_{i}\": 'rf_glm_params_id'}) \n",
    "\n",
    "    tab = get_tab(i_list[0])\n",
    "    for i in i_list[1:]:\n",
    "        tab *= get_tab(i)\n",
    "\n",
    "    df_param = tab.fetch(format='frame')\n",
    "\n",
    "    fig, axs = plt.subplots(1, len(i_list)-1, figsize=((len(i_list)-1)*3.5, 3), sharex='all', sharey='all')\n",
    "    for ii, i in enumerate(i_list[1:]):\n",
    "        sns.regplot(ax=axs[ii], data=df_param, x=f'{param}_{i_list[0]}', y=f'{param}_{i}',\n",
    "                    scatter_kws=dict(s=2, alpha=0.5, color='gray'), order=2)\n",
    "\n",
    "    for ax in axs.flat:\n",
    "        ax.axline(xy1=(0, 0), xy2=(1, 1), c='k')\n",
    "        ax.set_aspect('equal', 'box')\n",
    "\n",
    "    plt.tight_layout()\n",
    "    plt.show()"
   ],
   "outputs": [],
   "execution_count": null
  },
  {
   "cell_type": "code",
   "id": "6b583105-38be-475b-9633-939f883a879b",
   "metadata": {},
   "source": [
    "plot_glm_tab_param_ids(data_tab=SplitRFGLM, param='split_qidx', i_list=[1, 2, 10, ])"
   ],
   "outputs": [],
   "execution_count": null
  },
  {
   "cell_type": "code",
   "id": "df4bb744-2688-42e5-87a0-874a88e84d0d",
   "metadata": {},
   "source": [
    "RFGLMParams().fetch1()"
   ],
   "outputs": [],
   "execution_count": null
  },
  {
   "cell_type": "markdown",
   "id": "fdf11978-4eb3-4ca7-b905-5951a97bf0bb",
   "metadata": {},
   "source": [
    "## Estimate release events per second"
   ]
  },
  {
   "cell_type": "code",
   "id": "ee9e5f54-906a-49e3-a80b-51cb24c99dd3",
   "metadata": {},
   "source": [
    "EventsPerSecondParams().add_default(\n",
    "    dnoise_params_id=1, fupsample_trace=4, fupsample_stim=12, lowpass_cutoff=0, ref_time='stim',\n",
    "    fit_kind='events', pre_blur_sigma_s=0., post_blur_sigma_s=0., skip_duplicates=True)\n",
    "EventsPerSecondParams()"
   ],
   "outputs": [],
   "execution_count": null
  },
  {
   "cell_type": "code",
   "id": "cb6892e6-2ab0-4fc5-ba3d-95b346650eca",
   "metadata": {},
   "source": "EventsPerSecond().populate(display_progress=True, processes=20)",
   "outputs": [],
   "execution_count": null
  },
  {
   "cell_type": "code",
   "id": "519fd1e7-b7fe-4690-a4cd-17e06336a6e6",
   "metadata": {},
   "source": [
    "EventsPerSecond().plot1(xlim=(20, 30))"
   ],
   "outputs": [],
   "execution_count": null
  },
  {
   "cell_type": "code",
   "id": "73c367c8-e094-41ed-8a45-e153fac6605b",
   "metadata": {},
   "source": [
    "EventsPerSecond()"
   ],
   "outputs": [],
   "execution_count": null
  },
  {
   "cell_type": "code",
   "id": "ff6833c6-56ec-4d56-8431-42b071b427f8",
   "metadata": {},
   "source": [
    "key = get_primary_key(EventsPerSecond)\n",
    "time, trace, events_per_frame = (EventsPerSecond & key).fetch1('time', 'trace', 'stim')\n",
    "events_per_frame"
   ],
   "outputs": [],
   "execution_count": null
  },
  {
   "cell_type": "code",
   "id": "af9374bb-69d3-45fe-8d61-308a62978050",
   "metadata": {},
   "source": [
    "all_events_per_frame = (EventsPerSecond).fetch('stim')"
   ],
   "outputs": [],
   "execution_count": null
  },
  {
   "cell_type": "code",
   "id": "27e014ac-b650-4e6c-86cf-746aec751fa9",
   "metadata": {},
   "source": [
    "np.mean(all_events_per_frame[all_events_per_frame>0])"
   ],
   "outputs": [],
   "execution_count": null
  },
  {
   "cell_type": "code",
   "id": "c42ee43b-c333-4178-9bad-a9bb56d31d9f",
   "metadata": {},
   "source": [
    "plt.hist(all_events_per_frame, bins=100);"
   ],
   "outputs": [],
   "execution_count": null
  },
  {
   "cell_type": "code",
   "id": "8ebb62e6-7eb5-4a6b-aef9-af7e3c6cda16",
   "metadata": {},
   "source": [],
   "outputs": [],
   "execution_count": null
  }
 ],
 "metadata": {
  "kernelspec": {
   "display_name": "Python 3 (ipykernel)",
   "language": "python",
   "name": "python3"
  },
  "language_info": {
   "codemirror_mode": {
    "name": "ipython",
    "version": 3
   },
   "file_extension": ".py",
   "mimetype": "text/x-python",
   "name": "python",
   "nbconvert_exporter": "python",
   "pygments_lexer": "ipython3",
   "version": "3.11.5"
  }
 },
 "nbformat": 4,
 "nbformat_minor": 5
}
