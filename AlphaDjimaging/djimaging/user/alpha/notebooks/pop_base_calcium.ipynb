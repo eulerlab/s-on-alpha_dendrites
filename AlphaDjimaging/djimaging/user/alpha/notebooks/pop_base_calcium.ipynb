{
 "cells": [
  {
   "cell_type": "markdown",
   "metadata": {},
   "source": [
    "# Imports"
   ]
  },
  {
   "cell_type": "code",
   "metadata": {},
   "source": [
    "import seaborn as sns\n",
    "from matplotlib import pyplot as plt"
   ],
   "outputs": [],
   "execution_count": null
  },
  {
   "cell_type": "code",
   "metadata": {},
   "source": [
    "%%capture\n",
    "\n",
    "from djimaging.user.alpha.schemas.alpha_schema import *\n",
    "from djimaging.user.alpha.utils import populate_alpha\n",
    "from djimaging.utils.dj_utils import get_primary_key\n",
    "\n",
    "populate_alpha.load_alpha_config(schema_name=populate_alpha.SCHEMA_PREFIX + \"ca\")\n",
    "populate_alpha.load_alpha_schema(create_schema=True, create_tables=True)"
   ],
   "outputs": [],
   "execution_count": null
  },
  {
   "cell_type": "markdown",
   "metadata": {},
   "source": [
    "# ERD"
   ]
  },
  {
   "cell_type": "code",
   "metadata": {},
   "source": [
    "import warnings\n",
    "\n",
    "with warnings.catch_warnings():\n",
    "    warnings.simplefilter(\"ignore\", FutureWarning)\n",
    "    display(dj.ERD(schema))"
   ],
   "outputs": [],
   "execution_count": null
  },
  {
   "cell_type": "markdown",
   "metadata": {},
   "source": [
    "# Core"
   ]
  },
  {
   "cell_type": "code",
   "metadata": {},
   "source": [
    "if len(Experiment().proj()) == 0:\n",
    "    populate_alpha.populate_experiments(verbose=True)"
   ],
   "outputs": [],
   "execution_count": null
  },
  {
   "cell_type": "code",
   "metadata": {},
   "source": [
    "populate_alpha.populate_core(verbose=True, processes=20)"
   ],
   "outputs": [],
   "execution_count": null
  },
  {
   "cell_type": "code",
   "metadata": {},
   "source": [
    "(PreprocessTraces() & dict(preprocess_id=1)).plot1()"
   ],
   "outputs": [],
   "execution_count": null
  },
  {
   "cell_type": "code",
   "metadata": {},
   "source": [
    "(PreprocessTraces() & dict(preprocess_id=2)).plot1()"
   ],
   "outputs": [],
   "execution_count": null
  },
  {
   "cell_type": "markdown",
   "metadata": {},
   "source": [
    "# Cell positions"
   ]
  },
  {
   "cell_type": "code",
   "metadata": {},
   "source": [
    "populate_alpha.populate_cell_positions()\n",
    "\n",
    "for key in (RetinalFieldLocationWing() & \"wing_side='v'\").proj():\n",
    "    RetinalFieldLocationWing().update1(dict(**key, wing_side='n'))\n",
    "\n",
    "populate_alpha.populate_cell_tags()"
   ],
   "outputs": [],
   "execution_count": null
  },
  {
   "cell_type": "code",
   "metadata": {},
   "source": [
    "RetinalFieldLocationTableParams().fetch('table_path')"
   ],
   "outputs": [],
   "execution_count": null
  },
  {
   "cell_type": "code",
   "metadata": {},
   "source": [
    "RetinalFieldLocationCat().plot('n_tvd_side')"
   ],
   "outputs": [],
   "execution_count": null
  },
  {
   "cell_type": "code",
   "metadata": {},
   "source": [
    "RetinalFieldLocationWing().plot()"
   ],
   "outputs": [],
   "execution_count": null
  },
  {
   "cell_type": "markdown",
   "metadata": {},
   "source": [
    "# Field to stack matching"
   ]
  },
  {
   "cell_type": "markdown",
   "metadata": {},
   "source": [
    "## Make sure field stamps are consistent"
   ]
  },
  {
   "cell_type": "code",
   "metadata": {},
   "source": [
    "field_keys = (Field & (RoiKind & 'roi_kind=\"roi\"')).fetch('KEY')\n",
    "\n",
    "for field_key in field_keys:\n",
    "    f_xcoord_um, f_ycoord_um, f_zcoord_um = (Field & field_key).fetch('absx', 'absy', 'absz')\n",
    "    xcoord_ums, ycoord_ums, zcoord_ums = (Presentation.ScanInfo() & field_key).fetch('xcoord_um', 'ycoord_um', 'zcoord_um')\n",
    "\n",
    "    dists = ((xcoord_ums-f_xcoord_um)**2 + (ycoord_ums-f_ycoord_um)**2 + (zcoord_ums-f_zcoord_um)**2)**0.5\n",
    "\n",
    "    if np.any(dists > 10):\n",
    "        print(field_key)\n",
    "        print(dists)\n",
    "        print('x:', xcoord_ums-f_xcoord_um)\n",
    "        print('y:', ycoord_ums-f_ycoord_um)\n",
    "        print('z:', zcoord_ums-f_zcoord_um)\n",
    "        print()"
   ],
   "outputs": [],
   "execution_count": null
  },
  {
   "cell_type": "markdown",
   "metadata": {},
   "source": [
    "# Morphology"
   ]
  },
  {
   "cell_type": "code",
   "metadata": {},
   "source": [
    "populate_alpha.populate_morphology(verbose=True)"
   ],
   "outputs": [],
   "execution_count": null
  },
  {
   "cell_type": "code",
   "metadata": {},
   "source": [
    "populate_alpha.populate_additional_morph_metrics(verbose=True)"
   ],
   "outputs": [],
   "execution_count": null
  },
  {
   "cell_type": "code",
   "metadata": {},
   "source": [
    "ConvexHull().plot1();"
   ],
   "outputs": [],
   "execution_count": null
  },
  {
   "cell_type": "markdown",
   "metadata": {},
   "source": [
    "## Match fields"
   ]
  },
  {
   "cell_type": "code",
   "metadata": {},
   "source": [
    "populate_alpha.populate_fit_to_morphology(verbose=True)"
   ],
   "outputs": [],
   "execution_count": null
  },
  {
   "cell_type": "markdown",
   "metadata": {},
   "source": [
    "### Detect unmatched Fields\n",
    "\n",
    "Find Fields with not match on the morphology. <br>\n",
    "Add them to the delete keys in the populate script to remove them from the analysis."
   ]
  },
  {
   "cell_type": "code",
   "metadata": {},
   "source": [
    "fig, axs = plt.subplots(1, 2, figsize=(12, 3))\n",
    "sns.histplot(ax=axs[0], data=FieldStackPos.fetch(format='frame'), x='rec_cpos_stack_fit_dist')\n",
    "sns.histplot(ax=axs[1], data=FieldStackPos.FitInfo.fetch(format='frame'), x='score')\n",
    "plt.show()"
   ],
   "outputs": [],
   "execution_count": null
  },
  {
   "cell_type": "code",
   "metadata": {},
   "source": [
    "for key in (FieldStackPos() & \"rec_c_warning_flag = 1\"):\n",
    "    FieldStackPos().plot1(key=key)\n",
    "    plt.show()\n",
    "print('done')"
   ],
   "outputs": [],
   "execution_count": null
  },
  {
   "cell_type": "code",
   "metadata": {},
   "source": [
    "# for row in (FieldStackPos.FitInfo() & \"score<-2\"):\n",
    "#     FieldStackPos().plot1(key=get_primary_key(FieldStackPos(), key=row))"
   ],
   "outputs": [],
   "execution_count": null
  },
  {
   "cell_type": "code",
   "metadata": {},
   "source": [
    "for key in (FieldStackPos() & \"rec_cpos_stack_fit_dist>40\").fetch('KEY'):\n",
    "    print(key)\n",
    "    FieldStackPos().plot1(key=key)"
   ],
   "outputs": [],
   "execution_count": null
  },
  {
   "cell_type": "markdown",
   "metadata": {},
   "source": [
    "## Plot ROIs on stack"
   ]
  },
  {
   "cell_type": "markdown",
   "metadata": {},
   "source": [
    "### ROIs on Morph"
   ]
  },
  {
   "cell_type": "code",
   "metadata": {},
   "source": [
    "FieldPosMetrics().populate(processes=20, display_progress=True)"
   ],
   "outputs": [],
   "execution_count": null
  },
  {
   "cell_type": "code",
   "metadata": {},
   "source": [
    "FieldPosMetrics().plot1()"
   ],
   "outputs": [],
   "execution_count": null
  },
  {
   "cell_type": "markdown",
   "metadata": {},
   "source": [
    "### Relative ROI positions"
   ]
  },
  {
   "cell_type": "code",
   "metadata": {},
   "source": [
    "RelativeRoiPos().populate(display_progress=True, processes=20)"
   ],
   "outputs": [],
   "execution_count": null
  },
  {
   "cell_type": "code",
   "metadata": {},
   "source": [
    "pres_key = get_primary_key(Presentation)\n",
    "Presentation().plot1(pres_key, plot_field_rois=False)\n",
    "RelativeRoiPos().plot(pres_key)"
   ],
   "outputs": [],
   "execution_count": null
  },
  {
   "cell_type": "code",
   "metadata": {},
   "source": [
    "(FieldPosMetrics & pres_key).plot1()"
   ],
   "outputs": [],
   "execution_count": null
  },
  {
   "cell_type": "code",
   "metadata": {},
   "source": [
    "# Sanity check\n",
    "df_roi_pos = (FieldPosMetrics.RoiPosMetrics().proj('roi_pos_xyz') * RelativeRoiPos() & [dict(stim_name='noise_2500'), dict(stim_name='noise_1500')]).fetch(format='frame').reset_index()\n",
    "df_roi_pos['roi_pos_x'] = df_roi_pos['roi_pos_xyz'].apply(lambda x: x[0])\n",
    "df_roi_pos['roi_pos_y'] = df_roi_pos['roi_pos_xyz'].apply(lambda x: x[1])\n",
    "\n",
    "groups = [group for _, group in df_roi_pos.groupby(['experimenter', 'date', 'exp_num', 'field'])]\n",
    "df_field = np.random.choice(np.asarray(groups, dtype=object))\n",
    "\n",
    "fig, axs = plt.subplots(1, 2, figsize=(12, 3))\n",
    "sns.scatterplot(ax=axs[0], data=df_field, x='roi_pos_x', y='roi_pos_y')\n",
    "sns.scatterplot(ax=axs[1], data=df_field, x='roi_dx_um', y='roi_dy_um')\n",
    "plt.tight_layout()\n",
    "plt.show()"
   ],
   "outputs": [],
   "execution_count": null
  },
  {
   "cell_type": "markdown",
   "metadata": {
    "tags": []
   },
   "source": [
    "# Field and soma ROIs\n",
    "\n",
    "Field ROIs are simply all ROIs as one"
   ]
  },
  {
   "cell_type": "code",
   "metadata": {},
   "source": [
    "populate_alpha.add_field_rois(verbose=True)"
   ],
   "outputs": [],
   "execution_count": null
  },
  {
   "cell_type": "code",
   "metadata": {},
   "source": [
    "FieldRoiPosMetrics().populate(display_progress=True, processes=1)"
   ],
   "outputs": [],
   "execution_count": null
  },
  {
   "cell_type": "code",
   "metadata": {},
   "source": [
    "RoiKind().populate(display_progress=True, processes=20)\n",
    "RoiKind()"
   ],
   "outputs": [],
   "execution_count": null
  },
  {
   "cell_type": "code",
   "metadata": {},
   "source": [
    "plt.hist(RoiKind().fetch('roi_kind'));"
   ],
   "outputs": [],
   "execution_count": null
  },
  {
   "cell_type": "code",
   "metadata": {},
   "source": [
    "# Populate core after adding Field ROIs\n",
    "populate_alpha.populate_core(verbose=True)\n",
    "populate_alpha.populate_metrics(verbose=True, processes=20)"
   ],
   "outputs": [],
   "execution_count": null
  },
  {
   "cell_type": "markdown",
   "metadata": {},
   "source": [
    "## Comare proximal dendrites / soma ROIs"
   ]
  },
  {
   "cell_type": "code",
   "metadata": {},
   "source": [
    "df_soma_keys = (Presentation & (RoiKind & \"roi_kind='soma'\") & [\"stim_name='noise_1500'\", \"stim_name='noise_2500'\"]).proj().fetch(format='frame').reset_index()\n",
    "df_soma_keys['sort_name'] = df_soma_keys.apply(lambda r: r['field'] if r['cond1'] == 'control' else r['cond1'] + r['field'] + '_', axis=1)\n",
    "df_soma_keys['field_base'] = df_soma_keys.apply(lambda r: r['field'][:2].lower() if r['cond1'] == 'control' else r['cond1'].lower(), axis=1)\n",
    "df_soma_keys = df_soma_keys.sort_values(['date', 'exp_num', 'sort_name'])"
   ],
   "outputs": [],
   "execution_count": null
  },
  {
   "cell_type": "code",
   "metadata": {},
   "source": [
    "df_soma_keys.head(3)"
   ],
   "outputs": [],
   "execution_count": null
  },
  {
   "cell_type": "code",
   "metadata": {},
   "source": [
    "# Find any hand-drawn SomaROIs that are not soma ROIs in the actual definition\n",
    "for (date, exp_num, field_base), group in df_soma_keys.groupby(['date', 'exp_num', 'field_base']):\n",
    "\n",
    "    if 'control' in group['cond1'].values:\n",
    "        continue\n",
    "    else:\n",
    "        print(group['cond1'].values)\n",
    "    \n",
    "    base_key = dict(date=date, exp_num=exp_num, field=field_base)\n",
    "\n",
    "    print(np.sort((FieldPosMetrics.RoiPosMetrics & base_key).fetch('d_dist_to_soma')))\n",
    "    \n",
    "    (Field & base_key).plot1()\n",
    "    plt.show()\n",
    "    \n",
    "    for _, key in group.iterrows():\n",
    "        (Field & key.to_dict()).plot1()\n",
    "        plt.show()\n",
    "\n",
    "    print(\"---------------------------\")"
   ],
   "outputs": [],
   "execution_count": null
  },
  {
   "cell_type": "markdown",
   "metadata": {},
   "source": [
    "## Look at true soma responses\n",
    "i.e. compare proximal dendrites to somatic responses"
   ]
  },
  {
   "cell_type": "code",
   "metadata": {},
   "source": [
    "ch_avgs, potential_soma_keys = (Field.StackAverages() & \"ch_name='wDataCh0'\" & (RoiKind & \"roi_kind='field'\") & (FieldRoiPosMetrics() & f\"d_dist_to_soma<{70}\")).fetch('ch_average', 'KEY')\n",
    "len(ch_avgs)"
   ],
   "outputs": [],
   "execution_count": null
  },
  {
   "cell_type": "code",
   "metadata": {},
   "source": [
    "from djimaging.utils import math_utils\n",
    "\n",
    "n_cols = int(np.ceil(np.sqrt(len(ch_avgs))))\n",
    "n_rows = int(np.ceil(len(ch_avgs) / n_cols))\n",
    "\n",
    "fig, axs = plt.subplots(ncols=n_cols, nrows=n_rows, figsize=(15, 10), sharex='all', sharey='all')\n",
    "axs = axs.flatten()\n",
    "\n",
    "for i, (ax, ch_avg, key) in enumerate(zip(axs, ch_avgs, potential_soma_keys)):\n",
    "    norm_avg = math_utils.normalize_soft_zero_one(ch_avg)\n",
    "    ax.imshow((norm_avg**0.7).T)\n",
    "    ax.set_title(i)"
   ],
   "outputs": [],
   "execution_count": null
  },
  {
   "cell_type": "code",
   "metadata": {},
   "source": [
    "true_soma_idxs = [3, 8, 12]\n",
    "true_soma_keys = [potential_soma_keys[idx] for idx in true_soma_idxs]"
   ],
   "outputs": [],
   "execution_count": null
  },
  {
   "cell_type": "code",
   "metadata": {},
   "source": [
    "for idx, key in zip(true_soma_idxs, true_soma_keys):\n",
    "    key = key.copy()\n",
    "    key['field'] = key['field'][:-8]\n",
    "    print(idx)\n",
    "    print(key)\n",
    "    FieldStackPos().plot1(key=key)\n",
    "    plt.show()"
   ],
   "outputs": [],
   "execution_count": null
  },
  {
   "cell_type": "code",
   "metadata": {},
   "source": [
    "# Manually draw soma ROIs\n",
    "from djimaging.autorois.roi_canvas import InteractiveRoiCanvas\n",
    "from djimaging.utils import scanm_utils\n",
    "import os\n",
    "\n",
    "only_new = False\n",
    "\n",
    "for key in true_soma_keys[0:]:\n",
    "    filepaths, stim_names = (Presentation & key).fetch('h5_header', 'stim_name')\n",
    "    \n",
    "    outputfiles = []\n",
    "    for filepath in filepaths:\n",
    "        outputfiles.append(filepath.replace('.h5', '_TrueSomaROI.pkl'))\n",
    "\n",
    "    if only_new:\n",
    "        if np.all([os.path.exists(outputfile) for outputfile in outputfiles]):\n",
    "            continue\n",
    "\n",
    "    ch0_stacks = []\n",
    "    ch1_stacks = []\n",
    "    \n",
    "    for filepath in filepaths:\n",
    "        ch_stacks, wparams = scanm_utils.load_stacks_from_h5(filepath)\n",
    "        ch0_stacks.append(ch_stacks['wDataCh0'])\n",
    "        ch1_stacks.append(ch_stacks['wDataCh1'])\n",
    "    \n",
    "    main_stim_idx = np.argmax(['noise' in stim_name for stim_name in stim_names])\n",
    "    gui = InteractiveRoiCanvas(ch0_stacks=ch0_stacks, ch1_stacks=ch1_stacks, output_files=outputfiles,\n",
    "                               canvas_width=25, stim_names=stim_names, main_stim_idx=main_stim_idx)\n",
    "\n",
    "    (Field & key).plot1()\n",
    "    plt.show()\n",
    "    display(gui.start_gui())\n",
    "\n",
    "    break"
   ],
   "outputs": [],
   "execution_count": null
  },
  {
   "cell_type": "code",
   "metadata": {},
   "source": [
    "from djimaging.utils import mask_utils\n",
    "import pickle\n",
    "\n",
    "for key in true_soma_keys:\n",
    "    key = (Field & key).fetch1('KEY')\n",
    "    \n",
    "    # Get data\n",
    "    field_entry = (Field & key).fetch1()\n",
    "    field_mask_entry = (Field.RoiMask & key).fetch1()\n",
    "    field_avg_entries = (Field.StackAverages & key).fetch()\n",
    "\n",
    "    pres_entries = (Presentation & key).fetch()\n",
    "    pres_info_entries = (Presentation.ScanInfo & key).fetch()\n",
    "    pres_mask_entries = (Presentation.RoiMask & key).fetch()\n",
    "    pres_avg_entries = (Presentation.StackAverages & key).fetch()\n",
    "\n",
    "    # Change data\n",
    "\n",
    "    ## Change field name\n",
    "    field_name = field_entry['field'].replace('FieldROI', 'TrueSomaROI')\n",
    "    new_key = key.copy()\n",
    "    new_key['field'] = field_name\n",
    "    \n",
    "    field_entry['field'] = field_name\n",
    "    field_mask_entry['field'] = field_name\n",
    "    for entry in field_avg_entries:\n",
    "        entry['field'] = field_name\n",
    "    for entry in pres_entries:\n",
    "        entry['field'] = field_name\n",
    "    for entry in pres_mask_entries:\n",
    "        entry['field'] = field_name\n",
    "    for entry in pres_avg_entries:\n",
    "        entry['field'] = field_name\n",
    "    for entry in pres_info_entries:\n",
    "        entry['field'] = field_name\n",
    "\n",
    "    if len(Field & new_key) > 0:\n",
    "        print(f'Entry already present {new_key}')\n",
    "        continue\n",
    "    \n",
    "    ## Load ROI masks\n",
    "    roi_masks = []\n",
    "    for pres_entry in pres_entries:\n",
    "        filepath = pres_entry[7]\n",
    "        roimask_file = filepath.replace('.h5', '_TrueSomaROI.pkl')\n",
    "        \n",
    "        with open(roimask_file, 'rb') as f:\n",
    "            roi_mask = mask_utils.to_igor_format(pickle.load(f).copy())\n",
    "        roi_masks.append(roi_mask)\n",
    "\n",
    "    ## Change ROI masks\n",
    "    main_stim_idx = np.argmax(['noise' in pres_entry[\"stim_name\"] for pres_entry in pres_entries])\n",
    "\n",
    "    field_mask_entry['roi_mask'] = roi_masks[main_stim_idx]\n",
    "    for entry, roi_mask in zip(pres_mask_entries, roi_masks):\n",
    "        pres_and_field_mask = mask_utils.compare_roi_masks(roi_mask=roi_mask, ref_roi_mask=roi_masks[main_stim_idx], max_shift=2, bg_val=1)[0]\n",
    "        entry['roi_mask'] = roi_mask\n",
    "        entry['pres_and_field_mask'] = pres_and_field_mask\n",
    "\n",
    "    print(f'Adding {new_key}')\n",
    "    \n",
    "    # Insert\n",
    "    Field().insert1(field_entry, allow_direct_insert=True)\n",
    "    Field.RoiMask().insert1(field_mask_entry, allow_direct_insert=True)\n",
    "    Field.StackAverages().insert(field_avg_entries, allow_direct_insert=True)\n",
    "\n",
    "    Presentation().insert(pres_entries, allow_direct_insert=True)\n",
    "    Presentation.ScanInfo().insert(pres_info_entries, allow_direct_insert=True)\n",
    "    Presentation.RoiMask().insert(pres_mask_entries, allow_direct_insert=True)\n",
    "    Presentation.StackAverages().insert(pres_avg_entries, allow_direct_insert=True)"
   ],
   "outputs": [],
   "execution_count": null
  },
  {
   "cell_type": "code",
   "metadata": {},
   "source": [
    "RoiKind().populate(display_progress=True)\n",
    "np.unique(RoiKind().fetch('roi_kind'), return_counts=True)"
   ],
   "outputs": [],
   "execution_count": null
  },
  {
   "cell_type": "code",
   "metadata": {},
   "source": [
    "populate_alpha.populate_core()"
   ],
   "outputs": [],
   "execution_count": null
  },
  {
   "cell_type": "code",
   "metadata": {},
   "source": [
    "for key in (Averages & (RoiKind & dict(roi_kind='soma')) & dict(stim_name='gChirp')).fetch('KEY'):\n",
    "    print((ChirpQI & key).fetch1('qidx'))\n",
    "    Averages().plot1(key)\n",
    "\n",
    "for key in (Averages & (RoiKind & dict(roi_kind='soma')) & dict(stim_name='lChirp')).fetch('KEY'):\n",
    "    print((ChirpQI & key).fetch1('qidx'))\n",
    "    Averages().plot1(key)"
   ],
   "outputs": [],
   "execution_count": null
  },
  {
   "cell_type": "markdown",
   "metadata": {},
   "source": [
    "# Responses"
   ]
  },
  {
   "cell_type": "markdown",
   "metadata": {},
   "source": [
    "## Surround index"
   ]
  },
  {
   "cell_type": "code",
   "metadata": {},
   "source": [
    "SineSpotSurroundIndex().populate(processes=20, display_progress=True)"
   ],
   "outputs": [],
   "execution_count": null
  },
  {
   "cell_type": "code",
   "metadata": {},
   "source": [
    "SineSpotSurroundIndex().plot1()"
   ],
   "outputs": [],
   "execution_count": null
  },
  {
   "cell_type": "code",
   "metadata": {},
   "source": [
    "plt.hist(SineSpotSurroundIndex().fetch('sinespot_surround_index'), bins=51);"
   ],
   "outputs": [],
   "execution_count": null
  },
  {
   "cell_type": "code",
   "metadata": {},
   "source": [
    "ChirpSurroundIndex().populate(processes=20, display_progress=True)"
   ],
   "outputs": [],
   "execution_count": null
  },
  {
   "cell_type": "code",
   "metadata": {},
   "source": [
    "ChirpSurroundIndex().plot1()"
   ],
   "outputs": [],
   "execution_count": null
  },
  {
   "cell_type": "code",
   "metadata": {},
   "source": [
    "plt.hist(ChirpSurroundIndex().fetch('chirp_surround_index'), bins=51);"
   ],
   "outputs": [],
   "execution_count": null
  },
  {
   "cell_type": "markdown",
   "metadata": {},
   "source": [
    "## Quality"
   ]
  },
  {
   "cell_type": "code",
   "metadata": {},
   "source": [
    "populate_alpha.populate_quality(verbose=True, processes=20)"
   ],
   "outputs": [],
   "execution_count": null
  },
  {
   "cell_type": "code",
   "metadata": {},
   "source": [
    "QualityParams()"
   ],
   "outputs": [],
   "execution_count": null
  },
  {
   "cell_type": "code",
   "metadata": {},
   "source": [
    "(QualityIndex() & (RoiKind & \"roi_kind='roi'\")).plot()"
   ],
   "outputs": [],
   "execution_count": null
  },
  {
   "cell_type": "code",
   "metadata": {},
   "source": [
    "(ChirpQI() & (RoiKind & \"roi_kind='field'\")).plot()"
   ],
   "outputs": [],
   "execution_count": null
  },
  {
   "cell_type": "code",
   "metadata": {},
   "source": [
    "(QualityIndex() & (RoiKind & \"roi_kind='soma'\")).plot()"
   ],
   "outputs": [],
   "execution_count": null
  },
  {
   "cell_type": "markdown",
   "metadata": {},
   "source": [
    "# Text"
   ]
  },
  {
   "cell_type": "code",
   "metadata": {},
   "source": [
    "np.unique([tt.shape[1] for tt in (Snippets() & dict(stim_name='gChirp')).fetch(\"triggertimes_snippets\")], return_counts=True)"
   ],
   "outputs": [],
   "execution_count": null
  },
  {
   "cell_type": "code",
   "metadata": {},
   "source": [
    "np.unique([tt.shape[1] for tt in (Snippets() & dict(stim_name='lChirp')).fetch(\"triggertimes_snippets\")], return_counts=True)"
   ],
   "outputs": [],
   "execution_count": null
  },
  {
   "cell_type": "code",
   "metadata": {},
   "source": [
    "np.unique([tt.shape[1] for tt in (Snippets() & dict(stim_name='sinespot')).fetch(\"triggertimes_snippets\")], return_counts=True)"
   ],
   "outputs": [],
   "execution_count": null
  },
  {
   "cell_type": "markdown",
   "metadata": {},
   "source": [
    "# Convex Hull"
   ]
  },
  {
   "cell_type": "code",
   "metadata": {},
   "source": [
    "ConvexHull().plot1()"
   ],
   "outputs": [],
   "execution_count": null
  },
  {
   "cell_type": "code",
   "metadata": {},
   "source": [
    "df_convex_hull = (ConvexHull() * RetinalFieldLocationWing().proj(group=\"wing_side\")).fetch(format='frame')\n",
    "df_convex_hull.head()"
   ],
   "outputs": [],
   "execution_count": null
  },
  {
   "cell_type": "code",
   "metadata": {},
   "source": [
    "df_convex_hull.to_csv('data/convex_hull_calcium.csv')"
   ],
   "outputs": [],
   "execution_count": null
  },
  {
   "cell_type": "code",
   "metadata": {},
   "source": [],
   "outputs": [],
   "execution_count": null
  }
 ],
 "metadata": {
  "kernelspec": {
   "display_name": "Python 3 (ipykernel)",
   "language": "python",
   "name": "python3"
  },
  "language_info": {
   "codemirror_mode": {
    "name": "ipython",
    "version": 3
   },
   "file_extension": ".py",
   "mimetype": "text/x-python",
   "name": "python",
   "nbconvert_exporter": "python",
   "pygments_lexer": "ipython3",
   "version": "3.10.12"
  },
  "widgets": {
   "application/vnd.jupyter.widget-state+json": {
    "state": {},
    "version_major": 2,
    "version_minor": 0
   }
  }
 },
 "nbformat": 4,
 "nbformat_minor": 4
}
