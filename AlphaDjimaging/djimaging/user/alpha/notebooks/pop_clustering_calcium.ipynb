{
 "cells": [
  {
   "cell_type": "markdown",
   "id": "1c5325f4-84a4-49c7-9c2c-408de4aa076a",
   "metadata": {},
   "source": [
    "# Readme\n",
    "\n",
    "Cluster data"
   ]
  },
  {
   "cell_type": "markdown",
   "id": "748f9b9c-8320-44f3-8427-d93268ba7829",
   "metadata": {},
   "source": [
    "# Imports"
   ]
  },
  {
   "cell_type": "code",
   "id": "f70068d2-6b77-474c-ab66-eb3b52123795",
   "metadata": {},
   "source": "from matplotlib import pyplot as plt",
   "outputs": [],
   "execution_count": null
  },
  {
   "cell_type": "code",
   "id": "578a8c5b-a7a0-40c1-9b44-d61bbebac349",
   "metadata": {},
   "source": [
    "from djimaging.user.alpha.schemas.alpha_schema import *\n",
    "from djimaging.user.alpha.utils import populate_alpha\n",
    "\n",
    "populate_alpha.load_alpha_config(schema_name=populate_alpha.SCHEMA_PREFIX + \"ca\")\n",
    "populate_alpha.load_alpha_schema(create_schema=False, create_tables=False)"
   ],
   "outputs": [],
   "execution_count": null
  },
  {
   "cell_type": "code",
   "id": "11a5e076-b0d3-419a-9545-a921e98c45d6",
   "metadata": {},
   "source": [
    "schema"
   ],
   "outputs": [],
   "execution_count": null
  },
  {
   "cell_type": "markdown",
   "id": "93f0d2c1-8de8-47c0-8fd3-f5e33b7bec55",
   "metadata": {},
   "source": [
    "# Clustering"
   ]
  },
  {
   "cell_type": "markdown",
   "id": "c6a9bce5-01b2-4571-93f6-b1451ae26db6",
   "metadata": {},
   "source": [
    "## Features"
   ]
  },
  {
   "cell_type": "code",
   "id": "8a6e399f-c95a-462c-aa6f-ace719866523",
   "metadata": {},
   "source": [
    "FeaturesParams().add(features_id=1, kind='none', params_dict=dict(roi_filter_restr=dict(quality_params_id=1)),\n",
    "                     stim_names='gChirp_lChirp', ncomps='', norm_trace=False, skip_duplicates=True)\n",
    "FeaturesParams()"
   ],
   "outputs": [],
   "execution_count": null
  },
  {
   "cell_type": "code",
   "id": "67612b50-af96-4bdc-8dde-ed446d0fb10f",
   "metadata": {},
   "source": [
    "Features().populate(display_progress=True)"
   ],
   "outputs": [],
   "execution_count": null
  },
  {
   "cell_type": "code",
   "id": "10ef646b-9de5-48e4-8cc5-29fbe5b3ead6",
   "metadata": {},
   "source": [
    "for features_id in Features.fetch('features_id'):\n",
    "    (Features() & dict(features_id=features_id)).plot1_components(sort=True)"
   ],
   "outputs": [],
   "execution_count": null
  },
  {
   "cell_type": "code",
   "id": "79f1cbd3-4ee4-4e6b-b9b2-80f144f769bf",
   "metadata": {},
   "source": [
    "for features_id in Features.fetch('features_id'):\n",
    "    (Features() & dict(features_id=features_id)).plot1_traces()"
   ],
   "outputs": [],
   "execution_count": null
  },
  {
   "cell_type": "markdown",
   "id": "40d40674-f2b0-4086-8a93-41680e7407f2",
   "metadata": {
    "tags": []
   },
   "source": [
    "## Clustering"
   ]
  },
  {
   "cell_type": "code",
   "id": "3c962be2-48a7-46ff-b107-9c09dfe1a800",
   "metadata": {},
   "source": [
    "ClusteringParameters().add(clustering_id=1, min_count=0, kind='hierarchical_ward', params_dict=dict(distance_threshold=110), skip_duplicates=True)\n",
    "ClusteringParameters()"
   ],
   "outputs": [],
   "execution_count": null
  },
  {
   "cell_type": "code",
   "id": "a5a31dee-0773-462c-9cb3-4c74c7487cf5",
   "metadata": {},
   "source": [
    "Clustering().populate(display_progress=True)\n",
    "Clustering()"
   ],
   "outputs": [],
   "execution_count": null
  },
  {
   "cell_type": "code",
   "id": "09cf0fa3-3d08-4c1b-a91b-1c6ab77bfb27",
   "metadata": {},
   "source": [
    "for key in (Clustering & \"clustering_id=1\").proj():\n",
    "    (Clustering() & key).plot1()\n",
    "    plt.show()"
   ],
   "outputs": [],
   "execution_count": null
  },
  {
   "cell_type": "code",
   "id": "169c193c-5b55-454e-b3fd-c34dd37fbd90",
   "metadata": {},
   "source": [
    "for key in (Clustering & \"clustering_id=1\").proj():\n",
    "    (Clustering() & key).plot1_heatmaps()\n",
    "    plt.show()"
   ],
   "outputs": [],
   "execution_count": null
  },
  {
   "cell_type": "code",
   "id": "0709e3da-0c89-457a-9387-4b694519c678",
   "metadata": {},
   "source": [
    "for key in (Clustering & \"clustering_id=1\").proj():\n",
    "    (Clustering() & key).plot1_averages()\n",
    "    plt.show()"
   ],
   "outputs": [],
   "execution_count": null
  },
  {
   "cell_type": "code",
   "id": "14f1334e-0802-4600-85da-0d80ffdc98e9",
   "metadata": {},
   "source": [],
   "outputs": [],
   "execution_count": null
  }
 ],
 "metadata": {
  "kernelspec": {
   "display_name": "Python 3 (ipykernel)",
   "language": "python",
   "name": "python3"
  },
  "language_info": {
   "codemirror_mode": {
    "name": "ipython",
    "version": 3
   },
   "file_extension": ".py",
   "mimetype": "text/x-python",
   "name": "python",
   "nbconvert_exporter": "python",
   "pygments_lexer": "ipython3",
   "version": "3.11.5"
  }
 },
 "nbformat": 4,
 "nbformat_minor": 5
}
